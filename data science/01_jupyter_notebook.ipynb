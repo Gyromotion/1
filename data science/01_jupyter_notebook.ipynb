{
 "cells": [
  {
   "cell_type": "markdown",
   "metadata": {},
   "source": [
    "# Jupyter Notebooks\n",
    "\n",
    "In the couple of years Jupyter Notebooks has grown into what’s widely considered one of the most important tools in the modern scientific Python computing stack. While it does not provide any computational or data analytical tools by itself, Jupyter Notebooks is designed from the ground up to maximize your productivity in interactive computing, code sharing, teaching and software development. \n",
    "\n",
    "It encourages an *execute-explore* workflow instead of the typical *edit-compile-run* workflow of many other programming languages. It also provides very tight integration with the operating system’s shell and file system.\n",
    "\n",
    "You have already using a Jupyter Notebook. If you have learnt python with us, you might have already realize how powerful Jupyter Notebooks can be. We will really recommend you to learn some more jupyter keyboard shortcuts, this will imporve your productivity by 2-3 times."
   ]
  },
  {
   "cell_type": "markdown",
   "metadata": {},
   "source": [
    "In this chapter, we will discuss some important features of Jupyter Notebooks that every data science practitioners must know."
   ]
  },
  {
   "cell_type": "markdown",
   "metadata": {},
   "source": [
    "## Introspection \n",
    "Using a question mark (?) before or after a variable will display some general information about the object: "
   ]
  },
  {
   "cell_type": "code",
   "execution_count": 34,
   "metadata": {},
   "outputs": [],
   "source": [
    "a = range(10)\n",
    "a?"
   ]
  },
  {
   "cell_type": "markdown",
   "metadata": {},
   "source": [
    "This is referred to as *object introspection*. If the object is a function or instance method, the docstring, if defined, will also be shown.\n",
    "\n",
    "Using `??` will also show the function’s source code if possible."
   ]
  },
  {
   "cell_type": "code",
   "execution_count": 2,
   "metadata": {},
   "outputs": [],
   "source": [
    "import numpy as np\n",
    "\n",
    "np.mean??"
   ]
  },
  {
   "cell_type": "markdown",
   "metadata": {},
   "source": [
    "`?` has a final usage, which is for searching the namespace in a manner similar to the standard UNIX or Windows command line. A number of characters combined with the wildcard (*) will show all names matching the wildcard expression. For example, we could get a list of all functions in the top level NumPy namespace containing *rand*: "
   ]
  },
  {
   "cell_type": "code",
   "execution_count": 16,
   "metadata": {},
   "outputs": [],
   "source": [
    "np.random.*rand*?"
   ]
  },
  {
   "cell_type": "markdown",
   "metadata": {},
   "source": [
    "## Input and Output Variables\n",
    "\n",
    "Forgetting to assign the result of a function call to a variable can be very annoying. Fortunately, IPython stores references to both the input (the text that you type) and output (the object that is returned) in special variables.\n",
    "\n",
    "Input variables are stored in variables named like `_iX`, where *X* is the input line number. For each such input variables there is a corresponding output variable `_X`. For example:"
   ]
  },
  {
   "cell_type": "code",
   "execution_count": 4,
   "metadata": {},
   "outputs": [],
   "source": [
    "a = 'aiadventures'"
   ]
  },
  {
   "cell_type": "code",
   "execution_count": 5,
   "metadata": {},
   "outputs": [
    {
     "data": {
      "text/plain": [
       "'aiadventures'"
      ]
     },
     "execution_count": 5,
     "metadata": {},
     "output_type": "execute_result"
    }
   ],
   "source": [
    "a"
   ]
  },
  {
   "cell_type": "code",
   "execution_count": 6,
   "metadata": {},
   "outputs": [
    {
     "data": {
      "text/plain": [
       "'a'"
      ]
     },
     "execution_count": 6,
     "metadata": {},
     "output_type": "execute_result"
    }
   ],
   "source": [
    "_i5 # Input string"
   ]
  },
  {
   "cell_type": "code",
   "execution_count": 7,
   "metadata": {},
   "outputs": [
    {
     "data": {
      "text/plain": [
       "'aiadventures'"
      ]
     },
     "execution_count": 7,
     "metadata": {},
     "output_type": "execute_result"
    }
   ],
   "source": [
    "_5 # output"
   ]
  },
  {
   "cell_type": "markdown",
   "metadata": {},
   "source": [
    "## Magic commands\n",
    "\n",
    "Jupyter Notebooks has many special commands, known as “magic” commands, which are designed to faciliate common tasks and enable you to easily control the behavior of the `IPython` system. A magic command is any command prefixed by the the percent symbol `%`. You can find all the built-in magics [here](https://ipython.readthedocs.io/en/stable/interactive/magics.html). "
   ]
  },
  {
   "cell_type": "markdown",
   "metadata": {},
   "source": [
    "Here are some frequently used magic command. They can be of great help. Try using them often.\n",
    "\n",
    "| Command     | Description                                          |\n",
    "|-------------|------------------------------------------------------|\n",
    "| `%magic`      | Display detailed documentation for all of the available magic commands |\n",
    "| `%run`        | Run a Python script inside IPython |\n",
    "| `%time`       | Report the execution time of single statement |\n",
    "| `%timeit`     | Run a statement multiple times to compute an emsemble average execution time |\n",
    "| `%who`, `%whos` | Display variables defined in interactive namespace, with varying levels of information / verbosity |\n"
   ]
  },
  {
   "cell_type": "markdown",
   "metadata": {},
   "source": [
    "Magic commands can be viewed as command line programs to be run within the `IPython` system. Many of them have additional “command line” options, which can all be viewed (as you might expect) using ?: "
   ]
  },
  {
   "cell_type": "code",
   "execution_count": 8,
   "metadata": {},
   "outputs": [],
   "source": [
    "%timeit?"
   ]
  },
  {
   "cell_type": "markdown",
   "metadata": {},
   "source": [
    "We will now discuss two of the most important magic commands. `%time` and `%timeit`"
   ]
  },
  {
   "cell_type": "markdown",
   "metadata": {},
   "source": [
    "### Execution Time \n",
    "\n",
    "For larger-scale or longer-running data analysis applications, you may wish to measure the execution time of various components or of individual statements or function calls. You may want a report of which functions are taking up the most time in a complex process. Fortunately, IPython enables you to get this information very easily while you are developing and testing your code\n",
    "\n",
    "Timing code by hand using the built-in time module and its functions time.clock and time.time is often tedious and repetitive, as you must write the same uninteresting boilerplate code: \n",
    "\n",
    "```{code-block} python\n",
    "\n",
    "\n",
    "import time \n",
    "start = time.time() \n",
    "for i in range(iterations):    \n",
    "    # some code to run here \n",
    "elapsed_per = (time.time() - start) / iterations\n",
    "\n",
    "\n",
    "```\n",
    "\n",
    "Since this is such a common operation, IPython has two magic functions `%time` and `%timeit` to automate this process for you. `%time` runs a statement once, reporting the total execution time. Suppose we had a large `list of strings` and we wanted to compare different methods of selecting all strings starting with a particular prefix. Here is a simple list of 500,000 strings and two identical methods of selecting only the ones that start with 'An': "
   ]
  },
  {
   "cell_type": "code",
   "execution_count": 9,
   "metadata": {},
   "outputs": [],
   "source": [
    "names = ['Ankit', 'Ankur', 'Pranav', 'Saurabh', 'Vikas'] * 100000"
   ]
  },
  {
   "cell_type": "code",
   "execution_count": 10,
   "metadata": {},
   "outputs": [
    {
     "name": "stdout",
     "output_type": "stream",
     "text": [
      "Wall time: 96 ms\n"
     ]
    }
   ],
   "source": [
    "%time method1 = [n for n in names if n.startswith('An')]"
   ]
  },
  {
   "cell_type": "code",
   "execution_count": 11,
   "metadata": {},
   "outputs": [
    {
     "name": "stdout",
     "output_type": "stream",
     "text": [
      "Wall time: 72 ms\n"
     ]
    }
   ],
   "source": [
    "%time method2 = [n for n in names if n[:1] == 'An']"
   ]
  },
  {
   "cell_type": "markdown",
   "metadata": {},
   "source": [
    "The *Wall time* is the main number of interest. So, it looks like the first method takes more than twice as long, but it’s not a very precise measurement. If you try %time-ing those statements multiple times yourself, you’ll find that the results are somewhat variable. To get a more precise measurement, use the `%timeit` magic function. Given an arbitrary statement, it has a heuristic to run a statement multiple times to produce a fairly accurate average runtime. "
   ]
  },
  {
   "cell_type": "code",
   "execution_count": 12,
   "metadata": {},
   "outputs": [
    {
     "name": "stdout",
     "output_type": "stream",
     "text": [
      "81 ms ± 4.53 ms per loop (mean ± std. dev. of 7 runs, 10 loops each)\n"
     ]
    }
   ],
   "source": [
    "%timeit method1 = [n for n in names if n.startswith('An')]"
   ]
  },
  {
   "cell_type": "code",
   "execution_count": 13,
   "metadata": {},
   "outputs": [
    {
     "name": "stdout",
     "output_type": "stream",
     "text": [
      "47.9 ms ± 2.97 ms per loop (mean ± std. dev. of 7 runs, 10 loops each)\n"
     ]
    }
   ],
   "source": [
    "%timeit method2 = [n for n in names if n[:1] == 'An']"
   ]
  },
  {
   "cell_type": "markdown",
   "metadata": {},
   "source": [
    "This seemingly insignificant example illustrates that it is worth understanding the performance characteristics of the Python standard library, NumPy, pandas, and other libraries. In larger-scale data analysis applications, those milliseconds will start to add up! \n",
    "\n",
    "`%timeit` is especially useful for analyzing statements and functions with very short execution times, even at the level of microseconds (1e-6 seconds) or nanoseconds (1e-9 seconds). These may seem like insignificant amounts of time, but of course a 20 microsecond function invoked 1 million times takes 15 seconds longer than a 5 microsecond function."
   ]
  },
  {
   "cell_type": "markdown",
   "metadata": {},
   "source": [
    "## Conclusion\n",
    "\n",
    "### Questionaire\n",
    "\n",
    "1. How to see information of method or built-in functions?\n",
    "2. What does *X* mean in `_iX`? \n",
    "3. What is the difference between *%time* & *%timeit* commands?\n",
    "\n",
    "\n",
    "### Further Reading\n",
    "\n",
    "Before you start with Numpy its really important for you have good enough practice working with python. Hence, keep writing python code.\n",
    "A really good platform to get your hands dirty with python programming is [Hacker Rank](https://www.hackerrank.com/domains/python).\n",
    "\n",
    "As always, the online IPython documentation is an excellent resource. We highly recommend taking some time out to read them. \n",
    "\n",
    "Parts of this chapter were derived from the wonderful documentation put together by the IPython Development Team and Wes McKinney. We can’t thank them enough for all of their work building this amazing set of tools.\n"
   ]
  }
 ],
 "metadata": {
  "kernelspec": {
   "display_name": "Python 3 (ipykernel)",
   "language": "python",
   "name": "python3"
  },
  "language_info": {
   "codemirror_mode": {
    "name": "ipython",
    "version": 3
   },
   "file_extension": ".py",
   "mimetype": "text/x-python",
   "name": "python",
   "nbconvert_exporter": "python",
   "pygments_lexer": "ipython3",
   "version": "3.9.13"
  }
 },
 "nbformat": 4,
 "nbformat_minor": 4
}
