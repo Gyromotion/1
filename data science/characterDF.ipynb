{
 "cells": [
  {
   "cell_type": "code",
   "execution_count": 1,
   "metadata": {},
   "outputs": [],
   "source": [
    "import requests\n",
    "import pandas as pd"
   ]
  },
  {
   "cell_type": "code",
   "execution_count": 2,
   "metadata": {},
   "outputs": [
    {
     "data": {
      "text/plain": [
       "200"
      ]
     },
     "execution_count": 2,
     "metadata": {},
     "output_type": "execute_result"
    }
   ],
   "source": [
    "response= requests.get('https://rickandmortyapi.com/api/character')\n",
    "response.status_code"
   ]
  },
  {
   "cell_type": "code",
   "execution_count": 3,
   "metadata": {},
   "outputs": [
    {
     "data": {
      "text/plain": [
       "dict_keys(['info', 'results'])"
      ]
     },
     "execution_count": 3,
     "metadata": {},
     "output_type": "execute_result"
    }
   ],
   "source": [
    "dict1= response.json()\n",
    "dict1.keys()"
   ]
  },
  {
   "cell_type": "code",
   "execution_count": 4,
   "metadata": {},
   "outputs": [],
   "source": [
    "def get_char():\n",
    "    list_of_char= []\n",
    "    page=1\n",
    "    link='https://rickandmortyapi.com/api/character'\n",
    "    while page<=20:\n",
    "        response= requests.get(link)\n",
    "        if response.status_code==200:\n",
    "            d= response.json()\n",
    "        link=d['info']['next']\n",
    "        list_of_char+=d['results']\n",
    "        page+=1\n",
    "    return list_of_char"
   ]
  },
  {
   "cell_type": "code",
   "execution_count": 7,
   "metadata": {},
   "outputs": [
    {
     "data": {
      "text/html": [
       "<div>\n",
       "<style scoped>\n",
       "    .dataframe tbody tr th:only-of-type {\n",
       "        vertical-align: middle;\n",
       "    }\n",
       "\n",
       "    .dataframe tbody tr th {\n",
       "        vertical-align: top;\n",
       "    }\n",
       "\n",
       "    .dataframe thead th {\n",
       "        text-align: right;\n",
       "    }\n",
       "</style>\n",
       "<table border=\"1\" class=\"dataframe\">\n",
       "  <thead>\n",
       "    <tr style=\"text-align: right;\">\n",
       "      <th></th>\n",
       "      <th>id</th>\n",
       "      <th>name</th>\n",
       "      <th>status</th>\n",
       "      <th>species</th>\n",
       "      <th>type</th>\n",
       "      <th>gender</th>\n",
       "      <th>origin</th>\n",
       "      <th>location</th>\n",
       "      <th>image</th>\n",
       "      <th>episode</th>\n",
       "      <th>url</th>\n",
       "      <th>created</th>\n",
       "    </tr>\n",
       "  </thead>\n",
       "  <tbody>\n",
       "    <tr>\n",
       "      <th>0</th>\n",
       "      <td>1</td>\n",
       "      <td>Rick Sanchez</td>\n",
       "      <td>Alive</td>\n",
       "      <td>Human</td>\n",
       "      <td></td>\n",
       "      <td>Male</td>\n",
       "      <td>{'name': 'Earth (C-137)', 'url': 'https://rick...</td>\n",
       "      <td>{'name': 'Citadel of Ricks', 'url': 'https://r...</td>\n",
       "      <td>https://rickandmortyapi.com/api/character/avat...</td>\n",
       "      <td>[https://rickandmortyapi.com/api/episode/1, ht...</td>\n",
       "      <td>https://rickandmortyapi.com/api/character/1</td>\n",
       "      <td>2017-11-04T18:48:46.250Z</td>\n",
       "    </tr>\n",
       "    <tr>\n",
       "      <th>1</th>\n",
       "      <td>2</td>\n",
       "      <td>Morty Smith</td>\n",
       "      <td>Alive</td>\n",
       "      <td>Human</td>\n",
       "      <td></td>\n",
       "      <td>Male</td>\n",
       "      <td>{'name': 'unknown', 'url': ''}</td>\n",
       "      <td>{'name': 'Citadel of Ricks', 'url': 'https://r...</td>\n",
       "      <td>https://rickandmortyapi.com/api/character/avat...</td>\n",
       "      <td>[https://rickandmortyapi.com/api/episode/1, ht...</td>\n",
       "      <td>https://rickandmortyapi.com/api/character/2</td>\n",
       "      <td>2017-11-04T18:50:21.651Z</td>\n",
       "    </tr>\n",
       "    <tr>\n",
       "      <th>2</th>\n",
       "      <td>3</td>\n",
       "      <td>Summer Smith</td>\n",
       "      <td>Alive</td>\n",
       "      <td>Human</td>\n",
       "      <td></td>\n",
       "      <td>Female</td>\n",
       "      <td>{'name': 'Earth (Replacement Dimension)', 'url...</td>\n",
       "      <td>{'name': 'Earth (Replacement Dimension)', 'url...</td>\n",
       "      <td>https://rickandmortyapi.com/api/character/avat...</td>\n",
       "      <td>[https://rickandmortyapi.com/api/episode/6, ht...</td>\n",
       "      <td>https://rickandmortyapi.com/api/character/3</td>\n",
       "      <td>2017-11-04T19:09:56.428Z</td>\n",
       "    </tr>\n",
       "    <tr>\n",
       "      <th>3</th>\n",
       "      <td>4</td>\n",
       "      <td>Beth Smith</td>\n",
       "      <td>Alive</td>\n",
       "      <td>Human</td>\n",
       "      <td></td>\n",
       "      <td>Female</td>\n",
       "      <td>{'name': 'Earth (Replacement Dimension)', 'url...</td>\n",
       "      <td>{'name': 'Earth (Replacement Dimension)', 'url...</td>\n",
       "      <td>https://rickandmortyapi.com/api/character/avat...</td>\n",
       "      <td>[https://rickandmortyapi.com/api/episode/6, ht...</td>\n",
       "      <td>https://rickandmortyapi.com/api/character/4</td>\n",
       "      <td>2017-11-04T19:22:43.665Z</td>\n",
       "    </tr>\n",
       "    <tr>\n",
       "      <th>4</th>\n",
       "      <td>5</td>\n",
       "      <td>Jerry Smith</td>\n",
       "      <td>Alive</td>\n",
       "      <td>Human</td>\n",
       "      <td></td>\n",
       "      <td>Male</td>\n",
       "      <td>{'name': 'Earth (Replacement Dimension)', 'url...</td>\n",
       "      <td>{'name': 'Earth (Replacement Dimension)', 'url...</td>\n",
       "      <td>https://rickandmortyapi.com/api/character/avat...</td>\n",
       "      <td>[https://rickandmortyapi.com/api/episode/6, ht...</td>\n",
       "      <td>https://rickandmortyapi.com/api/character/5</td>\n",
       "      <td>2017-11-04T19:26:56.301Z</td>\n",
       "    </tr>\n",
       "  </tbody>\n",
       "</table>\n",
       "</div>"
      ],
      "text/plain": [
       "   id          name status species type  gender  \\\n",
       "0   1  Rick Sanchez  Alive   Human         Male   \n",
       "1   2   Morty Smith  Alive   Human         Male   \n",
       "2   3  Summer Smith  Alive   Human       Female   \n",
       "3   4    Beth Smith  Alive   Human       Female   \n",
       "4   5   Jerry Smith  Alive   Human         Male   \n",
       "\n",
       "                                              origin  \\\n",
       "0  {'name': 'Earth (C-137)', 'url': 'https://rick...   \n",
       "1                     {'name': 'unknown', 'url': ''}   \n",
       "2  {'name': 'Earth (Replacement Dimension)', 'url...   \n",
       "3  {'name': 'Earth (Replacement Dimension)', 'url...   \n",
       "4  {'name': 'Earth (Replacement Dimension)', 'url...   \n",
       "\n",
       "                                            location  \\\n",
       "0  {'name': 'Citadel of Ricks', 'url': 'https://r...   \n",
       "1  {'name': 'Citadel of Ricks', 'url': 'https://r...   \n",
       "2  {'name': 'Earth (Replacement Dimension)', 'url...   \n",
       "3  {'name': 'Earth (Replacement Dimension)', 'url...   \n",
       "4  {'name': 'Earth (Replacement Dimension)', 'url...   \n",
       "\n",
       "                                               image  \\\n",
       "0  https://rickandmortyapi.com/api/character/avat...   \n",
       "1  https://rickandmortyapi.com/api/character/avat...   \n",
       "2  https://rickandmortyapi.com/api/character/avat...   \n",
       "3  https://rickandmortyapi.com/api/character/avat...   \n",
       "4  https://rickandmortyapi.com/api/character/avat...   \n",
       "\n",
       "                                             episode  \\\n",
       "0  [https://rickandmortyapi.com/api/episode/1, ht...   \n",
       "1  [https://rickandmortyapi.com/api/episode/1, ht...   \n",
       "2  [https://rickandmortyapi.com/api/episode/6, ht...   \n",
       "3  [https://rickandmortyapi.com/api/episode/6, ht...   \n",
       "4  [https://rickandmortyapi.com/api/episode/6, ht...   \n",
       "\n",
       "                                           url                   created  \n",
       "0  https://rickandmortyapi.com/api/character/1  2017-11-04T18:48:46.250Z  \n",
       "1  https://rickandmortyapi.com/api/character/2  2017-11-04T18:50:21.651Z  \n",
       "2  https://rickandmortyapi.com/api/character/3  2017-11-04T19:09:56.428Z  \n",
       "3  https://rickandmortyapi.com/api/character/4  2017-11-04T19:22:43.665Z  \n",
       "4  https://rickandmortyapi.com/api/character/5  2017-11-04T19:26:56.301Z  "
      ]
     },
     "execution_count": 7,
     "metadata": {},
     "output_type": "execute_result"
    }
   ],
   "source": [
    "characterDF= pd.DataFrame(get_char())\n",
    "characterDF.head()"
   ]
  },
  {
   "cell_type": "code",
   "execution_count": 8,
   "metadata": {},
   "outputs": [
    {
     "data": {
      "text/plain": [
       "(400, 12)"
      ]
     },
     "execution_count": 8,
     "metadata": {},
     "output_type": "execute_result"
    }
   ],
   "source": [
    "characterDF.shape"
   ]
  },
  {
   "cell_type": "code",
   "execution_count": 9,
   "metadata": {},
   "outputs": [
    {
     "name": "stdout",
     "output_type": "stream",
     "text": [
      "<class 'pandas.core.frame.DataFrame'>\n",
      "RangeIndex: 400 entries, 0 to 399\n",
      "Data columns (total 12 columns):\n",
      " #   Column    Non-Null Count  Dtype \n",
      "---  ------    --------------  ----- \n",
      " 0   id        400 non-null    int64 \n",
      " 1   name      400 non-null    object\n",
      " 2   status    400 non-null    object\n",
      " 3   species   400 non-null    object\n",
      " 4   type      400 non-null    object\n",
      " 5   gender    400 non-null    object\n",
      " 6   origin    400 non-null    object\n",
      " 7   location  400 non-null    object\n",
      " 8   image     400 non-null    object\n",
      " 9   episode   400 non-null    object\n",
      " 10  url       400 non-null    object\n",
      " 11  created   400 non-null    object\n",
      "dtypes: int64(1), object(11)\n",
      "memory usage: 37.6+ KB\n"
     ]
    }
   ],
   "source": [
    "characterDF.info()"
   ]
  },
  {
   "cell_type": "code",
   "execution_count": null,
   "metadata": {},
   "outputs": [],
   "source": []
  },
  {
   "cell_type": "code",
   "execution_count": null,
   "metadata": {},
   "outputs": [],
   "source": []
  },
  {
   "cell_type": "code",
   "execution_count": null,
   "metadata": {},
   "outputs": [],
   "source": []
  },
  {
   "cell_type": "code",
   "execution_count": 10,
   "metadata": {},
   "outputs": [],
   "source": [
    "response= requests.get('https://rickandmortyapi.com/api/character')\n",
    "d= response.json()\n"
   ]
  },
  {
   "cell_type": "code",
   "execution_count": 11,
   "metadata": {},
   "outputs": [
    {
     "data": {
      "text/plain": [
       "dict_keys(['info', 'results'])"
      ]
     },
     "execution_count": 11,
     "metadata": {},
     "output_type": "execute_result"
    }
   ],
   "source": [
    "d.keys()"
   ]
  },
  {
   "cell_type": "code",
   "execution_count": null,
   "metadata": {},
   "outputs": [],
   "source": []
  },
  {
   "cell_type": "code",
   "execution_count": 12,
   "metadata": {
    "scrolled": true
   },
   "outputs": [
    {
     "data": {
      "text/plain": [
       "'https://rickandmortyapi.com/api/character?page=2'"
      ]
     },
     "execution_count": 12,
     "metadata": {},
     "output_type": "execute_result"
    }
   ],
   "source": [
    "d['info']['next']"
   ]
  },
  {
   "cell_type": "code",
   "execution_count": 13,
   "metadata": {},
   "outputs": [],
   "source": [
    "page=1\n",
    "link= 'https://rickandmortyapi.com/api/character'\n",
    "lst=[]\n",
    "while page<=20:\n",
    "    response= requests.get(link)\n",
    "    d= response.json()\n",
    "    link= d['info']['next']\n",
    "    lst+=d['results']  \n",
    "    page+=1\n",
    "\n",
    "df= pd.DataFrame(lst)"
   ]
  },
  {
   "cell_type": "code",
   "execution_count": 14,
   "metadata": {},
   "outputs": [
    {
     "data": {
      "text/html": [
       "<div>\n",
       "<style scoped>\n",
       "    .dataframe tbody tr th:only-of-type {\n",
       "        vertical-align: middle;\n",
       "    }\n",
       "\n",
       "    .dataframe tbody tr th {\n",
       "        vertical-align: top;\n",
       "    }\n",
       "\n",
       "    .dataframe thead th {\n",
       "        text-align: right;\n",
       "    }\n",
       "</style>\n",
       "<table border=\"1\" class=\"dataframe\">\n",
       "  <thead>\n",
       "    <tr style=\"text-align: right;\">\n",
       "      <th></th>\n",
       "      <th>id</th>\n",
       "      <th>name</th>\n",
       "      <th>status</th>\n",
       "      <th>species</th>\n",
       "      <th>type</th>\n",
       "      <th>gender</th>\n",
       "      <th>origin</th>\n",
       "      <th>location</th>\n",
       "      <th>image</th>\n",
       "      <th>episode</th>\n",
       "      <th>url</th>\n",
       "      <th>created</th>\n",
       "    </tr>\n",
       "  </thead>\n",
       "  <tbody>\n",
       "    <tr>\n",
       "      <th>0</th>\n",
       "      <td>1</td>\n",
       "      <td>Rick Sanchez</td>\n",
       "      <td>Alive</td>\n",
       "      <td>Human</td>\n",
       "      <td></td>\n",
       "      <td>Male</td>\n",
       "      <td>{'name': 'Earth (C-137)', 'url': 'https://rick...</td>\n",
       "      <td>{'name': 'Citadel of Ricks', 'url': 'https://r...</td>\n",
       "      <td>https://rickandmortyapi.com/api/character/avat...</td>\n",
       "      <td>[https://rickandmortyapi.com/api/episode/1, ht...</td>\n",
       "      <td>https://rickandmortyapi.com/api/character/1</td>\n",
       "      <td>2017-11-04T18:48:46.250Z</td>\n",
       "    </tr>\n",
       "    <tr>\n",
       "      <th>1</th>\n",
       "      <td>2</td>\n",
       "      <td>Morty Smith</td>\n",
       "      <td>Alive</td>\n",
       "      <td>Human</td>\n",
       "      <td></td>\n",
       "      <td>Male</td>\n",
       "      <td>{'name': 'unknown', 'url': ''}</td>\n",
       "      <td>{'name': 'Citadel of Ricks', 'url': 'https://r...</td>\n",
       "      <td>https://rickandmortyapi.com/api/character/avat...</td>\n",
       "      <td>[https://rickandmortyapi.com/api/episode/1, ht...</td>\n",
       "      <td>https://rickandmortyapi.com/api/character/2</td>\n",
       "      <td>2017-11-04T18:50:21.651Z</td>\n",
       "    </tr>\n",
       "    <tr>\n",
       "      <th>2</th>\n",
       "      <td>3</td>\n",
       "      <td>Summer Smith</td>\n",
       "      <td>Alive</td>\n",
       "      <td>Human</td>\n",
       "      <td></td>\n",
       "      <td>Female</td>\n",
       "      <td>{'name': 'Earth (Replacement Dimension)', 'url...</td>\n",
       "      <td>{'name': 'Earth (Replacement Dimension)', 'url...</td>\n",
       "      <td>https://rickandmortyapi.com/api/character/avat...</td>\n",
       "      <td>[https://rickandmortyapi.com/api/episode/6, ht...</td>\n",
       "      <td>https://rickandmortyapi.com/api/character/3</td>\n",
       "      <td>2017-11-04T19:09:56.428Z</td>\n",
       "    </tr>\n",
       "    <tr>\n",
       "      <th>3</th>\n",
       "      <td>4</td>\n",
       "      <td>Beth Smith</td>\n",
       "      <td>Alive</td>\n",
       "      <td>Human</td>\n",
       "      <td></td>\n",
       "      <td>Female</td>\n",
       "      <td>{'name': 'Earth (Replacement Dimension)', 'url...</td>\n",
       "      <td>{'name': 'Earth (Replacement Dimension)', 'url...</td>\n",
       "      <td>https://rickandmortyapi.com/api/character/avat...</td>\n",
       "      <td>[https://rickandmortyapi.com/api/episode/6, ht...</td>\n",
       "      <td>https://rickandmortyapi.com/api/character/4</td>\n",
       "      <td>2017-11-04T19:22:43.665Z</td>\n",
       "    </tr>\n",
       "    <tr>\n",
       "      <th>4</th>\n",
       "      <td>5</td>\n",
       "      <td>Jerry Smith</td>\n",
       "      <td>Alive</td>\n",
       "      <td>Human</td>\n",
       "      <td></td>\n",
       "      <td>Male</td>\n",
       "      <td>{'name': 'Earth (Replacement Dimension)', 'url...</td>\n",
       "      <td>{'name': 'Earth (Replacement Dimension)', 'url...</td>\n",
       "      <td>https://rickandmortyapi.com/api/character/avat...</td>\n",
       "      <td>[https://rickandmortyapi.com/api/episode/6, ht...</td>\n",
       "      <td>https://rickandmortyapi.com/api/character/5</td>\n",
       "      <td>2017-11-04T19:26:56.301Z</td>\n",
       "    </tr>\n",
       "    <tr>\n",
       "      <th>...</th>\n",
       "      <td>...</td>\n",
       "      <td>...</td>\n",
       "      <td>...</td>\n",
       "      <td>...</td>\n",
       "      <td>...</td>\n",
       "      <td>...</td>\n",
       "      <td>...</td>\n",
       "      <td>...</td>\n",
       "      <td>...</td>\n",
       "      <td>...</td>\n",
       "      <td>...</td>\n",
       "      <td>...</td>\n",
       "    </tr>\n",
       "    <tr>\n",
       "      <th>395</th>\n",
       "      <td>396</td>\n",
       "      <td>Scary Teacher</td>\n",
       "      <td>Alive</td>\n",
       "      <td>Mythological Creature</td>\n",
       "      <td>Monster</td>\n",
       "      <td>Male</td>\n",
       "      <td>{'name': 'Mr. Goldenfold's dream', 'url': 'htt...</td>\n",
       "      <td>{'name': 'Mr. Goldenfold's dream', 'url': 'htt...</td>\n",
       "      <td>https://rickandmortyapi.com/api/character/avat...</td>\n",
       "      <td>[https://rickandmortyapi.com/api/episode/2]</td>\n",
       "      <td>https://rickandmortyapi.com/api/character/396</td>\n",
       "      <td>2018-04-15T17:10:07.639Z</td>\n",
       "    </tr>\n",
       "    <tr>\n",
       "      <th>396</th>\n",
       "      <td>397</td>\n",
       "      <td>Fido</td>\n",
       "      <td>Alive</td>\n",
       "      <td>Animal</td>\n",
       "      <td>Dog</td>\n",
       "      <td>Male</td>\n",
       "      <td>{'name': 'Snuffles' Dream', 'url': 'https://ri...</td>\n",
       "      <td>{'name': 'Snuffles' Dream', 'url': 'https://ri...</td>\n",
       "      <td>https://rickandmortyapi.com/api/character/avat...</td>\n",
       "      <td>[https://rickandmortyapi.com/api/episode/2]</td>\n",
       "      <td>https://rickandmortyapi.com/api/character/397</td>\n",
       "      <td>2018-04-15T17:15:28.777Z</td>\n",
       "    </tr>\n",
       "    <tr>\n",
       "      <th>397</th>\n",
       "      <td>398</td>\n",
       "      <td>Accountant dog</td>\n",
       "      <td>Alive</td>\n",
       "      <td>Animal</td>\n",
       "      <td>Dog</td>\n",
       "      <td>Male</td>\n",
       "      <td>{'name': 'Snuffles' Dream', 'url': 'https://ri...</td>\n",
       "      <td>{'name': 'Snuffles' Dream', 'url': 'https://ri...</td>\n",
       "      <td>https://rickandmortyapi.com/api/character/avat...</td>\n",
       "      <td>[https://rickandmortyapi.com/api/episode/2]</td>\n",
       "      <td>https://rickandmortyapi.com/api/character/398</td>\n",
       "      <td>2018-04-15T17:23:04.169Z</td>\n",
       "    </tr>\n",
       "    <tr>\n",
       "      <th>398</th>\n",
       "      <td>399</td>\n",
       "      <td>Tiny-persons advocacy group lawyer</td>\n",
       "      <td>Alive</td>\n",
       "      <td>Mythological Creature</td>\n",
       "      <td>Giant</td>\n",
       "      <td>Male</td>\n",
       "      <td>{'name': 'Giant's Town', 'url': 'https://ricka...</td>\n",
       "      <td>{'name': 'Giant's Town', 'url': 'https://ricka...</td>\n",
       "      <td>https://rickandmortyapi.com/api/character/avat...</td>\n",
       "      <td>[https://rickandmortyapi.com/api/episode/5]</td>\n",
       "      <td>https://rickandmortyapi.com/api/character/399</td>\n",
       "      <td>2018-04-15T17:34:02.076Z</td>\n",
       "    </tr>\n",
       "    <tr>\n",
       "      <th>399</th>\n",
       "      <td>400</td>\n",
       "      <td>Giant Judge</td>\n",
       "      <td>Alive</td>\n",
       "      <td>Mythological Creature</td>\n",
       "      <td>Giant</td>\n",
       "      <td>Male</td>\n",
       "      <td>{'name': 'Giant's Town', 'url': 'https://ricka...</td>\n",
       "      <td>{'name': 'Giant's Town', 'url': 'https://ricka...</td>\n",
       "      <td>https://rickandmortyapi.com/api/character/avat...</td>\n",
       "      <td>[https://rickandmortyapi.com/api/episode/5]</td>\n",
       "      <td>https://rickandmortyapi.com/api/character/400</td>\n",
       "      <td>2018-04-15T17:36:11.295Z</td>\n",
       "    </tr>\n",
       "  </tbody>\n",
       "</table>\n",
       "<p>400 rows × 12 columns</p>\n",
       "</div>"
      ],
      "text/plain": [
       "      id                                name status                species  \\\n",
       "0      1                        Rick Sanchez  Alive                  Human   \n",
       "1      2                         Morty Smith  Alive                  Human   \n",
       "2      3                        Summer Smith  Alive                  Human   \n",
       "3      4                          Beth Smith  Alive                  Human   \n",
       "4      5                         Jerry Smith  Alive                  Human   \n",
       "..   ...                                 ...    ...                    ...   \n",
       "395  396                       Scary Teacher  Alive  Mythological Creature   \n",
       "396  397                                Fido  Alive                 Animal   \n",
       "397  398                      Accountant dog  Alive                 Animal   \n",
       "398  399  Tiny-persons advocacy group lawyer  Alive  Mythological Creature   \n",
       "399  400                         Giant Judge  Alive  Mythological Creature   \n",
       "\n",
       "        type  gender                                             origin  \\\n",
       "0               Male  {'name': 'Earth (C-137)', 'url': 'https://rick...   \n",
       "1               Male                     {'name': 'unknown', 'url': ''}   \n",
       "2             Female  {'name': 'Earth (Replacement Dimension)', 'url...   \n",
       "3             Female  {'name': 'Earth (Replacement Dimension)', 'url...   \n",
       "4               Male  {'name': 'Earth (Replacement Dimension)', 'url...   \n",
       "..       ...     ...                                                ...   \n",
       "395  Monster    Male  {'name': 'Mr. Goldenfold's dream', 'url': 'htt...   \n",
       "396      Dog    Male  {'name': 'Snuffles' Dream', 'url': 'https://ri...   \n",
       "397      Dog    Male  {'name': 'Snuffles' Dream', 'url': 'https://ri...   \n",
       "398    Giant    Male  {'name': 'Giant's Town', 'url': 'https://ricka...   \n",
       "399    Giant    Male  {'name': 'Giant's Town', 'url': 'https://ricka...   \n",
       "\n",
       "                                              location  \\\n",
       "0    {'name': 'Citadel of Ricks', 'url': 'https://r...   \n",
       "1    {'name': 'Citadel of Ricks', 'url': 'https://r...   \n",
       "2    {'name': 'Earth (Replacement Dimension)', 'url...   \n",
       "3    {'name': 'Earth (Replacement Dimension)', 'url...   \n",
       "4    {'name': 'Earth (Replacement Dimension)', 'url...   \n",
       "..                                                 ...   \n",
       "395  {'name': 'Mr. Goldenfold's dream', 'url': 'htt...   \n",
       "396  {'name': 'Snuffles' Dream', 'url': 'https://ri...   \n",
       "397  {'name': 'Snuffles' Dream', 'url': 'https://ri...   \n",
       "398  {'name': 'Giant's Town', 'url': 'https://ricka...   \n",
       "399  {'name': 'Giant's Town', 'url': 'https://ricka...   \n",
       "\n",
       "                                                 image  \\\n",
       "0    https://rickandmortyapi.com/api/character/avat...   \n",
       "1    https://rickandmortyapi.com/api/character/avat...   \n",
       "2    https://rickandmortyapi.com/api/character/avat...   \n",
       "3    https://rickandmortyapi.com/api/character/avat...   \n",
       "4    https://rickandmortyapi.com/api/character/avat...   \n",
       "..                                                 ...   \n",
       "395  https://rickandmortyapi.com/api/character/avat...   \n",
       "396  https://rickandmortyapi.com/api/character/avat...   \n",
       "397  https://rickandmortyapi.com/api/character/avat...   \n",
       "398  https://rickandmortyapi.com/api/character/avat...   \n",
       "399  https://rickandmortyapi.com/api/character/avat...   \n",
       "\n",
       "                                               episode  \\\n",
       "0    [https://rickandmortyapi.com/api/episode/1, ht...   \n",
       "1    [https://rickandmortyapi.com/api/episode/1, ht...   \n",
       "2    [https://rickandmortyapi.com/api/episode/6, ht...   \n",
       "3    [https://rickandmortyapi.com/api/episode/6, ht...   \n",
       "4    [https://rickandmortyapi.com/api/episode/6, ht...   \n",
       "..                                                 ...   \n",
       "395        [https://rickandmortyapi.com/api/episode/2]   \n",
       "396        [https://rickandmortyapi.com/api/episode/2]   \n",
       "397        [https://rickandmortyapi.com/api/episode/2]   \n",
       "398        [https://rickandmortyapi.com/api/episode/5]   \n",
       "399        [https://rickandmortyapi.com/api/episode/5]   \n",
       "\n",
       "                                               url                   created  \n",
       "0      https://rickandmortyapi.com/api/character/1  2017-11-04T18:48:46.250Z  \n",
       "1      https://rickandmortyapi.com/api/character/2  2017-11-04T18:50:21.651Z  \n",
       "2      https://rickandmortyapi.com/api/character/3  2017-11-04T19:09:56.428Z  \n",
       "3      https://rickandmortyapi.com/api/character/4  2017-11-04T19:22:43.665Z  \n",
       "4      https://rickandmortyapi.com/api/character/5  2017-11-04T19:26:56.301Z  \n",
       "..                                             ...                       ...  \n",
       "395  https://rickandmortyapi.com/api/character/396  2018-04-15T17:10:07.639Z  \n",
       "396  https://rickandmortyapi.com/api/character/397  2018-04-15T17:15:28.777Z  \n",
       "397  https://rickandmortyapi.com/api/character/398  2018-04-15T17:23:04.169Z  \n",
       "398  https://rickandmortyapi.com/api/character/399  2018-04-15T17:34:02.076Z  \n",
       "399  https://rickandmortyapi.com/api/character/400  2018-04-15T17:36:11.295Z  \n",
       "\n",
       "[400 rows x 12 columns]"
      ]
     },
     "execution_count": 14,
     "metadata": {},
     "output_type": "execute_result"
    }
   ],
   "source": [
    "df"
   ]
  },
  {
   "cell_type": "code",
   "execution_count": 23,
   "metadata": {},
   "outputs": [
    {
     "data": {
      "text/plain": [
       "(400, 12)"
      ]
     },
     "execution_count": 23,
     "metadata": {},
     "output_type": "execute_result"
    }
   ],
   "source": [
    "df.shape"
   ]
  },
  {
   "cell_type": "code",
   "execution_count": 24,
   "metadata": {},
   "outputs": [
    {
     "name": "stdout",
     "output_type": "stream",
     "text": [
      "<class 'pandas.core.frame.DataFrame'>\n",
      "RangeIndex: 400 entries, 0 to 399\n",
      "Data columns (total 12 columns):\n",
      " #   Column    Non-Null Count  Dtype \n",
      "---  ------    --------------  ----- \n",
      " 0   id        400 non-null    int64 \n",
      " 1   name      400 non-null    object\n",
      " 2   status    400 non-null    object\n",
      " 3   species   400 non-null    object\n",
      " 4   type      400 non-null    object\n",
      " 5   gender    400 non-null    object\n",
      " 6   origin    400 non-null    object\n",
      " 7   location  400 non-null    object\n",
      " 8   image     400 non-null    object\n",
      " 9   episode   400 non-null    object\n",
      " 10  url       400 non-null    object\n",
      " 11  created   400 non-null    object\n",
      "dtypes: int64(1), object(11)\n",
      "memory usage: 37.6+ KB\n"
     ]
    }
   ],
   "source": [
    "df.info()"
   ]
  },
  {
   "cell_type": "code",
   "execution_count": null,
   "metadata": {},
   "outputs": [],
   "source": []
  },
  {
   "cell_type": "code",
   "execution_count": 26,
   "metadata": {},
   "outputs": [
    {
     "data": {
      "text/plain": [
       "(400, 12)"
      ]
     },
     "execution_count": 26,
     "metadata": {},
     "output_type": "execute_result"
    }
   ],
   "source": [
    "lst_of_char=[]\n",
    "for i in range(1,21):\n",
    "    lst_of_char+=requests.get('https://rickandmortyapi.com/api/character?page='+str(i)).json()['results']\n",
    "df1= pd.DataFrame(lst_of_char)\n",
    "df1.shape"
   ]
  },
  {
   "cell_type": "code",
   "execution_count": null,
   "metadata": {},
   "outputs": [],
   "source": []
  },
  {
   "cell_type": "code",
   "execution_count": null,
   "metadata": {},
   "outputs": [],
   "source": []
  }
 ],
 "metadata": {
  "kernelspec": {
   "display_name": "Python 3 (ipykernel)",
   "language": "python",
   "name": "python3"
  },
  "language_info": {
   "codemirror_mode": {
    "name": "ipython",
    "version": 3
   },
   "file_extension": ".py",
   "mimetype": "text/x-python",
   "name": "python",
   "nbconvert_exporter": "python",
   "pygments_lexer": "ipython3",
   "version": "3.9.13"
  }
 },
 "nbformat": 4,
 "nbformat_minor": 4
}
