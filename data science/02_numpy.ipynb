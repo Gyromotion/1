{
 "cells": [
  {
   "cell_type": "markdown",
   "metadata": {
    "colab_type": "text",
    "id": "D-r-ZCxPPFDP"
   },
   "source": [
    "# NumPy by Cute Pratham 🙂👍🏻\n",
    "\n",
    "NumPy is a Linear Algebra Library for Python, the reason it is so important for Data Science with Python is that almost all of the libraries in the PyData Ecosystem rely on NumPy as one of their main building blocks. Here are some of the things it provides: \n",
    "- `ndarray`, a fast and space-efficient multidimensional array providing vectorized arithmetic operations and sophisticated broadcasting capabilities \n",
    "- Standard mathematical functions for fast operations on entire arrays of data without having to write loops \n",
    "- Tools for reading / writing array data to disk and working with memory-mapped files \n",
    "- Linear algebra, random number generation, and Fourier transform capabilities \n",
    "- Tools for integrating code written in *C*, *C++*, and *Fortran* \n",
    "\n",
    "The last bullet point is also one of the most important ones from an ecosystem point of view. Because NumPy provides an easy-to-use *C API*, it is very easy to pass data to external libraries written in a low-level language and also for external libraries to return data to Python as NumPy arrays. This feature has made Python a language of choice for wrapping legacy *C/C++/Fortran* codebases and giving them a dynamic and easyto-use interface. \n",
    "\n",
    "While NumPy by itself does not provide very much high-level data analytical functionality, having an understanding of NumPy arrays and array-oriented computing will help you use tools like pandas much more effectively. Becoming proficient in array-oriented programming and thinking is a key step along the way to becoming a scientific Python guru.\n",
    "\n",
    "Numpy is also incredibly fast, as it has bindings to *C* libraries. For more info on why you would want to use Arrays instead of lists, check out this great [StackOverflow post](http://stackoverflow.com/questions/993984/why-numpy-instead-of-python-lists)."
   ]
  },
  {
   "cell_type": "markdown",
   "metadata": {
    "colab_type": "text",
    "id": "D-r-ZCxPPFDP"
   },
   "source": [
    "## Importing Numpy 😎\n",
    "\n",
    "To use Numpy, we will have to import it."
   ]
  },
  {
   "cell_type": "code",
   "execution_count": 2,
   "metadata": {
    "colab": {},
    "colab_type": "code",
    "id": "TcJm1OYhPFDQ"
   },
   "outputs": [],
   "source": [
    "import numpy as np"
   ]
  },
  {
   "cell_type": "markdown",
   "metadata": {
    "colab_type": "text",
    "id": "hnbY_NgYPFDT"
   },
   "source": [
    "One of the key features of NumPy is its **N-dimensional array** object, or `ndarray`, which is a fast, flexible container for large data sets in Python. Arrays enable you to perform mathematical operations on whole blocks of data using very concise syntax (just like in Linear Algebra). An `ndarray` is a generic multidimensional container for *homogeneous data*; that is, all of the elements must be the same type.\n",
    "\n",
    "We will begin by learning, how to create Numpy arrays."
   ]
  },
  {
   "cell_type": "markdown",
   "metadata": {
    "colab_type": "text",
    "id": "T24TNftqPFDU"
   },
   "source": [
    "## Creating Numpy Arrays"
   ]
  },
  {
   "cell_type": "markdown",
   "metadata": {
    "colab_type": "text",
    "id": "xWZwDWkjPFDV"
   },
   "source": [
    "### From Python List\n",
    "\n",
    "We can create an array by directly converting a list or list of lists:"
   ]
  },
  {
   "cell_type": "code",
   "execution_count": 3,
   "metadata": {
    "colab": {
     "base_uri": "https://localhost:8080/",
     "height": 34
    },
    "colab_type": "code",
    "executionInfo": {
     "elapsed": 6561,
     "status": "ok",
     "timestamp": 1566218624738,
     "user": {
      "displayName": "Ai Adventures",
      "photoUrl": "https://lh3.googleusercontent.com/-OQdAjp2vMZo/AAAAAAAAAAI/AAAAAAAAAA8/8FVq41kVT5s/s64/photo.jpg",
      "userId": "14635366068755244481"
     },
     "user_tz": -330
    },
    "id": "uKxbSxQdPFDV",
    "outputId": "cbb25672-9b54-441b-d9e0-212407c9af8e"
   },
   "outputs": [
    {
     "data": {
      "text/plain": [
       "[1, 2, 3]"
      ]
     },
     "execution_count": 3,
     "metadata": {},
     "output_type": "execute_result"
    }
   ],
   "source": [
    "my_list = [1,2,3]\n",
    "my_list"
   ]
  },
  {
   "cell_type": "code",
   "execution_count": 4,
   "metadata": {
    "colab": {
     "base_uri": "https://localhost:8080/",
     "height": 34
    },
    "colab_type": "code",
    "executionInfo": {
     "elapsed": 6546,
     "status": "ok",
     "timestamp": 1566218624739,
     "user": {
      "displayName": "Ai Adventures",
      "photoUrl": "https://lh3.googleusercontent.com/-OQdAjp2vMZo/AAAAAAAAAAI/AAAAAAAAAA8/8FVq41kVT5s/s64/photo.jpg",
      "userId": "14635366068755244481"
     },
     "user_tz": -330
    },
    "id": "xaGmYqzvPFDb",
    "outputId": "6ba012c0-efdf-419b-9610-97f83a1e4b6a"
   },
   "outputs": [
    {
     "data": {
      "text/plain": [
       "array([1, 2, 3])"
      ]
     },
     "execution_count": 4,
     "metadata": {},
     "output_type": "execute_result"
    }
   ],
   "source": [
    "np.array(my_list)"
   ]
  },
  {
   "cell_type": "code",
   "execution_count": 5,
   "metadata": {
    "colab": {
     "base_uri": "https://localhost:8080/",
     "height": 34
    },
    "colab_type": "code",
    "executionInfo": {
     "elapsed": 6531,
     "status": "ok",
     "timestamp": 1566218624739,
     "user": {
      "displayName": "Ai Adventures",
      "photoUrl": "https://lh3.googleusercontent.com/-OQdAjp2vMZo/AAAAAAAAAAI/AAAAAAAAAA8/8FVq41kVT5s/s64/photo.jpg",
      "userId": "14635366068755244481"
     },
     "user_tz": -330
    },
    "id": "-1WohwrZPFDe",
    "outputId": "7aeddd6b-cfdb-44b9-ce07-1e3a0f9e86d4"
   },
   "outputs": [
    {
     "data": {
      "text/plain": [
       "[[1, 2, 3], [4, 5, 6], [7, 8, 9]]"
      ]
     },
     "execution_count": 5,
     "metadata": {},
     "output_type": "execute_result"
    }
   ],
   "source": [
    "my_matrix = [[1,2,3],\n",
    "             [4,5,6],\n",
    "             [7,8,9]]\n",
    "my_matrix"
   ]
  },
  {
   "cell_type": "code",
   "execution_count": 6,
   "metadata": {
    "colab": {
     "base_uri": "https://localhost:8080/",
     "height": 68
    },
    "colab_type": "code",
    "executionInfo": {
     "elapsed": 6517,
     "status": "ok",
     "timestamp": 1566218624740,
     "user": {
      "displayName": "Ai Adventures",
      "photoUrl": "https://lh3.googleusercontent.com/-OQdAjp2vMZo/AAAAAAAAAAI/AAAAAAAAAA8/8FVq41kVT5s/s64/photo.jpg",
      "userId": "14635366068755244481"
     },
     "user_tz": -330
    },
    "id": "F0qNvvRVPFDh",
    "outputId": "7c73350c-f247-41cf-9270-d6241acc7fc6"
   },
   "outputs": [
    {
     "data": {
      "text/plain": [
       "array([[1, 2, 3],\n",
       "       [4, 5, 6],\n",
       "       [7, 8, 9]])"
      ]
     },
     "execution_count": 6,
     "metadata": {},
     "output_type": "execute_result"
    }
   ],
   "source": [
    "np.array(my_matrix)"
   ]
  },
  {
   "cell_type": "markdown",
   "metadata": {},
   "source": [
    "Its a 2d-array. Similarly, you can create 3d-array, 4d-array, . . . . nd-array. \n",
    "\n",
    "Hence, numpy array are also called `ndarray`."
   ]
  },
  {
   "cell_type": "markdown",
   "metadata": {
    "colab_type": "text",
    "heading_collapsed": true,
    "id": "0ammP4EWPFDl"
   },
   "source": [
    "### Built-in Methods\n",
    "\n",
    "There are lots of built-in ways to generate Arrays"
   ]
  },
  {
   "cell_type": "markdown",
   "metadata": {
    "colab_type": "text",
    "heading_collapsed": true,
    "hidden": true,
    "id": "v7jlEmjOPFDl"
   },
   "source": [
    "#### `zeros` and `ones`\n",
    "\n",
    "Generate arrays of zeros and one"
   ]
  },
  {
   "cell_type": "code",
   "execution_count": 14,
   "metadata": {
    "colab": {
     "base_uri": "https://localhost:8080/",
     "height": 34
    },
    "colab_type": "code",
    "executionInfo": {
     "elapsed": 6503,
     "status": "ok",
     "timestamp": 1566218624741,
     "user": {
      "displayName": "Ai Adventures",
      "photoUrl": "https://lh3.googleusercontent.com/-OQdAjp2vMZo/AAAAAAAAAAI/AAAAAAAAAA8/8FVq41kVT5s/s64/photo.jpg",
      "userId": "14635366068755244481"
     },
     "user_tz": -330
    },
    "hidden": true,
    "id": "Of8EdJe8PFDm",
    "outputId": "f71fa069-f94e-41fa-9979-7726cd0dd764"
   },
   "outputs": [
    {
     "data": {
      "text/plain": [
       "array([[0., 0., 0.],\n",
       "       [0., 0., 0.],\n",
       "       [0., 0., 0.]])"
      ]
     },
     "execution_count": 14,
     "metadata": {},
     "output_type": "execute_result"
    }
   ],
   "source": [
    "np.zeros((3,3))"
   ]
  },
  {
   "cell_type": "code",
   "execution_count": 8,
   "metadata": {
    "colab": {
     "base_uri": "https://localhost:8080/",
     "height": 68
    },
    "colab_type": "code",
    "executionInfo": {
     "elapsed": 6490,
     "status": "ok",
     "timestamp": 1566218624742,
     "user": {
      "displayName": "Ai Adventures",
      "photoUrl": "https://lh3.googleusercontent.com/-OQdAjp2vMZo/AAAAAAAAAAI/AAAAAAAAAA8/8FVq41kVT5s/s64/photo.jpg",
      "userId": "14635366068755244481"
     },
     "user_tz": -330
    },
    "hidden": true,
    "id": "iWXWgAgWPFDp",
    "outputId": "53036c03-8bbf-45b1-f93f-6475c96e4d6a"
   },
   "outputs": [
    {
     "data": {
      "text/plain": [
       "array([[0., 0., 0.],\n",
       "       [0., 0., 0.],\n",
       "       [0., 0., 0.]])"
      ]
     },
     "execution_count": 8,
     "metadata": {},
     "output_type": "execute_result"
    }
   ],
   "source": [
    "np.zeros((3,3))"
   ]
  },
  {
   "cell_type": "code",
   "execution_count": 9,
   "metadata": {
    "colab": {
     "base_uri": "https://localhost:8080/",
     "height": 34
    },
    "colab_type": "code",
    "executionInfo": {
     "elapsed": 6475,
     "status": "ok",
     "timestamp": 1566218624742,
     "user": {
      "displayName": "Ai Adventures",
      "photoUrl": "https://lh3.googleusercontent.com/-OQdAjp2vMZo/AAAAAAAAAAI/AAAAAAAAAA8/8FVq41kVT5s/s64/photo.jpg",
      "userId": "14635366068755244481"
     },
     "user_tz": -330
    },
    "hidden": true,
    "id": "25lufRt8PFDs",
    "outputId": "91ab9c1d-71e0-4507-cac6-627a0c2b7621"
   },
   "outputs": [
    {
     "data": {
      "text/plain": [
       "array([1., 1., 1.])"
      ]
     },
     "execution_count": 9,
     "metadata": {},
     "output_type": "execute_result"
    }
   ],
   "source": [
    "np.ones(3)"
   ]
  },
  {
   "cell_type": "code",
   "execution_count": 10,
   "metadata": {
    "colab": {
     "base_uri": "https://localhost:8080/",
     "height": 68
    },
    "colab_type": "code",
    "executionInfo": {
     "elapsed": 6458,
     "status": "ok",
     "timestamp": 1566218624743,
     "user": {
      "displayName": "Ai Adventures",
      "photoUrl": "https://lh3.googleusercontent.com/-OQdAjp2vMZo/AAAAAAAAAAI/AAAAAAAAAA8/8FVq41kVT5s/s64/photo.jpg",
      "userId": "14635366068755244481"
     },
     "user_tz": -330
    },
    "hidden": true,
    "id": "LftQtAlKPFDv",
    "outputId": "0784decd-21c5-46d1-bec1-edc5f514be09"
   },
   "outputs": [
    {
     "data": {
      "text/plain": [
       "array([[1., 1., 1.],\n",
       "       [1., 1., 1.],\n",
       "       [1., 1., 1.]])"
      ]
     },
     "execution_count": 10,
     "metadata": {},
     "output_type": "execute_result"
    }
   ],
   "source": [
    "np.ones((3,3))"
   ]
  },
  {
   "cell_type": "markdown",
   "metadata": {},
   "source": [
    "```{admonition} Exercise\n",
    "Introspect `np.ones_like()` and `np.zeros_like()`.\n",
    "```"
   ]
  },
  {
   "cell_type": "markdown",
   "metadata": {
    "colab_type": "text",
    "heading_collapsed": true,
    "hidden": true,
    "id": "rt6rCyZkPFDy"
   },
   "source": [
    "#### `eye`\n",
    "\n",
    "Creates an identity matrix"
   ]
  },
  {
   "cell_type": "code",
   "execution_count": 108,
   "metadata": {
    "colab": {
     "base_uri": "https://localhost:8080/",
     "height": 68
    },
    "colab_type": "code",
    "executionInfo": {
     "elapsed": 6442,
     "status": "ok",
     "timestamp": 1566218624743,
     "user": {
      "displayName": "Ai Adventures",
      "photoUrl": "https://lh3.googleusercontent.com/-OQdAjp2vMZo/AAAAAAAAAAI/AAAAAAAAAA8/8FVq41kVT5s/s64/photo.jpg",
      "userId": "14635366068755244481"
     },
     "user_tz": -330
    },
    "hidden": true,
    "id": "hVLfeIN5PFDz",
    "outputId": "b23d37bf-5456-44d5-9643-3024d10eb139"
   },
   "outputs": [
    {
     "data": {
      "text/plain": [
       "array([[1., 0., 0.],\n",
       "       [0., 1., 0.],\n",
       "       [0., 0., 1.]])"
      ]
     },
     "execution_count": 108,
     "metadata": {},
     "output_type": "execute_result"
    }
   ],
   "source": [
    "np.eye(3)"
   ]
  },
  {
   "cell_type": "markdown",
   "metadata": {
    "colab_type": "text",
    "heading_collapsed": true,
    "hidden": true,
    "id": "UzAsrJTHPFD3"
   },
   "source": [
    "#### `arange`\n",
    "\n",
    "Returns evenly spaced values within a given interval. It is similar to `range()` function from Python course. If it take 1 parameter it acts as end point as follow."
   ]
  },
  {
   "cell_type": "code",
   "execution_count": 16,
   "metadata": {
    "colab": {
     "base_uri": "https://localhost:8080/",
     "height": 34
    },
    "colab_type": "code",
    "executionInfo": {
     "elapsed": 6429,
     "status": "ok",
     "timestamp": 1566218624744,
     "user": {
      "displayName": "Ai Adventures",
      "photoUrl": "https://lh3.googleusercontent.com/-OQdAjp2vMZo/AAAAAAAAAAI/AAAAAAAAAA8/8FVq41kVT5s/s64/photo.jpg",
      "userId": "14635366068755244481"
     },
     "user_tz": -330
    },
    "hidden": true,
    "id": "tgcVGmCiPFD4",
    "outputId": "215b9975-9fbf-44ca-bac7-85d6cd4dea5f"
   },
   "outputs": [
    {
     "data": {
      "text/plain": [
       "array([ 0,  1,  2,  3,  4,  5,  6,  7,  8,  9, 10, 11, 12, 13, 14, 15, 16,\n",
       "       17, 18, 19, 20])"
      ]
     },
     "execution_count": 16,
     "metadata": {},
     "output_type": "execute_result"
    }
   ],
   "source": [
    "np.arange(21)"
   ]
  },
  {
   "cell_type": "markdown",
   "metadata": {},
   "source": [
    "If `np.arange()` takes 2 parameters it knows first parameter is start point and second parameter as end point."
   ]
  },
  {
   "cell_type": "code",
   "execution_count": 17,
   "metadata": {
    "colab": {
     "base_uri": "https://localhost:8080/",
     "height": 34
    },
    "colab_type": "code",
    "executionInfo": {
     "elapsed": 6414,
     "status": "ok",
     "timestamp": 1566218624744,
     "user": {
      "displayName": "Ai Adventures",
      "photoUrl": "https://lh3.googleusercontent.com/-OQdAjp2vMZo/AAAAAAAAAAI/AAAAAAAAAA8/8FVq41kVT5s/s64/photo.jpg",
      "userId": "14635366068755244481"
     },
     "user_tz": -330
    },
    "hidden": true,
    "id": "UkGP0IRpPFD9",
    "outputId": "572db1e4-6eed-4119-fab8-b8e0a49b5b9b"
   },
   "outputs": [
    {
     "data": {
      "text/plain": [
       "array([ 1,  2,  3,  4,  5,  6,  7,  8,  9, 10, 11, 12, 13, 14, 15, 16, 17,\n",
       "       18, 19])"
      ]
     },
     "execution_count": 17,
     "metadata": {},
     "output_type": "execute_result"
    }
   ],
   "source": [
    "np.arange(1,20)"
   ]
  },
  {
   "cell_type": "markdown",
   "metadata": {},
   "source": [
    "It `np.arange()` takes 2 parameters the first is start point, second is end point and third is steps."
   ]
  },
  {
   "cell_type": "code",
   "execution_count": 111,
   "metadata": {
    "colab": {
     "base_uri": "https://localhost:8080/",
     "height": 34
    },
    "colab_type": "code",
    "executionInfo": {
     "elapsed": 6398,
     "status": "ok",
     "timestamp": 1566218624745,
     "user": {
      "displayName": "Ai Adventures",
      "photoUrl": "https://lh3.googleusercontent.com/-OQdAjp2vMZo/AAAAAAAAAAI/AAAAAAAAAA8/8FVq41kVT5s/s64/photo.jpg",
      "userId": "14635366068755244481"
     },
     "user_tz": -330
    },
    "hidden": true,
    "id": "5kjkAnCJPFEC",
    "outputId": "ec734ab0-fe12-4a40-e7ca-36e2355ec34a"
   },
   "outputs": [
    {
     "data": {
      "text/plain": [
       "array([10, 12, 14, 16, 18])"
      ]
     },
     "execution_count": 111,
     "metadata": {},
     "output_type": "execute_result"
    }
   ],
   "source": [
    "np.arange(10,20,2)"
   ]
  },
  {
   "cell_type": "markdown",
   "metadata": {
    "colab_type": "text",
    "heading_collapsed": true,
    "hidden": true,
    "id": "wfvT1IkNPFEH"
   },
   "source": [
    "#### `linspace`\n",
    "\n",
    "Numpy linspace creates sequences of Evenly spaced values within an interval.\n",
    "To read more about `np.linspace()`, refer [this](https://www.sharpsightlabs.com/blog/numpy-linspace/)"
   ]
  },
  {
   "cell_type": "code",
   "execution_count": 18,
   "metadata": {
    "colab": {
     "base_uri": "https://localhost:8080/",
     "height": 51
    },
    "colab_type": "code",
    "executionInfo": {
     "elapsed": 6384,
     "status": "ok",
     "timestamp": 1566218624746,
     "user": {
      "displayName": "Ai Adventures",
      "photoUrl": "https://lh3.googleusercontent.com/-OQdAjp2vMZo/AAAAAAAAAAI/AAAAAAAAAA8/8FVq41kVT5s/s64/photo.jpg",
      "userId": "14635366068755244481"
     },
     "user_tz": -330
    },
    "hidden": true,
    "id": "VvwHeTZ6PFEI",
    "outputId": "b98a56a3-3505-4517-c44e-0e6a90f16be9"
   },
   "outputs": [
    {
     "data": {
      "text/plain": [
       "array([10. , 12.5, 15. , 17.5, 20. ])"
      ]
     },
     "execution_count": 18,
     "metadata": {},
     "output_type": "execute_result"
    }
   ],
   "source": [
    "np.linspace(10,20,5)"
   ]
  },
  {
   "cell_type": "code",
   "execution_count": 113,
   "metadata": {
    "colab": {
     "base_uri": "https://localhost:8080/",
     "height": 34
    },
    "colab_type": "code",
    "executionInfo": {
     "elapsed": 6369,
     "status": "ok",
     "timestamp": 1566218624746,
     "user": {
      "displayName": "Ai Adventures",
      "photoUrl": "https://lh3.googleusercontent.com/-OQdAjp2vMZo/AAAAAAAAAAI/AAAAAAAAAA8/8FVq41kVT5s/s64/photo.jpg",
      "userId": "14635366068755244481"
     },
     "user_tz": -330
    },
    "hidden": true,
    "id": "xfN81WoAPFEM",
    "outputId": "3dcd30eb-e149-4689-ac47-d506a9a7a285",
    "scrolled": true
   },
   "outputs": [
    {
     "data": {
      "text/plain": [
       "array([10., 11., 12., 13., 14., 15., 16., 17., 18., 19., 20.])"
      ]
     },
     "execution_count": 113,
     "metadata": {},
     "output_type": "execute_result"
    }
   ],
   "source": [
    "np.linspace(10,20,11)"
   ]
  },
  {
   "cell_type": "markdown",
   "metadata": {
    "colab_type": "text",
    "heading_collapsed": true,
    "id": "S5cgxD_fPFEQ"
   },
   "source": [
    "### From random numbers\n",
    "\n",
    "Numpy has a lot of functions to create random number arrays."
   ]
  },
  {
   "cell_type": "markdown",
   "metadata": {
    "colab_type": "text",
    "hidden": true,
    "id": "Dft8djuwPFER"
   },
   "source": [
    "#### `rand`\n",
    "\n",
    "Create an array of the given shape and populate it with random samples from a uniform distribution over [0, 1)."
   ]
  },
  {
   "cell_type": "code",
   "execution_count": 114,
   "metadata": {
    "colab": {
     "base_uri": "https://localhost:8080/",
     "height": 34
    },
    "colab_type": "code",
    "executionInfo": {
     "elapsed": 6356,
     "status": "ok",
     "timestamp": 1566218624747,
     "user": {
      "displayName": "Ai Adventures",
      "photoUrl": "https://lh3.googleusercontent.com/-OQdAjp2vMZo/AAAAAAAAAAI/AAAAAAAAAA8/8FVq41kVT5s/s64/photo.jpg",
      "userId": "14635366068755244481"
     },
     "user_tz": -330
    },
    "hidden": true,
    "id": "cyH425BfPFES",
    "outputId": "005977f6-209d-425e-dd90-779ffd5c309f"
   },
   "outputs": [
    {
     "data": {
      "text/plain": [
       "array([0.87291431, 0.18448198, 0.23779175])"
      ]
     },
     "execution_count": 114,
     "metadata": {},
     "output_type": "execute_result"
    }
   ],
   "source": [
    "np.random.rand(3)"
   ]
  },
  {
   "cell_type": "code",
   "execution_count": 115,
   "metadata": {
    "colab": {
     "base_uri": "https://localhost:8080/",
     "height": 68
    },
    "colab_type": "code",
    "executionInfo": {
     "elapsed": 6341,
     "status": "ok",
     "timestamp": 1566218624747,
     "user": {
      "displayName": "Ai Adventures",
      "photoUrl": "https://lh3.googleusercontent.com/-OQdAjp2vMZo/AAAAAAAAAAI/AAAAAAAAAA8/8FVq41kVT5s/s64/photo.jpg",
      "userId": "14635366068755244481"
     },
     "user_tz": -330
    },
    "hidden": true,
    "id": "MvmgKUL1PFEW",
    "outputId": "da6c64e9-dd01-4862-be43-ea558ed23fdb",
    "scrolled": true
   },
   "outputs": [
    {
     "data": {
      "text/plain": [
       "array([[0.16480186, 0.36621649, 0.31408898],\n",
       "       [0.98731738, 0.34771762, 0.64789247],\n",
       "       [0.14720942, 0.98860034, 0.4715108 ]])"
      ]
     },
     "execution_count": 115,
     "metadata": {},
     "output_type": "execute_result"
    }
   ],
   "source": [
    "np.random.rand(3,3)"
   ]
  },
  {
   "cell_type": "markdown",
   "metadata": {
    "colab_type": "text",
    "hidden": true,
    "id": "0cuFcGpIPFEY"
   },
   "source": [
    "#### `randn`\n",
    "\n",
    "Return a sample (or samples) from the \"standard normal\" distribution. Unlike `rand` which is uniform:"
   ]
  },
  {
   "cell_type": "code",
   "execution_count": 116,
   "metadata": {
    "colab": {
     "base_uri": "https://localhost:8080/",
     "height": 34
    },
    "colab_type": "code",
    "executionInfo": {
     "elapsed": 6327,
     "status": "ok",
     "timestamp": 1566218624748,
     "user": {
      "displayName": "Ai Adventures",
      "photoUrl": "https://lh3.googleusercontent.com/-OQdAjp2vMZo/AAAAAAAAAAI/AAAAAAAAAA8/8FVq41kVT5s/s64/photo.jpg",
      "userId": "14635366068755244481"
     },
     "user_tz": -330
    },
    "hidden": true,
    "id": "IhjCTiCEPFEZ",
    "outputId": "7873d0c4-be5b-4782-e75a-71714da84e56"
   },
   "outputs": [
    {
     "data": {
      "text/plain": [
       "array([-0.41597365, -1.31238435,  2.09343262])"
      ]
     },
     "execution_count": 116,
     "metadata": {},
     "output_type": "execute_result"
    }
   ],
   "source": [
    "np.random.randn(3)"
   ]
  },
  {
   "cell_type": "code",
   "execution_count": 117,
   "metadata": {
    "colab": {
     "base_uri": "https://localhost:8080/",
     "height": 68
    },
    "colab_type": "code",
    "executionInfo": {
     "elapsed": 6311,
     "status": "ok",
     "timestamp": 1566218624749,
     "user": {
      "displayName": "Ai Adventures",
      "photoUrl": "https://lh3.googleusercontent.com/-OQdAjp2vMZo/AAAAAAAAAAI/AAAAAAAAAA8/8FVq41kVT5s/s64/photo.jpg",
      "userId": "14635366068755244481"
     },
     "user_tz": -330
    },
    "hidden": true,
    "id": "HNEh0Rf-PFEc",
    "outputId": "f862954d-3230-4e83-88cd-adfecff74f63"
   },
   "outputs": [
    {
     "data": {
      "text/plain": [
       "array([[ 0.21917306,  0.14041829, -1.97489665],\n",
       "       [ 0.84994198, -0.83665855, -1.14063122],\n",
       "       [-1.29650439,  1.82763221,  0.52416126]])"
      ]
     },
     "execution_count": 117,
     "metadata": {},
     "output_type": "execute_result"
    }
   ],
   "source": [
    "np.random.randn(3,3)"
   ]
  },
  {
   "cell_type": "markdown",
   "metadata": {
    "colab_type": "text",
    "hidden": true,
    "id": "IYGWmXZbPFEf"
   },
   "source": [
    "#### `randint`\n",
    "\n",
    "Return random integers from `low` (inclusive) to `high` (exclusive)."
   ]
  },
  {
   "cell_type": "code",
   "execution_count": 118,
   "metadata": {
    "colab": {
     "base_uri": "https://localhost:8080/",
     "height": 34
    },
    "colab_type": "code",
    "executionInfo": {
     "elapsed": 6297,
     "status": "ok",
     "timestamp": 1566218624750,
     "user": {
      "displayName": "Ai Adventures",
      "photoUrl": "https://lh3.googleusercontent.com/-OQdAjp2vMZo/AAAAAAAAAAI/AAAAAAAAAA8/8FVq41kVT5s/s64/photo.jpg",
      "userId": "14635366068755244481"
     },
     "user_tz": -330
    },
    "hidden": true,
    "id": "3ddW1gLuPFEg",
    "outputId": "32838ce1-7022-4be8-fe78-220f386048dc"
   },
   "outputs": [
    {
     "data": {
      "text/plain": [
       "9"
      ]
     },
     "execution_count": 118,
     "metadata": {},
     "output_type": "execute_result"
    }
   ],
   "source": [
    "np.random.randint(10)"
   ]
  },
  {
   "cell_type": "code",
   "execution_count": 119,
   "metadata": {
    "colab": {
     "base_uri": "https://localhost:8080/",
     "height": 34
    },
    "colab_type": "code",
    "executionInfo": {
     "elapsed": 6280,
     "status": "ok",
     "timestamp": 1566218624750,
     "user": {
      "displayName": "Ai Adventures",
      "photoUrl": "https://lh3.googleusercontent.com/-OQdAjp2vMZo/AAAAAAAAAAI/AAAAAAAAAA8/8FVq41kVT5s/s64/photo.jpg",
      "userId": "14635366068755244481"
     },
     "user_tz": -330
    },
    "hidden": true,
    "id": "_MtPBFpWPFEk",
    "outputId": "bf38774e-4d3a-41cf-ac52-2491c54d3a3b"
   },
   "outputs": [
    {
     "data": {
      "text/plain": [
       "10"
      ]
     },
     "execution_count": 119,
     "metadata": {},
     "output_type": "execute_result"
    }
   ],
   "source": [
    "np.random.randint(10, 15)"
   ]
  },
  {
   "cell_type": "code",
   "execution_count": 120,
   "metadata": {
    "colab": {
     "base_uri": "https://localhost:8080/",
     "height": 34
    },
    "colab_type": "code",
    "executionInfo": {
     "elapsed": 6265,
     "status": "ok",
     "timestamp": 1566218624751,
     "user": {
      "displayName": "Ai Adventures",
      "photoUrl": "https://lh3.googleusercontent.com/-OQdAjp2vMZo/AAAAAAAAAAI/AAAAAAAAAA8/8FVq41kVT5s/s64/photo.jpg",
      "userId": "14635366068755244481"
     },
     "user_tz": -330
    },
    "hidden": true,
    "id": "umoZweH5PFEq",
    "outputId": "81db11e8-4c1c-4533-f460-0790652f33fd"
   },
   "outputs": [
    {
     "data": {
      "text/plain": [
       "array([11, 14, 10, 13, 10])"
      ]
     },
     "execution_count": 120,
     "metadata": {},
     "output_type": "execute_result"
    }
   ],
   "source": [
    "np.random.randint(10,15,5)"
   ]
  },
  {
   "cell_type": "markdown",
   "metadata": {
    "colab_type": "text",
    "heading_collapsed": true,
    "id": "iKzW8NYiPFEt"
   },
   "source": [
    "## Mathematical Methods\n",
    "\n",
    "A set of mathematical functions which compute statistics about an entire array or about the data along an axis are accessible as array methods. **Aggregations** (often called reductions) like `sum`, `mean`, and standard deviation `std` can either be used by calling the array instance method or using the top level NumPy function."
   ]
  },
  {
   "cell_type": "code",
   "execution_count": 121,
   "metadata": {
    "colab": {},
    "colab_type": "code",
    "hidden": true,
    "id": "fpkOE51tPFEw"
   },
   "outputs": [
    {
     "data": {
      "text/plain": [
       "array([[-0.56704805,  0.24488826,  0.87536617, -1.72172164, -1.51742272],\n",
       "       [ 1.40307803,  1.15025767, -0.04823856, -0.0973904 , -1.0839626 ],\n",
       "       [ 1.17028092, -0.49143503, -0.09833541, -0.11035049,  1.58275336]])"
      ]
     },
     "execution_count": 121,
     "metadata": {},
     "output_type": "execute_result"
    }
   ],
   "source": [
    "a = np.random.randn(3,5)\n",
    "a"
   ]
  },
  {
   "cell_type": "code",
   "execution_count": 122,
   "metadata": {
    "colab": {
     "base_uri": "https://localhost:8080/",
     "height": 34
    },
    "colab_type": "code",
    "executionInfo": {
     "elapsed": 6246,
     "status": "ok",
     "timestamp": 1566218624752,
     "user": {
      "displayName": "Ai Adventures",
      "photoUrl": "https://lh3.googleusercontent.com/-OQdAjp2vMZo/AAAAAAAAAAI/AAAAAAAAAA8/8FVq41kVT5s/s64/photo.jpg",
      "userId": "14635366068755244481"
     },
     "user_tz": -330
    },
    "hidden": true,
    "id": "u8Kkb_l7PFE1",
    "outputId": "537ef429-9d0e-40cc-fa98-8a2f671df144"
   },
   "outputs": [
    {
     "data": {
      "text/plain": [
       "(0.046047967612773376, 0.046047967612773376)"
      ]
     },
     "execution_count": 122,
     "metadata": {},
     "output_type": "execute_result"
    }
   ],
   "source": [
    "a.mean(), np.mean(a)"
   ]
  },
  {
   "cell_type": "markdown",
   "metadata": {},
   "source": [
    "Functions like mean and sum take an optional *axis* argument which computes the statistic over the given axis, resulting in an array with one fewer dimension: "
   ]
  },
  {
   "cell_type": "code",
   "execution_count": 123,
   "metadata": {},
   "outputs": [
    {
     "data": {
      "text/plain": [
       "array([-0.5371876 ,  0.26474883,  0.41058267])"
      ]
     },
     "execution_count": 123,
     "metadata": {},
     "output_type": "execute_result"
    }
   ],
   "source": [
    "a.mean(axis=1)"
   ]
  },
  {
   "cell_type": "code",
   "execution_count": 124,
   "metadata": {},
   "outputs": [
    {
     "data": {
      "text/plain": [
       "array([ 2.0063109 ,  0.9037109 ,  0.72879221, -1.92946253, -1.01863196])"
      ]
     },
     "execution_count": 124,
     "metadata": {},
     "output_type": "execute_result"
    }
   ],
   "source": [
    "a.sum(axis=0)"
   ]
  },
  {
   "cell_type": "markdown",
   "metadata": {},
   "source": [
    "```{admonition} Exercise\n",
    "\n",
    "Spend some time to ponder upon the shape of the resulted array in the last two cells. What does *axis=0* and *axis=1* mean? and how is `mean` and `sum` calculated over any axis? \n",
    "```\n",
    "Some most frequently used statistical methods.\n",
    "\n",
    "| Method             | Description                                            |\n",
    "|--------------------|--------------------------------------------------------|\n",
    "| `sum`              | Sum of all the elements in the array or along an axis. |\n",
    "| `mean`             | Arithmetic mean.                                       |\n",
    "| `std`, `var`       | Standard deviation and variance, respectively.         |\n",
    "| `min`, `max`       | Minumum and Maximum, respectively.                     |\n",
    "| `argmax`, `argmin` | Indices of minimum and maximum elements, respectively. |"
   ]
  },
  {
   "cell_type": "markdown",
   "metadata": {
    "colab_type": "text",
    "heading_collapsed": true,
    "hidden": true,
    "id": "DqbzsH1iPFFG"
   },
   "source": [
    "## `dtype`\n",
    "\n",
    "The *data type* or `dtype` is a special object containing the information the ndarray needs to interpret a chunk of memory as a particular type of data. \n",
    "\n",
    "The numerical dtypes are named the same way: a type name, like `float` or `int`, followed by a number indicating the number of bits per element. A standard double-precision floating point value takes up 8 bytes or 64 bits. Thus, this type is known in NumPy as `float64`."
   ]
  },
  {
   "cell_type": "code",
   "execution_count": 125,
   "metadata": {},
   "outputs": [
    {
     "data": {
      "text/plain": [
       "dtype('int32')"
      ]
     },
     "execution_count": 125,
     "metadata": {},
     "output_type": "execute_result"
    }
   ],
   "source": [
    "arr = np.array([1,2,3,4])\n",
    "arr.dtype"
   ]
  },
  {
   "cell_type": "markdown",
   "metadata": {},
   "source": [
    "You can explicitly convert or cast an array from one dtype to another using ndarray’s `astype()` method."
   ]
  },
  {
   "cell_type": "code",
   "execution_count": 126,
   "metadata": {},
   "outputs": [
    {
     "data": {
      "text/plain": [
       "dtype('float64')"
      ]
     },
     "execution_count": 126,
     "metadata": {},
     "output_type": "execute_result"
    }
   ],
   "source": [
    "f_arr = arr.astype(np.float64)\n",
    "f_arr.dtype"
   ]
  },
  {
   "cell_type": "markdown",
   "metadata": {},
   "source": [
    "```{note}\n",
    "Calling `astype()` always creates a new array (a copy of the data), even if the new `dtype` is the same as the old dtype.\n",
    "```"
   ]
  },
  {
   "cell_type": "code",
   "execution_count": 127,
   "metadata": {
    "colab": {
     "base_uri": "https://localhost:8080/",
     "height": 34
    },
    "colab_type": "code",
    "executionInfo": {
     "elapsed": 6169,
     "status": "ok",
     "timestamp": 1566218624755,
     "user": {
      "displayName": "Ai Adventures",
      "photoUrl": "https://lh3.googleusercontent.com/-OQdAjp2vMZo/AAAAAAAAAAI/AAAAAAAAAA8/8FVq41kVT5s/s64/photo.jpg",
      "userId": "14635366068755244481"
     },
     "user_tz": -330
    },
    "hidden": true,
    "id": "nRAqMg9TPFFG",
    "outputId": "99acffff-b110-4fc4-c018-119cfc032fe9"
   },
   "outputs": [
    {
     "data": {
      "text/plain": [
       "dtype('int32')"
      ]
     },
     "execution_count": 127,
     "metadata": {},
     "output_type": "execute_result"
    }
   ],
   "source": [
    "arr.dtype # prefered, because it returns elements data type"
   ]
  },
  {
   "cell_type": "code",
   "execution_count": 128,
   "metadata": {
    "colab": {
     "base_uri": "https://localhost:8080/",
     "height": 34
    },
    "colab_type": "code",
    "executionInfo": {
     "elapsed": 6154,
     "status": "ok",
     "timestamp": 1566218624755,
     "user": {
      "displayName": "Ai Adventures",
      "photoUrl": "https://lh3.googleusercontent.com/-OQdAjp2vMZo/AAAAAAAAAAI/AAAAAAAAAA8/8FVq41kVT5s/s64/photo.jpg",
      "userId": "14635366068755244481"
     },
     "user_tz": -330
    },
    "hidden": true,
    "id": "rVufUzTaPFFJ",
    "outputId": "fcc2f438-a939-44f1-d949-db1aa3d44fee"
   },
   "outputs": [
    {
     "data": {
      "text/plain": [
       "numpy.ndarray"
      ]
     },
     "execution_count": 128,
     "metadata": {},
     "output_type": "execute_result"
    }
   ],
   "source": [
    "type(arr) # returns variable data type"
   ]
  },
  {
   "cell_type": "markdown",
   "metadata": {
    "colab_type": "text",
    "heading_collapsed": true,
    "hidden": true,
    "id": "kxbXrsY-PFFL"
   },
   "source": [
    "## `shape`\n",
    "\n",
    "We have seen that Numpy arrays are also known as `ndarray`. To check what is the dimension of the Numpy array `shape` canbe used."
   ]
  },
  {
   "cell_type": "code",
   "execution_count": 129,
   "metadata": {
    "colab": {
     "base_uri": "https://localhost:8080/",
     "height": 34
    },
    "colab_type": "code",
    "executionInfo": {
     "elapsed": 6140,
     "status": "ok",
     "timestamp": 1566218624756,
     "user": {
      "displayName": "Ai Adventures",
      "photoUrl": "https://lh3.googleusercontent.com/-OQdAjp2vMZo/AAAAAAAAAAI/AAAAAAAAAA8/8FVq41kVT5s/s64/photo.jpg",
      "userId": "14635366068755244481"
     },
     "user_tz": -330
    },
    "hidden": true,
    "id": "VS3twHedPFFL",
    "outputId": "83eac06a-999e-4b87-bc8b-31486fbdaa15"
   },
   "outputs": [
    {
     "data": {
      "text/plain": [
       "(3, 5)"
      ]
     },
     "execution_count": 129,
     "metadata": {},
     "output_type": "execute_result"
    }
   ],
   "source": [
    "a.shape"
   ]
  },
  {
   "cell_type": "code",
   "execution_count": 130,
   "metadata": {
    "colab": {
     "base_uri": "https://localhost:8080/",
     "height": 34
    },
    "colab_type": "code",
    "executionInfo": {
     "elapsed": 6126,
     "status": "ok",
     "timestamp": 1566218624757,
     "user": {
      "displayName": "Ai Adventures",
      "photoUrl": "https://lh3.googleusercontent.com/-OQdAjp2vMZo/AAAAAAAAAAI/AAAAAAAAAA8/8FVq41kVT5s/s64/photo.jpg",
      "userId": "14635366068755244481"
     },
     "user_tz": -330
    },
    "hidden": true,
    "id": "pjUKUSHCPFFS",
    "outputId": "67010f7b-02ad-4fcd-9918-7f8d08a11dd6"
   },
   "outputs": [
    {
     "data": {
      "text/plain": [
       "array([[-0.56704805,  0.24488826,  0.87536617, -1.72172164, -1.51742272],\n",
       "       [ 1.40307803,  1.15025767, -0.04823856, -0.0973904 , -1.0839626 ],\n",
       "       [ 1.17028092, -0.49143503, -0.09833541, -0.11035049,  1.58275336]])"
      ]
     },
     "execution_count": 130,
     "metadata": {},
     "output_type": "execute_result"
    }
   ],
   "source": [
    "a"
   ]
  },
  {
   "cell_type": "code",
   "execution_count": 131,
   "metadata": {
    "colab": {
     "base_uri": "https://localhost:8080/",
     "height": 153
    },
    "colab_type": "code",
    "executionInfo": {
     "elapsed": 6112,
     "status": "ok",
     "timestamp": 1566218624758,
     "user": {
      "displayName": "Ai Adventures",
      "photoUrl": "https://lh3.googleusercontent.com/-OQdAjp2vMZo/AAAAAAAAAAI/AAAAAAAAAA8/8FVq41kVT5s/s64/photo.jpg",
      "userId": "14635366068755244481"
     },
     "user_tz": -330
    },
    "hidden": true,
    "id": "DCJafatwPFFd",
    "outputId": "72c37a4f-548e-4a41-d6d2-7d55390e0e99"
   },
   "outputs": [
    {
     "data": {
      "text/plain": [
       "array([[-0.56704805,  0.24488826,  0.87536617, -1.72172164, -1.51742272,\n",
       "         1.40307803,  1.15025767, -0.04823856, -0.0973904 , -1.0839626 ,\n",
       "         1.17028092, -0.49143503, -0.09833541, -0.11035049,  1.58275336]])"
      ]
     },
     "execution_count": 131,
     "metadata": {},
     "output_type": "execute_result"
    }
   ],
   "source": [
    "a.reshape(1,15) # reshape is one of the most important function in numpy"
   ]
  },
  {
   "cell_type": "code",
   "execution_count": 132,
   "metadata": {
    "colab": {
     "base_uri": "https://localhost:8080/",
     "height": 34
    },
    "colab_type": "code",
    "executionInfo": {
     "elapsed": 6096,
     "status": "ok",
     "timestamp": 1566218624758,
     "user": {
      "displayName": "Ai Adventures",
      "photoUrl": "https://lh3.googleusercontent.com/-OQdAjp2vMZo/AAAAAAAAAAI/AAAAAAAAAA8/8FVq41kVT5s/s64/photo.jpg",
      "userId": "14635366068755244481"
     },
     "user_tz": -330
    },
    "hidden": true,
    "id": "4FLj1s2vPFFi",
    "outputId": "afcb2660-ebe6-4b03-8548-d028992a1a38"
   },
   "outputs": [
    {
     "data": {
      "text/plain": [
       "(15, 1)"
      ]
     },
     "execution_count": 132,
     "metadata": {},
     "output_type": "execute_result"
    }
   ],
   "source": [
    "a.reshape(15,1).shape"
   ]
  },
  {
   "cell_type": "markdown",
   "metadata": {
    "colab_type": "text",
    "id": "sfR5wu81PFFm"
   },
   "source": [
    "you can read more about `shape` and `reshape()`, [here](https://www.sharpsightlabs.com/blog/numpy-reshape-python/)."
   ]
  },
  {
   "cell_type": "markdown",
   "metadata": {
    "colab_type": "text",
    "heading_collapsed": true,
    "id": "YolFs8eTPFH2"
   },
   "source": [
    "## Conditional logic\n",
    "\n",
    "The `np.where` function is a vectorized version of the ternary expression `x if condition else y`. "
   ]
  },
  {
   "cell_type": "code",
   "execution_count": 133,
   "metadata": {},
   "outputs": [
    {
     "data": {
      "text/plain": [
       "(array([0, 1, 2, 3, 4]), array([5, 6, 7, 8, 9]))"
      ]
     },
     "execution_count": 133,
     "metadata": {},
     "output_type": "execute_result"
    }
   ],
   "source": [
    "x = np.arange(5)\n",
    "y = np.arange(5,10)\n",
    "x,y"
   ]
  },
  {
   "cell_type": "code",
   "execution_count": 134,
   "metadata": {},
   "outputs": [],
   "source": [
    "cond = np.array([True, False, True, False, False])"
   ]
  },
  {
   "cell_type": "markdown",
   "metadata": {},
   "source": [
    "Suppose we wanted to take a value from *x* whenever the corresponding value in *cond* is True otherwise take the value from *y*. We can do it using pure python but it will be too much of code.With `np.where` we can write this very concisely."
   ]
  },
  {
   "cell_type": "code",
   "execution_count": 135,
   "metadata": {},
   "outputs": [
    {
     "data": {
      "text/plain": [
       "array([0, 6, 2, 8, 9])"
      ]
     },
     "execution_count": 135,
     "metadata": {},
     "output_type": "execute_result"
    }
   ],
   "source": [
    "result = np.where(cond, x, y)\n",
    "result"
   ]
  },
  {
   "cell_type": "markdown",
   "metadata": {},
   "source": [
    "The *second* and *third* arguments to `np.where` don’t need to be arrays; one or both of them can be scalars. A typical use of `where` in data analysis is to produce a new array of values based on another array. "
   ]
  },
  {
   "cell_type": "code",
   "execution_count": 136,
   "metadata": {},
   "outputs": [
    {
     "data": {
      "text/plain": [
       "array([ 2.10545402,  1.13446289,  0.12374373, -0.11587502,  3.51407996,\n",
       "       -0.3293941 , -1.12462884, -0.39841971,  1.91982302,  1.21891421])"
      ]
     },
     "execution_count": 136,
     "metadata": {},
     "output_type": "execute_result"
    }
   ],
   "source": [
    "arr = np.random.randn(10)\n",
    "arr"
   ]
  },
  {
   "cell_type": "code",
   "execution_count": 137,
   "metadata": {},
   "outputs": [
    {
     "data": {
      "text/plain": [
       "array([ True,  True,  True, False,  True, False, False, False,  True,\n",
       "        True])"
      ]
     },
     "execution_count": 137,
     "metadata": {},
     "output_type": "execute_result"
    }
   ],
   "source": [
    "np.where(arr>0, True, False)"
   ]
  },
  {
   "cell_type": "markdown",
   "metadata": {},
   "source": [
    "The arrays passed to where can be more than just equal sizes array or scalers. With some cleverness you can use where to express more complicated logic; consider this example where we have two boolean arrays, *cond1* and *cond2*, and wish to assign a different value for each of the 4 possible pairs of boolean values: \n",
    "\n",
    "```{code-block} python\n",
    "\n",
    "result = [] \n",
    "for i in range(n):    \n",
    "    if cond1[i] and cond2[i]:        \n",
    "        result.append(0)    \n",
    "    elif cond1[i]:        \n",
    "        result.append(1)    \n",
    "    elif cond2[i]:        \n",
    "        result.append(2)    \n",
    "    else:        \n",
    "        result.append(3)\n",
    "```\n",
    "\n",
    "While perhaps not immediately obvious, this for loop can be converted into a nested `where` expression: \n",
    "\n",
    "\n",
    "```{code-block} python\n",
    "\n",
    "np.where(cond1 & cond2, 0,         \n",
    "         np.where(cond1, 1,                  \n",
    "                  np.where(cond2, 2, 3)))\n",
    "```"
   ]
  },
  {
   "cell_type": "markdown",
   "metadata": {
    "colab_type": "text",
    "id": "WGpH9vp-PFHr"
   },
   "source": [
    "## Arithematics operators\n",
    "\n",
    "Arrays are important because they enable you to express batch operations on data *without writing any for loops*. This is usually called **vectorization**. Any arithmetic operations between equal-size arrays applies the operation elementwise:"
   ]
  },
  {
   "cell_type": "code",
   "execution_count": 138,
   "metadata": {
    "colab": {},
    "colab_type": "code",
    "id": "lMrujBknPFHr"
   },
   "outputs": [
    {
     "data": {
      "text/plain": [
       "array([0, 1, 2, 3, 4, 5, 6, 7, 8, 9])"
      ]
     },
     "execution_count": 138,
     "metadata": {},
     "output_type": "execute_result"
    }
   ],
   "source": [
    "arr = np.arange(10)\n",
    "arr"
   ]
  },
  {
   "cell_type": "code",
   "execution_count": 139,
   "metadata": {
    "colab": {
     "base_uri": "https://localhost:8080/",
     "height": 34
    },
    "colab_type": "code",
    "executionInfo": {
     "elapsed": 5575,
     "status": "ok",
     "timestamp": 1566218624791,
     "user": {
      "displayName": "Ai Adventures",
      "photoUrl": "https://lh3.googleusercontent.com/-OQdAjp2vMZo/AAAAAAAAAAI/AAAAAAAAAA8/8FVq41kVT5s/s64/photo.jpg",
      "userId": "14635366068755244481"
     },
     "user_tz": -330
    },
    "id": "uhxOujKhPFHt",
    "outputId": "b4107ec9-45e4-444d-da89-23d961e7be39"
   },
   "outputs": [
    {
     "data": {
      "text/plain": [
       "array([ 0,  1,  4,  9, 16, 25, 36, 49, 64, 81])"
      ]
     },
     "execution_count": 139,
     "metadata": {},
     "output_type": "execute_result"
    }
   ],
   "source": [
    "arr * arr"
   ]
  },
  {
   "cell_type": "code",
   "execution_count": 140,
   "metadata": {
    "colab": {
     "base_uri": "https://localhost:8080/",
     "height": 34
    },
    "colab_type": "code",
    "executionInfo": {
     "elapsed": 5562,
     "status": "ok",
     "timestamp": 1566218624793,
     "user": {
      "displayName": "Ai Adventures",
      "photoUrl": "https://lh3.googleusercontent.com/-OQdAjp2vMZo/AAAAAAAAAAI/AAAAAAAAAA8/8FVq41kVT5s/s64/photo.jpg",
      "userId": "14635366068755244481"
     },
     "user_tz": -330
    },
    "id": "ZdAv05cbPFHv",
    "outputId": "0813407d-37a3-4ac9-be3a-df350fafd213"
   },
   "outputs": [
    {
     "name": "stderr",
     "output_type": "stream",
     "text": [
      "C:\\Users\\prath\\AppData\\Local\\Temp\\ipykernel_40612\\3001117470.py:1: RuntimeWarning: invalid value encountered in true_divide\n",
      "  arr / arr\n"
     ]
    },
    {
     "data": {
      "text/plain": [
       "array([nan,  1.,  1.,  1.,  1.,  1.,  1.,  1.,  1.,  1.])"
      ]
     },
     "execution_count": 140,
     "metadata": {},
     "output_type": "execute_result"
    }
   ],
   "source": [
    "arr / arr"
   ]
  },
  {
   "cell_type": "markdown",
   "metadata": {},
   "source": [
    "Arithmetic operations with *scalars* are as you would expect, propagating the value to each element"
   ]
  },
  {
   "cell_type": "code",
   "execution_count": 141,
   "metadata": {
    "colab": {
     "base_uri": "https://localhost:8080/",
     "height": 85
    },
    "colab_type": "code",
    "executionInfo": {
     "elapsed": 5518,
     "status": "ok",
     "timestamp": 1566218624795,
     "user": {
      "displayName": "Ai Adventures",
      "photoUrl": "https://lh3.googleusercontent.com/-OQdAjp2vMZo/AAAAAAAAAAI/AAAAAAAAAA8/8FVq41kVT5s/s64/photo.jpg",
      "userId": "14635366068755244481"
     },
     "user_tz": -330
    },
    "id": "er4icZn0PFHz",
    "outputId": "5bf8d958-6fdb-4529-b0ee-da6705716478"
   },
   "outputs": [
    {
     "name": "stderr",
     "output_type": "stream",
     "text": [
      "C:\\Users\\prath\\AppData\\Local\\Temp\\ipykernel_40612\\255282349.py:1: RuntimeWarning: divide by zero encountered in true_divide\n",
      "  1/arr\n"
     ]
    },
    {
     "data": {
      "text/plain": [
       "array([       inf, 1.        , 0.5       , 0.33333333, 0.25      ,\n",
       "       0.2       , 0.16666667, 0.14285714, 0.125     , 0.11111111])"
      ]
     },
     "execution_count": 141,
     "metadata": {},
     "output_type": "execute_result"
    }
   ],
   "source": [
    "1/arr"
   ]
  },
  {
   "cell_type": "code",
   "execution_count": 142,
   "metadata": {
    "colab": {
     "base_uri": "https://localhost:8080/",
     "height": 34
    },
    "colab_type": "code",
    "executionInfo": {
     "elapsed": 5504,
     "status": "ok",
     "timestamp": 1566218624796,
     "user": {
      "displayName": "Ai Adventures",
      "photoUrl": "https://lh3.googleusercontent.com/-OQdAjp2vMZo/AAAAAAAAAAI/AAAAAAAAAA8/8FVq41kVT5s/s64/photo.jpg",
      "userId": "14635366068755244481"
     },
     "user_tz": -330
    },
    "id": "VNuMOPkCPFH0",
    "outputId": "92d1cc3c-b06d-436f-f5a0-74a514e77c8e"
   },
   "outputs": [
    {
     "data": {
      "text/plain": [
       "array([   0,    1,   16,   81,  256,  625, 1296, 2401, 4096, 6561],\n",
       "      dtype=int32)"
      ]
     },
     "execution_count": 142,
     "metadata": {},
     "output_type": "execute_result"
    }
   ],
   "source": [
    "arr**4"
   ]
  },
  {
   "cell_type": "markdown",
   "metadata": {},
   "source": [
    "Operations between differently sized arrays is called **broadcasting** and will be discussed in more detail in a minute."
   ]
  },
  {
   "cell_type": "markdown",
   "metadata": {
    "colab_type": "text",
    "heading_collapsed": true,
    "id": "PsVWAbU-PFFn"
   },
   "source": [
    "## Numpy Indexing and slicing"
   ]
  },
  {
   "cell_type": "markdown",
   "metadata": {
    "colab_type": "text",
    "hidden": true,
    "id": "qOOVLcqmPFFo"
   },
   "source": [
    "### Basic Indexing \n",
    "\n",
    "NumPy has a rich syntax for indexing, as there are many ways you may want to select a subset of your data or individual elements. Here, we will learn, how to select element or group of elements form a numpy array. Remember slicing from introduction to python chapter? \n",
    "#### 1D-array\n",
    "One-dimensional arrays are simple; on the surface they act similarly to Python lists:"
   ]
  },
  {
   "cell_type": "code",
   "execution_count": 19,
   "metadata": {
    "colab": {},
    "colab_type": "code",
    "hidden": true,
    "id": "VAy7pEDlPFFq"
   },
   "outputs": [],
   "source": [
    "arr = np.arange(10)"
   ]
  },
  {
   "cell_type": "code",
   "execution_count": 20,
   "metadata": {
    "colab": {
     "base_uri": "https://localhost:8080/",
     "height": 34
    },
    "colab_type": "code",
    "executionInfo": {
     "elapsed": 6079,
     "status": "ok",
     "timestamp": 1566218624760,
     "user": {
      "displayName": "Ai Adventures",
      "photoUrl": "https://lh3.googleusercontent.com/-OQdAjp2vMZo/AAAAAAAAAAI/AAAAAAAAAA8/8FVq41kVT5s/s64/photo.jpg",
      "userId": "14635366068755244481"
     },
     "user_tz": -330
    },
    "hidden": true,
    "id": "hCXnrLhEPFFt",
    "outputId": "44df5e00-edfc-42ed-fcfa-24ad07f9e055"
   },
   "outputs": [
    {
     "data": {
      "text/plain": [
       "array([0, 1, 2, 3, 4, 5, 6, 7, 8, 9])"
      ]
     },
     "execution_count": 20,
     "metadata": {},
     "output_type": "execute_result"
    }
   ],
   "source": [
    "arr"
   ]
  },
  {
   "cell_type": "code",
   "execution_count": 21,
   "metadata": {
    "colab": {
     "base_uri": "https://localhost:8080/",
     "height": 34
    },
    "colab_type": "code",
    "executionInfo": {
     "elapsed": 6066,
     "status": "ok",
     "timestamp": 1566218624760,
     "user": {
      "displayName": "Ai Adventures",
      "photoUrl": "https://lh3.googleusercontent.com/-OQdAjp2vMZo/AAAAAAAAAAI/AAAAAAAAAA8/8FVq41kVT5s/s64/photo.jpg",
      "userId": "14635366068755244481"
     },
     "user_tz": -330
    },
    "hidden": true,
    "id": "d_X5kKXAPFFy",
    "outputId": "7bed6837-1eb8-457c-a0b0-211688caed2a"
   },
   "outputs": [
    {
     "data": {
      "text/plain": [
       "5"
      ]
     },
     "execution_count": 21,
     "metadata": {},
     "output_type": "execute_result"
    }
   ],
   "source": [
    "arr[5]"
   ]
  },
  {
   "cell_type": "code",
   "execution_count": 146,
   "metadata": {
    "colab": {
     "base_uri": "https://localhost:8080/",
     "height": 34
    },
    "colab_type": "code",
    "executionInfo": {
     "elapsed": 6052,
     "status": "ok",
     "timestamp": 1566218624761,
     "user": {
      "displayName": "Ai Adventures",
      "photoUrl": "https://lh3.googleusercontent.com/-OQdAjp2vMZo/AAAAAAAAAAI/AAAAAAAAAA8/8FVq41kVT5s/s64/photo.jpg",
      "userId": "14635366068755244481"
     },
     "user_tz": -330
    },
    "hidden": true,
    "id": "bkdGaEi8PFF3",
    "outputId": "778a579c-0a47-4855-dac5-a41ed07311b4"
   },
   "outputs": [
    {
     "data": {
      "text/plain": [
       "array([4, 5, 6, 7, 8])"
      ]
     },
     "execution_count": 146,
     "metadata": {},
     "output_type": "execute_result"
    }
   ],
   "source": [
    "arr[4:9]"
   ]
  },
  {
   "cell_type": "code",
   "execution_count": 147,
   "metadata": {
    "colab": {
     "base_uri": "https://localhost:8080/",
     "height": 34
    },
    "colab_type": "code",
    "executionInfo": {
     "elapsed": 6038,
     "status": "ok",
     "timestamp": 1566218624762,
     "user": {
      "displayName": "Ai Adventures",
      "photoUrl": "https://lh3.googleusercontent.com/-OQdAjp2vMZo/AAAAAAAAAAI/AAAAAAAAAA8/8FVq41kVT5s/s64/photo.jpg",
      "userId": "14635366068755244481"
     },
     "user_tz": -330
    },
    "hidden": true,
    "id": "HaqtDKHyPFF6",
    "outputId": "39d9f6c9-d1ca-4276-e242-53371df1c232"
   },
   "outputs": [
    {
     "data": {
      "text/plain": [
       "array([  0,   1,   2,   3, 100,   5, 100,   7, 100,   9])"
      ]
     },
     "execution_count": 147,
     "metadata": {},
     "output_type": "execute_result"
    }
   ],
   "source": [
    "arr[4:9:2] = 100\n",
    "arr"
   ]
  },
  {
   "cell_type": "markdown",
   "metadata": {},
   "source": [
    "As you can see, if you assign a scalar value to a slice, the value is propagated (or broadcasted henceforth) to the entire selection. An important first distinction from lists is that array slices are **views** on the original array. This means that the data is not copied, and any modifications to the view will be reflected in the source array."
   ]
  },
  {
   "cell_type": "code",
   "execution_count": 148,
   "metadata": {},
   "outputs": [
    {
     "data": {
      "text/plain": [
       "array([  2,   3, 100,   5])"
      ]
     },
     "execution_count": 148,
     "metadata": {},
     "output_type": "execute_result"
    }
   ],
   "source": [
    "arr26 = arr[2:6]\n",
    "arr26"
   ]
  },
  {
   "cell_type": "code",
   "execution_count": 149,
   "metadata": {},
   "outputs": [
    {
     "data": {
      "text/plain": [
       "array([  0,   1,  26,  26,  26,  26, 100,   7, 100,   9])"
      ]
     },
     "execution_count": 149,
     "metadata": {},
     "output_type": "execute_result"
    }
   ],
   "source": [
    "arr26[:] = 26\n",
    "arr"
   ]
  },
  {
   "cell_type": "markdown",
   "metadata": {},
   "source": [
    "This might look surprising at first but as NumPy has been designed with large data use cases in mind, you could imagine performance and memory problems if NumPy insisted on copying data left and right."
   ]
  },
  {
   "cell_type": "markdown",
   "metadata": {
    "colab_type": "text",
    "hidden": true,
    "id": "ql2X_Go4PFF-"
   },
   "source": [
    "#### 2D-array\n",
    "\n",
    "With higher dimensional arrays, you have many more options. In a two-dimensional array, the elements at each index are no longer scalars but rather one-dimensional arrays: "
   ]
  },
  {
   "cell_type": "code",
   "execution_count": 150,
   "metadata": {
    "colab": {},
    "colab_type": "code",
    "hidden": true,
    "id": "vVneYDGlPFF-"
   },
   "outputs": [],
   "source": [
    "arr2d = np.arange(9).reshape(3,3)"
   ]
  },
  {
   "cell_type": "code",
   "execution_count": 151,
   "metadata": {
    "colab": {
     "base_uri": "https://localhost:8080/",
     "height": 187
    },
    "colab_type": "code",
    "executionInfo": {
     "elapsed": 6021,
     "status": "ok",
     "timestamp": 1566218624763,
     "user": {
      "displayName": "Ai Adventures",
      "photoUrl": "https://lh3.googleusercontent.com/-OQdAjp2vMZo/AAAAAAAAAAI/AAAAAAAAAA8/8FVq41kVT5s/s64/photo.jpg",
      "userId": "14635366068755244481"
     },
     "user_tz": -330
    },
    "hidden": true,
    "id": "Yku1VN9KPFGH",
    "outputId": "9db79148-3c01-4832-9877-4bb407cb0053"
   },
   "outputs": [
    {
     "data": {
      "text/plain": [
       "array([0, 1, 2])"
      ]
     },
     "execution_count": 151,
     "metadata": {},
     "output_type": "execute_result"
    }
   ],
   "source": [
    "arr2d[0]"
   ]
  },
  {
   "cell_type": "markdown",
   "metadata": {
    "colab_type": "text",
    "hidden": true,
    "id": "Zu32z5MJPFGJ"
   },
   "source": [
    "Thus, individual elements can be accessed recursively. But that is a bit too much work, so you can pass a comma-separated list of indices to select individual elements. So these are equivalent: "
   ]
  },
  {
   "cell_type": "code",
   "execution_count": 152,
   "metadata": {},
   "outputs": [
    {
     "data": {
      "text/plain": [
       "1"
      ]
     },
     "execution_count": 152,
     "metadata": {},
     "output_type": "execute_result"
    }
   ],
   "source": [
    "arr2d[0][1]"
   ]
  },
  {
   "cell_type": "code",
   "execution_count": 153,
   "metadata": {},
   "outputs": [
    {
     "data": {
      "text/plain": [
       "1"
      ]
     },
     "execution_count": 153,
     "metadata": {},
     "output_type": "execute_result"
    }
   ],
   "source": [
    "arr2d[0,1]"
   ]
  },
  {
   "cell_type": "markdown",
   "metadata": {},
   "source": [
    "In multidimensional arrays, if you omit later indices, the returned object will be a lower dimensional `ndarray` consisting of all the data along the higher dimensions."
   ]
  },
  {
   "cell_type": "code",
   "execution_count": 154,
   "metadata": {},
   "outputs": [
    {
     "data": {
      "text/plain": [
       "array([[ 0.38401726, -0.83777612, -0.34853195, -0.21788219],\n",
       "       [-1.65285914, -0.27194   ,  0.03748367,  0.6589084 ],\n",
       "       [-2.84889039,  0.04977967, -0.32041317, -0.588543  ]])"
      ]
     },
     "execution_count": 154,
     "metadata": {},
     "output_type": "execute_result"
    }
   ],
   "source": [
    "arr3d = np.random.randn(2,3,4)\n",
    "arr3d[0]"
   ]
  },
  {
   "cell_type": "markdown",
   "metadata": {},
   "source": [
    "```{note} \n",
    "In all of these cases where subsections of the array have been selected, the returned arrays are **views**.\n",
    "```"
   ]
  },
  {
   "cell_type": "markdown",
   "metadata": {
    "colab_type": "text",
    "heading_collapsed": true,
    "hidden": true,
    "id": "AJ7dwsnKPFGb"
   },
   "source": [
    "### Indexing with slicing\n",
    "\n",
    "Like one-dimensional objects such as Python lists, `ndarrays` can be sliced using the familiar syntax. Higher dimensional objects give you more options as you can slice one or more axes and also mix integers. So, all this is allowed:"
   ]
  },
  {
   "cell_type": "code",
   "execution_count": 155,
   "metadata": {},
   "outputs": [
    {
     "data": {
      "text/plain": [
       "array([[0, 1, 2],\n",
       "       [3, 4, 5],\n",
       "       [6, 7, 8]])"
      ]
     },
     "execution_count": 155,
     "metadata": {},
     "output_type": "execute_result"
    }
   ],
   "source": [
    "arr2d"
   ]
  },
  {
   "cell_type": "code",
   "execution_count": 156,
   "metadata": {},
   "outputs": [
    {
     "data": {
      "text/plain": [
       "array([[1, 2],\n",
       "       [4, 5]])"
      ]
     },
     "execution_count": 156,
     "metadata": {},
     "output_type": "execute_result"
    }
   ],
   "source": [
    "arr2d[0:2, 1:3]"
   ]
  },
  {
   "cell_type": "markdown",
   "metadata": {},
   "source": [
    "As you can see, it has sliced along axis-0 & axis-1. A slice, therefore, selects a range of elements along an axis. You can pass multiple slices just like you can pass multiple indexes."
   ]
  },
  {
   "cell_type": "code",
   "execution_count": 157,
   "metadata": {},
   "outputs": [
    {
     "data": {
      "text/plain": [
       "array([2, 5])"
      ]
     },
     "execution_count": 157,
     "metadata": {},
     "output_type": "execute_result"
    }
   ],
   "source": [
    "arr2d[0:2, 2] # slice and integer"
   ]
  },
  {
   "cell_type": "markdown",
   "metadata": {
    "colab": {
     "base_uri": "https://localhost:8080/",
     "height": 68
    },
    "colab_type": "code",
    "executionInfo": {
     "elapsed": 6006,
     "status": "ok",
     "timestamp": 1566218624763,
     "user": {
      "displayName": "Ai Adventures",
      "photoUrl": "https://lh3.googleusercontent.com/-OQdAjp2vMZo/AAAAAAAAAAI/AAAAAAAAAA8/8FVq41kVT5s/s64/photo.jpg",
      "userId": "14635366068755244481"
     },
     "user_tz": -330
    },
    "hidden": true,
    "id": "sgjYju32PFGg",
    "outputId": "801ae653-1beb-4091-d6b5-13feba97167c"
   },
   "source": [
    "```{note}\n",
    "\n",
    "When slicing, you always obtain array **views**. \n",
    "```"
   ]
  },
  {
   "cell_type": "markdown",
   "metadata": {
    "colab_type": "text",
    "heading_collapsed": true,
    "hidden": true,
    "id": "AJ7dwsnKPFGb"
   },
   "source": [
    "### Boolean Indexing\n",
    "\n",
    "A *boolean array* is an array in which all the elments are either *True* or *False*. You can use a boolean array it index a ndarray."
   ]
  },
  {
   "cell_type": "code",
   "execution_count": 158,
   "metadata": {},
   "outputs": [
    {
     "data": {
      "text/plain": [
       "(array([0, 1, 2, 3, 4, 5, 6, 7, 8]),\n",
       " array([ True, False, False,  True, False, False,  True, False, False]))"
      ]
     },
     "execution_count": 158,
     "metadata": {},
     "output_type": "execute_result"
    }
   ],
   "source": [
    "boolean_arr = np.array([True, False, False]*3)\n",
    "arr = np.arange(9)\n",
    "arr, boolean_arr"
   ]
  },
  {
   "cell_type": "code",
   "execution_count": 159,
   "metadata": {},
   "outputs": [
    {
     "data": {
      "text/plain": [
       "array([0, 3, 6])"
      ]
     },
     "execution_count": 159,
     "metadata": {},
     "output_type": "execute_result"
    }
   ],
   "source": [
    "arr[boolean_arr] "
   ]
  },
  {
   "cell_type": "markdown",
   "metadata": {},
   "source": [
    "Only elements were corresponding boolean value was *True* is returned.\n",
    "\n",
    "The boolean array must be of the same length as the axis it’s indexing. You can even mix and match boolean arrays with slices or integers "
   ]
  },
  {
   "cell_type": "markdown",
   "metadata": {},
   "source": [
    "```{note} \n",
    "\n",
    "Selecting data from an array by boolean indexing always creates a **copy** of the data.\n",
    "\n",
    "```"
   ]
  },
  {
   "cell_type": "markdown",
   "metadata": {},
   "source": [
    "Boolean Indexing could be really handy if you need to update element based on their actual values and not their index."
   ]
  },
  {
   "cell_type": "code",
   "execution_count": 160,
   "metadata": {},
   "outputs": [
    {
     "data": {
      "text/plain": [
       "array([[-0.16618558,  1.08268822],\n",
       "       [ 0.95233055,  0.73749818],\n",
       "       [-1.15654827, -0.04271455],\n",
       "       [ 0.1760257 ,  0.5133232 ],\n",
       "       [ 0.34577149,  1.45266861]])"
      ]
     },
     "execution_count": 160,
     "metadata": {},
     "output_type": "execute_result"
    }
   ],
   "source": [
    "arr = np.random.randn(5,2)\n",
    "arr"
   ]
  },
  {
   "cell_type": "code",
   "execution_count": 161,
   "metadata": {},
   "outputs": [
    {
     "data": {
      "text/plain": [
       "array([[ True, False],\n",
       "       [False, False],\n",
       "       [ True,  True],\n",
       "       [False, False],\n",
       "       [False, False]])"
      ]
     },
     "execution_count": 161,
     "metadata": {},
     "output_type": "execute_result"
    }
   ],
   "source": [
    "arr < 0"
   ]
  },
  {
   "cell_type": "code",
   "execution_count": 162,
   "metadata": {},
   "outputs": [
    {
     "data": {
      "text/plain": [
       "array([[0.        , 1.08268822],\n",
       "       [0.95233055, 0.73749818],\n",
       "       [0.        , 0.        ],\n",
       "       [0.1760257 , 0.5133232 ],\n",
       "       [0.34577149, 1.45266861]])"
      ]
     },
     "execution_count": 162,
     "metadata": {},
     "output_type": "execute_result"
    }
   ],
   "source": [
    "arr[arr<0] = 0\n",
    "arr"
   ]
  },
  {
   "cell_type": "markdown",
   "metadata": {},
   "source": [
    "Numpy has pretty power notation for accessing elements in an array. To select any subset, think in terms of axes i.e. what part of the each axis do you need. To select a particular part of the axis, you can use an *integer*, a *slice* or a *boolean array*. You can mix and match them in way you find suitable. So you have 9 ways (3x3) of selecting data in 2D array and 3**n ways of subset selecting in an N-dimensional array."
   ]
  },
  {
   "cell_type": "markdown",
   "metadata": {
    "colab_type": "text",
    "heading_collapsed": true,
    "id": "FVnWQhN4PFGq"
   },
   "source": [
    "## Broadcasting"
   ]
  },
  {
   "cell_type": "markdown",
   "metadata": {
    "colab_type": "text",
    "hidden": true,
    "id": "cUSbSXfuPFGr"
   },
   "source": [
    "Things starts getting interesting here. Numpy arrays have great advantage over normal python list because of their ability to broadcast.\n",
    "\n",
    "**Broadcasting** describes how arithmetic works between arrays of different shapes. It is a very powerful feature, but one that can be easily misunderstood, even by experienced users. The simplest example of broadcasting occurs when combining a scalar value with an array: "
   ]
  },
  {
   "cell_type": "code",
   "execution_count": 163,
   "metadata": {
    "colab": {
     "base_uri": "https://localhost:8080/",
     "height": 34
    },
    "colab_type": "code",
    "executionInfo": {
     "elapsed": 5869,
     "status": "ok",
     "timestamp": 1566218624771,
     "user": {
      "displayName": "Ai Adventures",
      "photoUrl": "https://lh3.googleusercontent.com/-OQdAjp2vMZo/AAAAAAAAAAI/AAAAAAAAAA8/8FVq41kVT5s/s64/photo.jpg",
      "userId": "14635366068755244481"
     },
     "user_tz": -330
    },
    "hidden": true,
    "id": "p_wJOZQ3PFGr",
    "outputId": "a3600e82-5daf-401a-d270-7ed1742f5301"
   },
   "outputs": [
    {
     "data": {
      "text/plain": [
       "array([0, 1, 2, 3, 4, 5, 6, 7, 8, 9])"
      ]
     },
     "execution_count": 163,
     "metadata": {},
     "output_type": "execute_result"
    }
   ],
   "source": [
    "arr = np.arange(10)\n",
    "arr"
   ]
  },
  {
   "cell_type": "code",
   "execution_count": 164,
   "metadata": {
    "colab": {
     "base_uri": "https://localhost:8080/",
     "height": 34
    },
    "colab_type": "code",
    "executionInfo": {
     "elapsed": 5856,
     "status": "ok",
     "timestamp": 1566218624773,
     "user": {
      "displayName": "Ai Adventures",
      "photoUrl": "https://lh3.googleusercontent.com/-OQdAjp2vMZo/AAAAAAAAAAI/AAAAAAAAAA8/8FVq41kVT5s/s64/photo.jpg",
      "userId": "14635366068755244481"
     },
     "user_tz": -330
    },
    "hidden": true,
    "id": "9vyd4yCEPFGt",
    "outputId": "36fe681c-04c7-4868-a8ee-009b44a24f01"
   },
   "outputs": [
    {
     "data": {
      "text/plain": [
       "array([ 0,  2,  4,  6,  8, 10, 12, 14, 16, 18])"
      ]
     },
     "execution_count": 164,
     "metadata": {},
     "output_type": "execute_result"
    }
   ],
   "source": [
    "arr*2"
   ]
  },
  {
   "cell_type": "markdown",
   "metadata": {},
   "source": [
    "Here we say that the scalar value 2 has been broadcast to all of the other elements in the multiplication operation.\n",
    "\n",
    "For example, we can *demean* each column of an array by subtracting the column means. In this case, it is very simple."
   ]
  },
  {
   "cell_type": "code",
   "execution_count": 165,
   "metadata": {},
   "outputs": [
    {
     "data": {
      "text/plain": [
       "array([[ 0.71821572,  0.25290804,  0.03261773,  0.78092226],\n",
       "       [-1.63358894, -0.50525436, -1.01911796, -0.41287441],\n",
       "       [-0.95388082, -0.10199351,  0.90856191,  0.21121017],\n",
       "       [-0.18181283, -1.39336453, -0.09217959, -0.72084173],\n",
       "       [-1.16710943,  1.45912946,  0.71496626,  0.21177834]])"
      ]
     },
     "execution_count": 165,
     "metadata": {},
     "output_type": "execute_result"
    }
   ],
   "source": [
    "arr = np.random.randn(5,4)\n",
    "arr"
   ]
  },
  {
   "cell_type": "code",
   "execution_count": 166,
   "metadata": {},
   "outputs": [
    {
     "data": {
      "text/plain": [
       "array([-0.64363526, -0.05771498,  0.10896967,  0.01403893])"
      ]
     },
     "execution_count": 166,
     "metadata": {},
     "output_type": "execute_result"
    }
   ],
   "source": [
    "arr.mean(axis=0)"
   ]
  },
  {
   "cell_type": "code",
   "execution_count": 167,
   "metadata": {},
   "outputs": [
    {
     "data": {
      "text/plain": [
       "array([[ 1.36185098,  0.31062302, -0.07635194,  0.76688333],\n",
       "       [-0.98995367, -0.44753938, -1.12808763, -0.42691334],\n",
       "       [-0.31024556, -0.04427853,  0.79959224,  0.19717124],\n",
       "       [ 0.46182243, -1.33564955, -0.20114926, -0.73488066],\n",
       "       [-0.52347417,  1.51684444,  0.60599659,  0.19773942]])"
      ]
     },
     "execution_count": 167,
     "metadata": {},
     "output_type": "execute_result"
    }
   ],
   "source": [
    "demean = arr - arr.mean(axis=0)\n",
    "demean"
   ]
  },
  {
   "cell_type": "code",
   "execution_count": 168,
   "metadata": {},
   "outputs": [
    {
     "data": {
      "text/plain": [
       "array([ 6.66133815e-17,  0.00000000e+00, -2.22044605e-17,  5.55111512e-18])"
      ]
     },
     "execution_count": 168,
     "metadata": {},
     "output_type": "execute_result"
    }
   ],
   "source": [
    "demean.mean(axis = 0) # almost zero, remember floating point operations are approximations"
   ]
  },
  {
   "cell_type": "markdown",
   "metadata": {},
   "source": [
    "*Demeaning the rows* as a broadcast operation requires a bit more care. Fortunately, broadcasting potentially lower dimensional values across any dimension of an array (like subtracting the row mean from each column of a two-dimensional array) is possible as long as you follow the broadcasting rules.\n",
    "\n",
    "```{note}\n",
    "\n",
    "Two arrays are compatible for broadcasting if for each trailing dimension (that is the end), the axis lengths match or if either of the lengths is 1. Broadcasting is then performed over the missing and / or length 1 dimensions.\n",
    "```\n",
    "\n",
    "Consider the last example and suppose we wished instead to subtract the mean value from each row. Since `arr.mean(0)` has length 4, it is compatible for broadcasting across *axis-0* because the trailing dimension in arr is 4 and therefore matches. According to the rules, to subtract over axis 1 (that is, subtract the row mean from each row), the smaller array must have shape (5, 1). "
   ]
  },
  {
   "cell_type": "code",
   "execution_count": 169,
   "metadata": {},
   "outputs": [
    {
     "data": {
      "text/plain": [
       "array([[ 0.71821572,  0.25290804,  0.03261773,  0.78092226],\n",
       "       [-1.63358894, -0.50525436, -1.01911796, -0.41287441],\n",
       "       [-0.95388082, -0.10199351,  0.90856191,  0.21121017],\n",
       "       [-0.18181283, -1.39336453, -0.09217959, -0.72084173],\n",
       "       [-1.16710943,  1.45912946,  0.71496626,  0.21177834]])"
      ]
     },
     "execution_count": 169,
     "metadata": {},
     "output_type": "execute_result"
    }
   ],
   "source": [
    "arr"
   ]
  },
  {
   "cell_type": "code",
   "execution_count": 170,
   "metadata": {},
   "outputs": [
    {
     "data": {
      "text/plain": [
       "array([[ 0.44616594],\n",
       "       [-0.89270892],\n",
       "       [ 0.01597444],\n",
       "       [-0.59704967],\n",
       "       [ 0.30469116]])"
      ]
     },
     "execution_count": 170,
     "metadata": {},
     "output_type": "execute_result"
    }
   ],
   "source": [
    "arr.mean(axis = 1).reshape(5,1)"
   ]
  },
  {
   "cell_type": "code",
   "execution_count": 171,
   "metadata": {},
   "outputs": [
    {
     "data": {
      "text/plain": [
       "array([[ 0.27204978, -0.1932579 , -0.4135482 ,  0.33475632],\n",
       "       [-0.74088002,  0.38745456, -0.12640905,  0.47983451],\n",
       "       [-0.96985526, -0.11796795,  0.89258747,  0.19523574],\n",
       "       [ 0.41523684, -0.79631486,  0.50487008, -0.12379206],\n",
       "       [-1.47180059,  1.1544383 ,  0.4102751 , -0.09291281]])"
      ]
     },
     "execution_count": 171,
     "metadata": {},
     "output_type": "execute_result"
    }
   ],
   "source": [
    "demean = arr - arr.mean(axis = 1).reshape(5,1)\n",
    "demean"
   ]
  },
  {
   "cell_type": "code",
   "execution_count": 172,
   "metadata": {},
   "outputs": [
    {
     "data": {
      "text/plain": [
       "array([-5.55111512e-17,  2.77555756e-17, -1.38777878e-17,  5.55111512e-17,\n",
       "        6.24500451e-17])"
      ]
     },
     "execution_count": 172,
     "metadata": {},
     "output_type": "execute_result"
    }
   ],
   "source": [
    "demean.mean(axis = 1)"
   ]
  },
  {
   "cell_type": "markdown",
   "metadata": {},
   "source": [
    "## Tips & Tricks  "
   ]
  },
  {
   "cell_type": "markdown",
   "metadata": {},
   "source": [
    "Suppose you have a 4D array of some shape. You can anticipate the shape of the resultant array after any aggregate operation (like `sum`, `mean`, `std`, `max`, `min`, `argmax`, `argmin`, etc.). Aggregate functions are functions that take an array (or axis of an array) as input and returns a scalar."
   ]
  },
  {
   "cell_type": "code",
   "execution_count": 173,
   "metadata": {},
   "outputs": [],
   "source": [
    "arr4d = np.random.randn(3, 4, 5, 2)"
   ]
  },
  {
   "cell_type": "code",
   "execution_count": 174,
   "metadata": {},
   "outputs": [
    {
     "data": {
      "text/plain": [
       "()"
      ]
     },
     "execution_count": 174,
     "metadata": {},
     "output_type": "execute_result"
    }
   ],
   "source": [
    "arr4d.mean().shape # scalar"
   ]
  },
  {
   "cell_type": "code",
   "execution_count": 175,
   "metadata": {},
   "outputs": [
    {
     "data": {
      "text/plain": [
       "(4, 5, 2)"
      ]
     },
     "execution_count": 175,
     "metadata": {},
     "output_type": "execute_result"
    }
   ],
   "source": [
    "arr4d.mean(axis = 0).shape # shape - (1, 4, 5, 2)"
   ]
  },
  {
   "cell_type": "code",
   "execution_count": 176,
   "metadata": {},
   "outputs": [
    {
     "data": {
      "text/plain": [
       "(3, 5, 2)"
      ]
     },
     "execution_count": 176,
     "metadata": {},
     "output_type": "execute_result"
    }
   ],
   "source": [
    "arr4d.mean(axis = 1).shape # shape - (3, 1, 5, 2)"
   ]
  },
  {
   "cell_type": "code",
   "execution_count": 177,
   "metadata": {},
   "outputs": [
    {
     "data": {
      "text/plain": [
       "(3, 4, 2)"
      ]
     },
     "execution_count": 177,
     "metadata": {},
     "output_type": "execute_result"
    }
   ],
   "source": [
    "arr4d.mean(axis = 2).shape # shape - (3, 4, 1, 2)"
   ]
  },
  {
   "cell_type": "code",
   "execution_count": 178,
   "metadata": {},
   "outputs": [
    {
     "data": {
      "text/plain": [
       "(3, 4, 5)"
      ]
     },
     "execution_count": 178,
     "metadata": {},
     "output_type": "execute_result"
    }
   ],
   "source": [
    "arr4d.mean(axis = 3).shape # shape - (3, 4, 5, 1)"
   ]
  },
  {
   "cell_type": "markdown",
   "metadata": {},
   "source": [
    "Did you find any pattern? Closely observe the shapes.\n",
    "\n",
    "Whenever you calculate the *mean* (infact, any aggregate function) across any axes, its dimension is removed from the shape. Here, we have represented them using *1* but its the same thing as completely ignoring that index. This trick will be of great help ahead in the course. So, make sure you understand it right and fix it in you head."
   ]
  },
  {
   "cell_type": "markdown",
   "metadata": {},
   "source": [
    "```{admonition} Exercise\n",
    "Try demeaning a 3D array along all the 3 axis. This will be a really good exercise to get your head around broadcasting and to understand it better.\n",
    "```"
   ]
  },
  {
   "cell_type": "markdown",
   "metadata": {
    "colab_type": "text",
    "hidden": true,
    "id": "_gURBlFBPFHS"
   },
   "source": [
    "There are many other cool things that you can achieve using Broadcasting. Some of them are mentioned [here](https://towardsdatascience.com/numpy-guide-for-people-in-a-hurry-22232699259f)."
   ]
  },
  {
   "cell_type": "markdown",
   "metadata": {
    "colab_type": "text",
    "hidden": true,
    "id": "feUAA2ODPFH2"
   },
   "source": [
    "## Universal Functions\n",
    "\n",
    "A [universal function](https://jakevdp.github.io/PythonDataScienceHandbook/02.03-computation-on-arrays-ufuncs.html), or *ufunc*, is a function that performs elementwise operations on data in `ndarrays`. Essentially they are just fast vectorized wrappers for simple functions that take one or more scalar values and produce one or more scalar results."
   ]
  },
  {
   "cell_type": "code",
   "execution_count": 179,
   "metadata": {},
   "outputs": [
    {
     "data": {
      "text/plain": [
       "array([[0.61197472, 0.15017932, 0.00155022, 0.36083314],\n",
       "       [0.04750258, 0.35612326, 0.15555765, 0.10408035],\n",
       "       [0.60594395, 0.6038405 , 0.34192629, 0.8561217 ],\n",
       "       [0.30485068, 0.46112196, 0.61822559, 0.96044571],\n",
       "       [0.17162606, 0.47915314, 0.19647694, 0.13216663]])"
      ]
     },
     "execution_count": 179,
     "metadata": {},
     "output_type": "execute_result"
    }
   ],
   "source": [
    "arr = np.random.rand(5,4)\n",
    "arr"
   ]
  },
  {
   "cell_type": "code",
   "execution_count": 180,
   "metadata": {
    "colab": {
     "base_uri": "https://localhost:8080/",
     "height": 51
    },
    "colab_type": "code",
    "executionInfo": {
     "elapsed": 5489,
     "status": "ok",
     "timestamp": 1566218624797,
     "user": {
      "displayName": "Ai Adventures",
      "photoUrl": "https://lh3.googleusercontent.com/-OQdAjp2vMZo/AAAAAAAAAAI/AAAAAAAAAA8/8FVq41kVT5s/s64/photo.jpg",
      "userId": "14635366068755244481"
     },
     "user_tz": -330
    },
    "hidden": true,
    "id": "aKzbZNgIPFH3",
    "outputId": "2a69d825-057d-41ee-99ab-dc30aac81b6a"
   },
   "outputs": [
    {
     "data": {
      "text/plain": [
       "array([[0.78228813, 0.38752977, 0.03937285, 0.60069388],\n",
       "       [0.21795087, 0.59676063, 0.39440797, 0.32261486],\n",
       "       [0.77842402, 0.77707175, 0.58474464, 0.92526845],\n",
       "       [0.55213285, 0.67905961, 0.78627323, 0.98002332],\n",
       "       [0.41427775, 0.69220888, 0.4432572 , 0.36354729]])"
      ]
     },
     "execution_count": 180,
     "metadata": {},
     "output_type": "execute_result"
    }
   ],
   "source": [
    "np.sqrt(arr)"
   ]
  },
  {
   "cell_type": "code",
   "execution_count": 181,
   "metadata": {
    "colab": {
     "base_uri": "https://localhost:8080/",
     "height": 34
    },
    "colab_type": "code",
    "executionInfo": {
     "elapsed": 5476,
     "status": "ok",
     "timestamp": 1566218624798,
     "user": {
      "displayName": "Ai Adventures",
      "photoUrl": "https://lh3.googleusercontent.com/-OQdAjp2vMZo/AAAAAAAAAAI/AAAAAAAAAA8/8FVq41kVT5s/s64/photo.jpg",
      "userId": "14635366068755244481"
     },
     "user_tz": -330
    },
    "hidden": true,
    "id": "w2RHIo2yPFH5",
    "outputId": "f20ff2d6-dccf-4abd-d418-2f40f14bb671"
   },
   "outputs": [
    {
     "data": {
      "text/plain": [
       "array([[3.74513060e-01, 2.25538289e-02, 2.40318497e-06, 1.30200552e-01],\n",
       "       [2.25649525e-03, 1.26823773e-01, 2.41981810e-02, 1.08327192e-02],\n",
       "       [3.67168067e-01, 3.64623347e-01, 1.16913589e-01, 7.32944370e-01],\n",
       "       [9.29339385e-02, 2.12633459e-01, 3.82202879e-01, 9.22455959e-01],\n",
       "       [2.94555038e-02, 2.29587728e-01, 3.86031896e-02, 1.74680178e-02]])"
      ]
     },
     "execution_count": 181,
     "metadata": {},
     "output_type": "execute_result"
    }
   ],
   "source": [
    "np.square(arr)"
   ]
  },
  {
   "cell_type": "code",
   "execution_count": 182,
   "metadata": {
    "colab": {
     "base_uri": "https://localhost:8080/",
     "height": 68
    },
    "colab_type": "code",
    "executionInfo": {
     "elapsed": 5457,
     "status": "ok",
     "timestamp": 1566218624798,
     "user": {
      "displayName": "Ai Adventures",
      "photoUrl": "https://lh3.googleusercontent.com/-OQdAjp2vMZo/AAAAAAAAAAI/AAAAAAAAAA8/8FVq41kVT5s/s64/photo.jpg",
      "userId": "14635366068755244481"
     },
     "user_tz": -330
    },
    "hidden": true,
    "id": "gqDQXGNMPFH7",
    "outputId": "d2f0aa96-4ccd-4a48-fd5e-210b3c6416a2"
   },
   "outputs": [
    {
     "data": {
      "text/plain": [
       "array([[1.84406933, 1.1620426 , 1.00155142, 1.43452407],\n",
       "       [1.04864891, 1.42778352, 1.16830928, 1.10968961],\n",
       "       [1.83298163, 1.8291301 , 1.40765654, 2.3540134 ],\n",
       "       [1.35642245, 1.58585224, 1.85563246, 2.61286079],\n",
       "       [1.18723379, 1.61470639, 1.21710726, 1.14129848]])"
      ]
     },
     "execution_count": 182,
     "metadata": {},
     "output_type": "execute_result"
    }
   ],
   "source": [
    "np.exp(arr)"
   ]
  },
  {
   "cell_type": "code",
   "execution_count": 183,
   "metadata": {
    "colab": {
     "base_uri": "https://localhost:8080/",
     "height": 85
    },
    "colab_type": "code",
    "executionInfo": {
     "elapsed": 5443,
     "status": "ok",
     "timestamp": 1566218624799,
     "user": {
      "displayName": "Ai Adventures",
      "photoUrl": "https://lh3.googleusercontent.com/-OQdAjp2vMZo/AAAAAAAAAAI/AAAAAAAAAA8/8FVq41kVT5s/s64/photo.jpg",
      "userId": "14635366068755244481"
     },
     "user_tz": -330
    },
    "hidden": true,
    "id": "Z5SHFB5rPFH8",
    "outputId": "b30ffdd8-357c-4e98-c4af-cd1ae4d77f67"
   },
   "outputs": [
    {
     "data": {
      "text/plain": [
       "array([[-0.4910643 , -1.89592522, -6.46935782, -1.01933966],\n",
       "       [-3.04697122, -1.03247839, -1.86073891, -2.26259208],\n",
       "       [-0.50096779, -0.50444519, -1.07316009, -0.15534274],\n",
       "       [-1.18793319, -0.77409272, -0.48090186, -0.04035782],\n",
       "       [-1.76243725, -0.73573503, -1.62721019, -2.02369181]])"
      ]
     },
     "execution_count": 183,
     "metadata": {},
     "output_type": "execute_result"
    }
   ],
   "source": [
    "np.log(arr)"
   ]
  },
  {
   "cell_type": "code",
   "execution_count": 184,
   "metadata": {
    "colab": {
     "base_uri": "https://localhost:8080/",
     "height": 51
    },
    "colab_type": "code",
    "executionInfo": {
     "elapsed": 5427,
     "status": "ok",
     "timestamp": 1566218624800,
     "user": {
      "displayName": "Ai Adventures",
      "photoUrl": "https://lh3.googleusercontent.com/-OQdAjp2vMZo/AAAAAAAAAAI/AAAAAAAAAA8/8FVq41kVT5s/s64/photo.jpg",
      "userId": "14635366068755244481"
     },
     "user_tz": -330
    },
    "hidden": true,
    "id": "8Nq_jGFaPFH-",
    "outputId": "d6a8800d-8072-46c0-9405-b299dcdbc8fe"
   },
   "outputs": [
    {
     "data": {
      "text/plain": [
       "array([[0.57448492, 0.14961544, 0.00155022, 0.35305384],\n",
       "       [0.04748472, 0.34864336, 0.15493104, 0.10389254],\n",
       "       [0.56953822, 0.567808  , 0.33530249, 0.75530652],\n",
       "       [0.30015075, 0.44495316, 0.57959009, 0.81944711],\n",
       "       [0.17078474, 0.46102785, 0.19521528, 0.13178218]])"
      ]
     },
     "execution_count": 184,
     "metadata": {},
     "output_type": "execute_result"
    }
   ],
   "source": [
    "np.sin(arr)"
   ]
  },
  {
   "cell_type": "markdown",
   "metadata": {},
   "source": [
    "These are referred to as **unary ufuncs**."
   ]
  },
  {
   "cell_type": "markdown",
   "metadata": {},
   "source": [
    "| Function   | Description |\n",
    "|------------|-------------|\n",
    "| `abs`, `fabs` | Compute the absolute value element-wise for integer, floating point, or complex values. Use `fabs` as a faster alternative for non-complex-valued data |\n",
    "| `sqrt`     | Compute the square root of each element |\n",
    "| `square`   | Compute the square of each element |\n",
    "| `exp`      | Compute the exponent e**x of each element |\n",
    "| `log`, `log2`, `log1p`  | Natural logarithm (base e), log base 2, and log(1 + x), respectively |\n",
    "| `sign`     | Compute the sign of each element: 1 (positive), 0 (zero), or -1 (negative) |\n",
    "\n",
    "Others, such as `add` or `maximum`, take 2 arrays (thus, *binary ufuncs*) and return a single array as the result: "
   ]
  },
  {
   "cell_type": "code",
   "execution_count": 185,
   "metadata": {},
   "outputs": [
    {
     "data": {
      "text/plain": [
       "array([ 0.30703257, -1.31428286,  1.4070756 ,  1.37845887, -3.31500179,\n",
       "        1.34150892,  0.36461905,  0.50858148,  1.72465586,  0.24957455])"
      ]
     },
     "execution_count": 185,
     "metadata": {},
     "output_type": "execute_result"
    }
   ],
   "source": [
    "x = np.random.randn(10)\n",
    "y = np.random.randn(10)\n",
    "\n",
    "np.add(x,y) # element-wise addition"
   ]
  },
  {
   "cell_type": "markdown",
   "metadata": {
    "colab_type": "text",
    "heading_collapsed": true,
    "id": "YolFs8eTPFH2"
   },
   "source": [
    "## Saving `np.array`\n",
    "\n",
    "NumPy is able to save and load data to and from disk either in text or binary format.\n",
    "\n",
    "### Binary Format\n",
    "\n",
    "`np.save` and `np.load` are the two functions for efficiently saving and loading array data on disk. Arrays are saved by default in an uncompressed raw binary format with file extension *.npy*"
   ]
  },
  {
   "cell_type": "code",
   "execution_count": 186,
   "metadata": {},
   "outputs": [],
   "source": [
    "arr = np.random.randn(10, 5)\n",
    "np.save(\"savedfile_arr\", arr)"
   ]
  },
  {
   "cell_type": "markdown",
   "metadata": {},
   "source": [
    "If the file path does not already end in *.npy*, the extension will be appended. The array on disk can then be loaded using `np.load`: "
   ]
  },
  {
   "cell_type": "code",
   "execution_count": 187,
   "metadata": {},
   "outputs": [
    {
     "data": {
      "text/plain": [
       "array([[ 0.17645555,  0.20278127, -1.31191902,  0.19004165, -1.05147896],\n",
       "       [-0.38653695,  2.06039155,  0.01027106, -1.01098722,  0.08980912],\n",
       "       [ 0.70476595,  0.65115837,  1.59522223, -0.39107789, -0.0118493 ],\n",
       "       [ 0.0710151 , -1.8121598 ,  0.85728575, -0.87385257, -0.42473162],\n",
       "       [-0.29045722, -0.54032248,  0.44979905,  0.36102144, -0.09072045],\n",
       "       [-0.18690673, -1.29530258, -1.08719969, -0.60670131,  0.01973675],\n",
       "       [-0.11412122, -0.20594793, -0.09083391, -0.43059415, -0.80772706],\n",
       "       [-0.67338251, -1.48421927,  1.03506344, -0.06560965,  0.53670543],\n",
       "       [-0.07233885, -1.12660881,  1.39519473,  0.68747391,  0.11733079],\n",
       "       [ 0.48049476, -0.62738879,  0.22167198,  0.26824101,  2.79386264]])"
      ]
     },
     "execution_count": 187,
     "metadata": {},
     "output_type": "execute_result"
    }
   ],
   "source": [
    "np.load('savedfile_arr.npy')"
   ]
  },
  {
   "cell_type": "markdown",
   "metadata": {},
   "source": [
    "You save multiple arrays in a zip archive using `np.savez` and passing the arrays as keyword arguments: "
   ]
  },
  {
   "cell_type": "code",
   "execution_count": 188,
   "metadata": {},
   "outputs": [],
   "source": [
    "np.savez('savedfile_zip.npz', a=arr, b=arr)"
   ]
  },
  {
   "cell_type": "markdown",
   "metadata": {},
   "source": [
    "When loading an *.npz* file, you get back a dict-like object which loads the individual arrays lazily: "
   ]
  },
  {
   "cell_type": "code",
   "execution_count": 189,
   "metadata": {},
   "outputs": [
    {
     "data": {
      "text/plain": [
       "array([[ 0.17645555,  0.20278127, -1.31191902,  0.19004165, -1.05147896],\n",
       "       [-0.38653695,  2.06039155,  0.01027106, -1.01098722,  0.08980912],\n",
       "       [ 0.70476595,  0.65115837,  1.59522223, -0.39107789, -0.0118493 ],\n",
       "       [ 0.0710151 , -1.8121598 ,  0.85728575, -0.87385257, -0.42473162],\n",
       "       [-0.29045722, -0.54032248,  0.44979905,  0.36102144, -0.09072045],\n",
       "       [-0.18690673, -1.29530258, -1.08719969, -0.60670131,  0.01973675],\n",
       "       [-0.11412122, -0.20594793, -0.09083391, -0.43059415, -0.80772706],\n",
       "       [-0.67338251, -1.48421927,  1.03506344, -0.06560965,  0.53670543],\n",
       "       [-0.07233885, -1.12660881,  1.39519473,  0.68747391,  0.11733079],\n",
       "       [ 0.48049476, -0.62738879,  0.22167198,  0.26824101,  2.79386264]])"
      ]
     },
     "execution_count": 189,
     "metadata": {},
     "output_type": "execute_result"
    }
   ],
   "source": [
    "arrs = np.load('savedfile_zip.npz')\n",
    "arrs['a']"
   ]
  },
  {
   "cell_type": "markdown",
   "metadata": {},
   "source": [
    "### Text files\n",
    "Loading text from files is a fairly standard task. Tough, we will hardly use numpy for it, at times it can be useful to load data into vanilla NumPy arrays using `np.loadtxt` or the more specialized `np.genfromtxt`. These functions have many options allowing you to specify different delimiters, converter functions for certain columns, skipping rows, and other things. You can read more about them in the docs. Here, we will just mention a simple example to give you an idea that this can be done with numpy."
   ]
  },
  {
   "cell_type": "code",
   "execution_count": 190,
   "metadata": {},
   "outputs": [],
   "source": [
    "np.savetxt('savingarr.txt', arr, delimiter=',')"
   ]
  },
  {
   "cell_type": "code",
   "execution_count": 191,
   "metadata": {},
   "outputs": [
    {
     "data": {
      "text/plain": [
       "array([[ 0.17645555,  0.20278127, -1.31191902,  0.19004165, -1.05147896],\n",
       "       [-0.38653695,  2.06039155,  0.01027106, -1.01098722,  0.08980912],\n",
       "       [ 0.70476595,  0.65115837,  1.59522223, -0.39107789, -0.0118493 ],\n",
       "       [ 0.0710151 , -1.8121598 ,  0.85728575, -0.87385257, -0.42473162],\n",
       "       [-0.29045722, -0.54032248,  0.44979905,  0.36102144, -0.09072045],\n",
       "       [-0.18690673, -1.29530258, -1.08719969, -0.60670131,  0.01973675],\n",
       "       [-0.11412122, -0.20594793, -0.09083391, -0.43059415, -0.80772706],\n",
       "       [-0.67338251, -1.48421927,  1.03506344, -0.06560965,  0.53670543],\n",
       "       [-0.07233885, -1.12660881,  1.39519473,  0.68747391,  0.11733079],\n",
       "       [ 0.48049476, -0.62738879,  0.22167198,  0.26824101,  2.79386264]])"
      ]
     },
     "execution_count": 191,
     "metadata": {},
     "output_type": "execute_result"
    }
   ],
   "source": [
    "np.loadtxt('savingarr.txt', delimiter=',')"
   ]
  },
  {
   "cell_type": "markdown",
   "metadata": {
    "colab_type": "text",
    "id": "GL9F9zv1PFH_"
   },
   "source": [
    "## Conclusion\n",
    "\n",
    "### Exercise\n",
    "Here's a numpy exercise for you which covers all the knowledge from this chapter, [Numpy Exercise](../nbs/Numpy_Exercise.html#NumPy-Exercises).\n",
    "\n",
    "### Further Reading\n",
    "Having a good foundation with numpy is really very important to master pandas. Here are some resoucres to master numpy.\n",
    "\n",
    "- [Python & Numpy Tutorial by Stanford](https://cs231n.github.io/python-numpy-tutorial/) - Its really great and covers things from ground up.\n",
    "- [Machine Learning Plus - Numpy tutorial](https://www.machinelearningplus.com/python/numpy-tutorial-part1-array-python-examples/) - Covers basics ideas one after the other. You will learn to do a lot of basic and frequently used things.\n",
    "- [Visual representation of Numpy array](http://jalammar.github.io/visual-numpy/) - This blog is a must read for better understanding of concepts with visual representations.\n",
    "\n",
    "Numpy is huge. Mastering everthing that numpy offers should never be the goal. Hence, we will advice all of you to spend sufficient time with numpy, just to make sure you feel confident about it. Lets get going with pandas :) "
   ]
  },
  {
   "cell_type": "code",
   "execution_count": null,
   "metadata": {},
   "outputs": [],
   "source": []
  }
 ],
 "metadata": {
  "colab": {
   "collapsed_sections": [
    "GL9F9zv1PFH_"
   ],
   "name": "Numpy.ipynb",
   "provenance": [],
   "version": "0.3.2"
  },
  "kernelspec": {
   "display_name": "Python 3 (ipykernel)",
   "language": "python",
   "name": "python3"
  },
  "language_info": {
   "codemirror_mode": {
    "name": "ipython",
    "version": 3
   },
   "file_extension": ".py",
   "mimetype": "text/x-python",
   "name": "python",
   "nbconvert_exporter": "python",
   "pygments_lexer": "ipython3",
   "version": "3.11.7"
  },
  "toc": {
   "base_numbering": 1,
   "nav_menu": {},
   "number_sections": true,
   "sideBar": true,
   "skip_h1_title": false,
   "title_cell": "Table of Contents",
   "title_sidebar": "Contents",
   "toc_cell": false,
   "toc_position": {},
   "toc_section_display": true,
   "toc_window_display": false
  },
  "varInspector": {
   "cols": {
    "lenName": 16,
    "lenType": 16,
    "lenVar": 40
   },
   "kernels_config": {
    "python": {
     "delete_cmd_postfix": "",
     "delete_cmd_prefix": "del ",
     "library": "var_list.py",
     "varRefreshCmd": "print(var_dic_list())"
    },
    "r": {
     "delete_cmd_postfix": ") ",
     "delete_cmd_prefix": "rm(",
     "library": "var_list.r",
     "varRefreshCmd": "cat(var_dic_list()) "
    }
   },
   "types_to_exclude": [
    "module",
    "function",
    "builtin_function_or_method",
    "instance",
    "_Feature"
   ],
   "window_display": false
  }
 },
 "nbformat": 4,
 "nbformat_minor": 4
}
