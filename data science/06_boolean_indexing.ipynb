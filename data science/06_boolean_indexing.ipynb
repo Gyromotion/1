{
 "cells": [
  {
   "cell_type": "markdown",
   "metadata": {
    "colab_type": "text",
    "id": "N8AHSzU8U2dW"
   },
   "source": [
    "# Boolean Indexing \n",
    "\n",
    "In **boolean indexing**, we will select subsets of data based on the actual values of the data in the Series/DataFrame and NOT on their row/column labels or integer locations. "
   ]
  },
  {
   "cell_type": "code",
   "execution_count": 1,
   "metadata": {
    "colab": {},
    "colab_type": "code",
    "id": "JlsLbsDaU2dX"
   },
   "outputs": [],
   "source": [
    "import pandas as pd\n",
    "import numpy as np"
   ]
  },
  {
   "cell_type": "code",
   "execution_count": 2,
   "metadata": {
    "colab": {
     "base_uri": "https://localhost:8080/",
     "height": 289
    },
    "colab_type": "code",
    "executionInfo": {
     "elapsed": 1243,
     "status": "ok",
     "timestamp": 1566299949898,
     "user": {
      "displayName": "Ai Adventures",
      "photoUrl": "https://lh3.googleusercontent.com/-OQdAjp2vMZo/AAAAAAAAAAI/AAAAAAAAAA8/8FVq41kVT5s/s64/photo.jpg",
      "userId": "14635366068755244481"
     },
     "user_tz": -330
    },
    "id": "OIgi1HwpU2db",
    "outputId": "9bf1e54c-5bb9-4a54-bdf6-c2c260d9e0c6"
   },
   "outputs": [
    {
     "data": {
      "text/html": [
       "<div>\n",
       "<style scoped>\n",
       "    .dataframe tbody tr th:only-of-type {\n",
       "        vertical-align: middle;\n",
       "    }\n",
       "\n",
       "    .dataframe tbody tr th {\n",
       "        vertical-align: top;\n",
       "    }\n",
       "\n",
       "    .dataframe thead th {\n",
       "        text-align: right;\n",
       "    }\n",
       "</style>\n",
       "<table border=\"1\" class=\"dataframe\">\n",
       "  <thead>\n",
       "    <tr style=\"text-align: right;\">\n",
       "      <th></th>\n",
       "      <th>id</th>\n",
       "      <th>creationdate</th>\n",
       "      <th>score</th>\n",
       "      <th>viewcount</th>\n",
       "      <th>title</th>\n",
       "      <th>answercount</th>\n",
       "      <th>commentcount</th>\n",
       "      <th>favoritecount</th>\n",
       "      <th>quest_name</th>\n",
       "      <th>quest_rep</th>\n",
       "      <th>ans_name</th>\n",
       "      <th>ans_rep</th>\n",
       "    </tr>\n",
       "  </thead>\n",
       "  <tbody>\n",
       "    <tr>\n",
       "      <th>0</th>\n",
       "      <td>5486226</td>\n",
       "      <td>2011-03-30 12:26:50</td>\n",
       "      <td>4</td>\n",
       "      <td>2113</td>\n",
       "      <td>Rolling median in python</td>\n",
       "      <td>3</td>\n",
       "      <td>4</td>\n",
       "      <td>1.0</td>\n",
       "      <td>yueerhu</td>\n",
       "      <td>125.0</td>\n",
       "      <td>Mike Pennington</td>\n",
       "      <td>26995.0</td>\n",
       "    </tr>\n",
       "    <tr>\n",
       "      <th>1</th>\n",
       "      <td>5515021</td>\n",
       "      <td>2011-04-01 14:50:44</td>\n",
       "      <td>8</td>\n",
       "      <td>7015</td>\n",
       "      <td>Compute a compounded return series in Python</td>\n",
       "      <td>3</td>\n",
       "      <td>6</td>\n",
       "      <td>7.0</td>\n",
       "      <td>Jason Strimpel</td>\n",
       "      <td>3301.0</td>\n",
       "      <td>Mike Pennington</td>\n",
       "      <td>26995.0</td>\n",
       "    </tr>\n",
       "    <tr>\n",
       "      <th>2</th>\n",
       "      <td>5558607</td>\n",
       "      <td>2011-04-05 21:13:50</td>\n",
       "      <td>2</td>\n",
       "      <td>7392</td>\n",
       "      <td>Sort a pandas DataMatrix in ascending order</td>\n",
       "      <td>2</td>\n",
       "      <td>0</td>\n",
       "      <td>1.0</td>\n",
       "      <td>Jason Strimpel</td>\n",
       "      <td>3301.0</td>\n",
       "      <td>Wes McKinney</td>\n",
       "      <td>43310.0</td>\n",
       "    </tr>\n",
       "    <tr>\n",
       "      <th>3</th>\n",
       "      <td>6467832</td>\n",
       "      <td>2011-06-24 12:31:45</td>\n",
       "      <td>9</td>\n",
       "      <td>13056</td>\n",
       "      <td>How to get the correlation between two timeser...</td>\n",
       "      <td>1</td>\n",
       "      <td>0</td>\n",
       "      <td>7.0</td>\n",
       "      <td>user814005</td>\n",
       "      <td>117.0</td>\n",
       "      <td>Wes McKinney</td>\n",
       "      <td>43310.0</td>\n",
       "    </tr>\n",
       "    <tr>\n",
       "      <th>4</th>\n",
       "      <td>7577546</td>\n",
       "      <td>2011-09-28 01:58:38</td>\n",
       "      <td>9</td>\n",
       "      <td>2488</td>\n",
       "      <td>Using pandas, how do I subsample a large DataF...</td>\n",
       "      <td>1</td>\n",
       "      <td>0</td>\n",
       "      <td>5.0</td>\n",
       "      <td>Uri Laserson</td>\n",
       "      <td>958.0</td>\n",
       "      <td>HYRY</td>\n",
       "      <td>54137.0</td>\n",
       "    </tr>\n",
       "  </tbody>\n",
       "</table>\n",
       "</div>"
      ],
      "text/plain": [
       "        id         creationdate  score  viewcount  \\\n",
       "0  5486226  2011-03-30 12:26:50      4       2113   \n",
       "1  5515021  2011-04-01 14:50:44      8       7015   \n",
       "2  5558607  2011-04-05 21:13:50      2       7392   \n",
       "3  6467832  2011-06-24 12:31:45      9      13056   \n",
       "4  7577546  2011-09-28 01:58:38      9       2488   \n",
       "\n",
       "                                               title  answercount  \\\n",
       "0                           Rolling median in python            3   \n",
       "1       Compute a compounded return series in Python            3   \n",
       "2        Sort a pandas DataMatrix in ascending order            2   \n",
       "3  How to get the correlation between two timeser...            1   \n",
       "4  Using pandas, how do I subsample a large DataF...            1   \n",
       "\n",
       "   commentcount  favoritecount      quest_name  quest_rep         ans_name  \\\n",
       "0             4            1.0         yueerhu      125.0  Mike Pennington   \n",
       "1             6            7.0  Jason Strimpel     3301.0  Mike Pennington   \n",
       "2             0            1.0  Jason Strimpel     3301.0     Wes McKinney   \n",
       "3             0            7.0      user814005      117.0     Wes McKinney   \n",
       "4             0            5.0    Uri Laserson      958.0             HYRY   \n",
       "\n",
       "   ans_rep  \n",
       "0  26995.0  \n",
       "1  26995.0  \n",
       "2  43310.0  \n",
       "3  43310.0  \n",
       "4  54137.0  "
      ]
     },
     "execution_count": 2,
     "metadata": {},
     "output_type": "execute_result"
    }
   ],
   "source": [
    "so = pd.read_csv('../data/stackoverflow_qa.csv')\n",
    "so.head()"
   ]
  },
  {
   "cell_type": "code",
   "execution_count": 3,
   "metadata": {
    "scrolled": false
   },
   "outputs": [
    {
     "data": {
      "text/html": [
       "<div>\n",
       "<style scoped>\n",
       "    .dataframe tbody tr th:only-of-type {\n",
       "        vertical-align: middle;\n",
       "    }\n",
       "\n",
       "    .dataframe tbody tr th {\n",
       "        vertical-align: top;\n",
       "    }\n",
       "\n",
       "    .dataframe thead th {\n",
       "        text-align: right;\n",
       "    }\n",
       "</style>\n",
       "<table border=\"1\" class=\"dataframe\">\n",
       "  <thead>\n",
       "    <tr style=\"text-align: right;\">\n",
       "      <th></th>\n",
       "      <th>id</th>\n",
       "      <th>creationdate</th>\n",
       "      <th>score</th>\n",
       "      <th>viewcount</th>\n",
       "      <th>title</th>\n",
       "      <th>answercount</th>\n",
       "      <th>commentcount</th>\n",
       "      <th>favoritecount</th>\n",
       "      <th>quest_name</th>\n",
       "      <th>quest_rep</th>\n",
       "      <th>ans_name</th>\n",
       "      <th>ans_rep</th>\n",
       "    </tr>\n",
       "  </thead>\n",
       "  <tbody>\n",
       "    <tr>\n",
       "      <th>10</th>\n",
       "      <td>8273092</td>\n",
       "      <td>2011-11-25 18:39:02</td>\n",
       "      <td>1</td>\n",
       "      <td>2333</td>\n",
       "      <td>python: pandas install errors</td>\n",
       "      <td>2</td>\n",
       "      <td>0</td>\n",
       "      <td>NaN</td>\n",
       "      <td>codingknob</td>\n",
       "      <td>2279.0</td>\n",
       "      <td>codingknob</td>\n",
       "      <td>2279.0</td>\n",
       "    </tr>\n",
       "    <tr>\n",
       "      <th>33</th>\n",
       "      <td>9721429</td>\n",
       "      <td>2012-03-15 14:08:31</td>\n",
       "      <td>9</td>\n",
       "      <td>5732</td>\n",
       "      <td>How do I read a fix width format text file in ...</td>\n",
       "      <td>4</td>\n",
       "      <td>2</td>\n",
       "      <td>NaN</td>\n",
       "      <td>user1234440</td>\n",
       "      <td>3369.0</td>\n",
       "      <td>user1234440</td>\n",
       "      <td>3369.0</td>\n",
       "    </tr>\n",
       "    <tr>\n",
       "      <th>58</th>\n",
       "      <td>10020591</td>\n",
       "      <td>2012-04-04 23:17:23</td>\n",
       "      <td>21</td>\n",
       "      <td>20171</td>\n",
       "      <td>How to resample a dataframe with different fun...</td>\n",
       "      <td>4</td>\n",
       "      <td>0</td>\n",
       "      <td>15.0</td>\n",
       "      <td>bmu</td>\n",
       "      <td>17129.0</td>\n",
       "      <td>bmu</td>\n",
       "      <td>17129.0</td>\n",
       "    </tr>\n",
       "    <tr>\n",
       "      <th>68</th>\n",
       "      <td>10175068</td>\n",
       "      <td>2012-04-16 13:27:44</td>\n",
       "      <td>15</td>\n",
       "      <td>7501</td>\n",
       "      <td>Select data at a particular level from a Multi...</td>\n",
       "      <td>2</td>\n",
       "      <td>3</td>\n",
       "      <td>5.0</td>\n",
       "      <td>elyase</td>\n",
       "      <td>19551.0</td>\n",
       "      <td>elyase</td>\n",
       "      <td>19551.0</td>\n",
       "    </tr>\n",
       "    <tr>\n",
       "      <th>74</th>\n",
       "      <td>10264739</td>\n",
       "      <td>2012-04-22 02:35:06</td>\n",
       "      <td>9</td>\n",
       "      <td>2362</td>\n",
       "      <td>major memory problems reading in a csv file us...</td>\n",
       "      <td>3</td>\n",
       "      <td>2</td>\n",
       "      <td>7.0</td>\n",
       "      <td>vgoklani</td>\n",
       "      <td>1752.0</td>\n",
       "      <td>vgoklani</td>\n",
       "      <td>1752.0</td>\n",
       "    </tr>\n",
       "    <tr>\n",
       "      <th>...</th>\n",
       "      <td>...</td>\n",
       "      <td>...</td>\n",
       "      <td>...</td>\n",
       "      <td>...</td>\n",
       "      <td>...</td>\n",
       "      <td>...</td>\n",
       "      <td>...</td>\n",
       "      <td>...</td>\n",
       "      <td>...</td>\n",
       "      <td>...</td>\n",
       "      <td>...</td>\n",
       "      <td>...</td>\n",
       "    </tr>\n",
       "    <tr>\n",
       "      <th>55767</th>\n",
       "      <td>47419823</td>\n",
       "      <td>2017-11-21 18:06:38</td>\n",
       "      <td>0</td>\n",
       "      <td>35</td>\n",
       "      <td>Tring to load csv file in Pandas using dataframe</td>\n",
       "      <td>1</td>\n",
       "      <td>3</td>\n",
       "      <td>NaN</td>\n",
       "      <td>SaishB93</td>\n",
       "      <td>18.0</td>\n",
       "      <td>SaishB93</td>\n",
       "      <td>18.0</td>\n",
       "    </tr>\n",
       "    <tr>\n",
       "      <th>55777</th>\n",
       "      <td>47350412</td>\n",
       "      <td>2017-11-17 12:12:51</td>\n",
       "      <td>0</td>\n",
       "      <td>40</td>\n",
       "      <td>Using .agg in pandas returns 'list object has ...</td>\n",
       "      <td>1</td>\n",
       "      <td>4</td>\n",
       "      <td>NaN</td>\n",
       "      <td>Nord112</td>\n",
       "      <td>3.0</td>\n",
       "      <td>Nord112</td>\n",
       "      <td>3.0</td>\n",
       "    </tr>\n",
       "    <tr>\n",
       "      <th>55781</th>\n",
       "      <td>47170051</td>\n",
       "      <td>2017-11-08 01:21:47</td>\n",
       "      <td>1</td>\n",
       "      <td>100</td>\n",
       "      <td>How can I use a list comprehension to set colors?</td>\n",
       "      <td>1</td>\n",
       "      <td>8</td>\n",
       "      <td>1.0</td>\n",
       "      <td>solub</td>\n",
       "      <td>79.0</td>\n",
       "      <td>solub</td>\n",
       "      <td>79.0</td>\n",
       "    </tr>\n",
       "    <tr>\n",
       "      <th>55987</th>\n",
       "      <td>47134254</td>\n",
       "      <td>2017-11-06 10:01:27</td>\n",
       "      <td>0</td>\n",
       "      <td>62</td>\n",
       "      <td>Merging list elements into one list of datafra...</td>\n",
       "      <td>1</td>\n",
       "      <td>0</td>\n",
       "      <td>NaN</td>\n",
       "      <td>hall</td>\n",
       "      <td>15.0</td>\n",
       "      <td>hall</td>\n",
       "      <td>15.0</td>\n",
       "    </tr>\n",
       "    <tr>\n",
       "      <th>56175</th>\n",
       "      <td>47354844</td>\n",
       "      <td>2017-11-17 16:10:26</td>\n",
       "      <td>0</td>\n",
       "      <td>48</td>\n",
       "      <td>Calculating cummulative returns mid-year to mi...</td>\n",
       "      <td>1</td>\n",
       "      <td>0</td>\n",
       "      <td>NaN</td>\n",
       "      <td>Chris</td>\n",
       "      <td>13.0</td>\n",
       "      <td>Chris</td>\n",
       "      <td>13.0</td>\n",
       "    </tr>\n",
       "  </tbody>\n",
       "</table>\n",
       "<p>1512 rows × 12 columns</p>\n",
       "</div>"
      ],
      "text/plain": [
       "             id         creationdate  score  viewcount  \\\n",
       "10      8273092  2011-11-25 18:39:02      1       2333   \n",
       "33      9721429  2012-03-15 14:08:31      9       5732   \n",
       "58     10020591  2012-04-04 23:17:23     21      20171   \n",
       "68     10175068  2012-04-16 13:27:44     15       7501   \n",
       "74     10264739  2012-04-22 02:35:06      9       2362   \n",
       "...         ...                  ...    ...        ...   \n",
       "55767  47419823  2017-11-21 18:06:38      0         35   \n",
       "55777  47350412  2017-11-17 12:12:51      0         40   \n",
       "55781  47170051  2017-11-08 01:21:47      1        100   \n",
       "55987  47134254  2017-11-06 10:01:27      0         62   \n",
       "56175  47354844  2017-11-17 16:10:26      0         48   \n",
       "\n",
       "                                                   title  answercount  \\\n",
       "10                         python: pandas install errors            2   \n",
       "33     How do I read a fix width format text file in ...            4   \n",
       "58     How to resample a dataframe with different fun...            4   \n",
       "68     Select data at a particular level from a Multi...            2   \n",
       "74     major memory problems reading in a csv file us...            3   \n",
       "...                                                  ...          ...   \n",
       "55767   Tring to load csv file in Pandas using dataframe            1   \n",
       "55777  Using .agg in pandas returns 'list object has ...            1   \n",
       "55781  How can I use a list comprehension to set colors?            1   \n",
       "55987  Merging list elements into one list of datafra...            1   \n",
       "56175  Calculating cummulative returns mid-year to mi...            1   \n",
       "\n",
       "       commentcount  favoritecount   quest_name  quest_rep     ans_name  \\\n",
       "10                0            NaN   codingknob     2279.0   codingknob   \n",
       "33                2            NaN  user1234440     3369.0  user1234440   \n",
       "58                0           15.0          bmu    17129.0          bmu   \n",
       "68                3            5.0       elyase    19551.0       elyase   \n",
       "74                2            7.0     vgoklani     1752.0     vgoklani   \n",
       "...             ...            ...          ...        ...          ...   \n",
       "55767             3            NaN     SaishB93       18.0     SaishB93   \n",
       "55777             4            NaN      Nord112        3.0      Nord112   \n",
       "55781             8            1.0        solub       79.0        solub   \n",
       "55987             0            NaN         hall       15.0         hall   \n",
       "56175             0            NaN        Chris       13.0        Chris   \n",
       "\n",
       "       ans_rep  \n",
       "10      2279.0  \n",
       "33      3369.0  \n",
       "58     17129.0  \n",
       "68     19551.0  \n",
       "74      1752.0  \n",
       "...        ...  \n",
       "55767     18.0  \n",
       "55777      3.0  \n",
       "55781     79.0  \n",
       "55987     15.0  \n",
       "56175     13.0  \n",
       "\n",
       "[1512 rows x 12 columns]"
      ]
     },
     "execution_count": 3,
     "metadata": {},
     "output_type": "execute_result"
    }
   ],
   "source": [
    "so[so['quest_name']==so['ans_name']]"
   ]
  },
  {
   "cell_type": "code",
   "execution_count": 4,
   "metadata": {},
   "outputs": [
    {
     "data": {
      "text/html": [
       "<div>\n",
       "<style scoped>\n",
       "    .dataframe tbody tr th:only-of-type {\n",
       "        vertical-align: middle;\n",
       "    }\n",
       "\n",
       "    .dataframe tbody tr th {\n",
       "        vertical-align: top;\n",
       "    }\n",
       "\n",
       "    .dataframe thead th {\n",
       "        text-align: right;\n",
       "    }\n",
       "</style>\n",
       "<table border=\"1\" class=\"dataframe\">\n",
       "  <thead>\n",
       "    <tr style=\"text-align: right;\">\n",
       "      <th></th>\n",
       "      <th>score</th>\n",
       "      <th>title</th>\n",
       "      <th>commentcount</th>\n",
       "      <th>quest_name</th>\n",
       "      <th>ans_name</th>\n",
       "    </tr>\n",
       "  </thead>\n",
       "  <tbody>\n",
       "    <tr>\n",
       "      <th>10</th>\n",
       "      <td>1</td>\n",
       "      <td>python: pandas install errors</td>\n",
       "      <td>0</td>\n",
       "      <td>codingknob</td>\n",
       "      <td>codingknob</td>\n",
       "    </tr>\n",
       "    <tr>\n",
       "      <th>33</th>\n",
       "      <td>9</td>\n",
       "      <td>How do I read a fix width format text file in ...</td>\n",
       "      <td>2</td>\n",
       "      <td>user1234440</td>\n",
       "      <td>user1234440</td>\n",
       "    </tr>\n",
       "    <tr>\n",
       "      <th>58</th>\n",
       "      <td>21</td>\n",
       "      <td>How to resample a dataframe with different fun...</td>\n",
       "      <td>0</td>\n",
       "      <td>bmu</td>\n",
       "      <td>bmu</td>\n",
       "    </tr>\n",
       "    <tr>\n",
       "      <th>68</th>\n",
       "      <td>15</td>\n",
       "      <td>Select data at a particular level from a Multi...</td>\n",
       "      <td>3</td>\n",
       "      <td>elyase</td>\n",
       "      <td>elyase</td>\n",
       "    </tr>\n",
       "    <tr>\n",
       "      <th>74</th>\n",
       "      <td>9</td>\n",
       "      <td>major memory problems reading in a csv file us...</td>\n",
       "      <td>2</td>\n",
       "      <td>vgoklani</td>\n",
       "      <td>vgoklani</td>\n",
       "    </tr>\n",
       "    <tr>\n",
       "      <th>...</th>\n",
       "      <td>...</td>\n",
       "      <td>...</td>\n",
       "      <td>...</td>\n",
       "      <td>...</td>\n",
       "      <td>...</td>\n",
       "    </tr>\n",
       "    <tr>\n",
       "      <th>55767</th>\n",
       "      <td>0</td>\n",
       "      <td>Tring to load csv file in Pandas using dataframe</td>\n",
       "      <td>3</td>\n",
       "      <td>SaishB93</td>\n",
       "      <td>SaishB93</td>\n",
       "    </tr>\n",
       "    <tr>\n",
       "      <th>55777</th>\n",
       "      <td>0</td>\n",
       "      <td>Using .agg in pandas returns 'list object has ...</td>\n",
       "      <td>4</td>\n",
       "      <td>Nord112</td>\n",
       "      <td>Nord112</td>\n",
       "    </tr>\n",
       "    <tr>\n",
       "      <th>55781</th>\n",
       "      <td>1</td>\n",
       "      <td>How can I use a list comprehension to set colors?</td>\n",
       "      <td>8</td>\n",
       "      <td>solub</td>\n",
       "      <td>solub</td>\n",
       "    </tr>\n",
       "    <tr>\n",
       "      <th>55987</th>\n",
       "      <td>0</td>\n",
       "      <td>Merging list elements into one list of datafra...</td>\n",
       "      <td>0</td>\n",
       "      <td>hall</td>\n",
       "      <td>hall</td>\n",
       "    </tr>\n",
       "    <tr>\n",
       "      <th>56175</th>\n",
       "      <td>0</td>\n",
       "      <td>Calculating cummulative returns mid-year to mi...</td>\n",
       "      <td>0</td>\n",
       "      <td>Chris</td>\n",
       "      <td>Chris</td>\n",
       "    </tr>\n",
       "  </tbody>\n",
       "</table>\n",
       "<p>1512 rows × 5 columns</p>\n",
       "</div>"
      ],
      "text/plain": [
       "       score                                              title  commentcount  \\\n",
       "10         1                      python: pandas install errors             0   \n",
       "33         9  How do I read a fix width format text file in ...             2   \n",
       "58        21  How to resample a dataframe with different fun...             0   \n",
       "68        15  Select data at a particular level from a Multi...             3   \n",
       "74         9  major memory problems reading in a csv file us...             2   \n",
       "...      ...                                                ...           ...   \n",
       "55767      0   Tring to load csv file in Pandas using dataframe             3   \n",
       "55777      0  Using .agg in pandas returns 'list object has ...             4   \n",
       "55781      1  How can I use a list comprehension to set colors?             8   \n",
       "55987      0  Merging list elements into one list of datafra...             0   \n",
       "56175      0  Calculating cummulative returns mid-year to mi...             0   \n",
       "\n",
       "        quest_name     ans_name  \n",
       "10      codingknob   codingknob  \n",
       "33     user1234440  user1234440  \n",
       "58             bmu          bmu  \n",
       "68          elyase       elyase  \n",
       "74        vgoklani     vgoklani  \n",
       "...            ...          ...  \n",
       "55767     SaishB93     SaishB93  \n",
       "55777      Nord112      Nord112  \n",
       "55781        solub        solub  \n",
       "55987         hall         hall  \n",
       "56175        Chris        Chris  \n",
       "\n",
       "[1512 rows x 5 columns]"
      ]
     },
     "execution_count": 4,
     "metadata": {},
     "output_type": "execute_result"
    }
   ],
   "source": [
    "so.loc[so['quest_name']==so['ans_name'],'score'::2]"
   ]
  },
  {
   "cell_type": "markdown",
   "metadata": {
    "colab_type": "text",
    "id": "DCp4I4GzU2di"
   },
   "source": [
    "Before we get to the technical definition of boolean indexing, let's see some examples of the types of questions it can answer.\n",
    "\n",
    "- Find all questions that were created before 2014\n",
    "- Find all questions with a score more than 50\n",
    "- Find all questions with a score between 50 and 100\n",
    "- Find all questions answered by Scott Boston\n",
    "- Find all questions answered by the following 5 users\n",
    "- Find all questions that were created between March, 2014 and October 2014 that were answered by Unutbu and have score less than 5.\n",
    "- Find all questions that have score between 5 and 10 or have a view count of greater than 10,000\n",
    "- Find all questions that are not answered by Scott Boston\n",
    "\n",
    "You will also see examples like this referred to by the term **queries**.<br>\n",
    "Each of the above queries have a strict logical criteria that must be checked one row at a time."
   ]
  },
  {
   "cell_type": "markdown",
   "metadata": {
    "colab_type": "text",
    "id": "DCp4I4GzU2di"
   },
   "source": [
    "**Keep or Discard entire row of data**\n",
    "\n",
    "If you were to manually answer the above queries, you would need to scan each row and determine whether the row as a whole meets the criterion or not. If the row meets the criteria, then it is kept and if not, then it is discarded.\n",
    "\n",
    "**Each row will have a *True* or *False* value associated with it**\n",
    "\n",
    "When you perform boolean indexing, each row of the DataFrame (or value of a Series) will have a `True` or `False` value associated with it depending on whether or not it meets the criterion. True/False values are known as **boolean**. The documentation refers to the entire procedure as **boolean indexing**. \n",
    "\n",
    "Since we are using the booleans to select data, it is sometimes referred to as **boolean selection**. Essentially, we are using booleans to select subsets of data."
   ]
  },
  {
   "cell_type": "markdown",
   "metadata": {
    "colab_type": "text",
    "id": "DCp4I4GzU2di"
   },
   "source": [
    "## Using `[ ]` and `.loc`\n",
    "\n",
    "We will use the same two indexers, `[ ]` and `.loc` from previous chapter to complete our boolean selections. We will do so by placing a sequence of booleans inside of these indexer. The sequence will be the same number of rows/values as the DataFrame/Series it is doing the selection on.\n",
    "\n",
    "## Boolean selection with `[ ]`  \n",
    "\n",
    "To simplify things, we will only the brackets to get started with boolean indexing, `[ ]`."
   ]
  },
  {
   "cell_type": "code",
   "execution_count": 5,
   "metadata": {
    "colab": {
     "base_uri": "https://localhost:8080/",
     "height": 289
    },
    "colab_type": "code",
    "executionInfo": {
     "elapsed": 802,
     "status": "ok",
     "timestamp": 1566295988725,
     "user": {
      "displayName": "Ai Adventures",
      "photoUrl": "https://lh3.googleusercontent.com/-OQdAjp2vMZo/AAAAAAAAAAI/AAAAAAAAAA8/8FVq41kVT5s/s64/photo.jpg",
      "userId": "14635366068755244481"
     },
     "user_tz": -330
    },
    "id": "d-exnqkpU2dl",
    "outputId": "78dd0f86-36ab-421d-9bdf-3eb5e217fc6e"
   },
   "outputs": [
    {
     "data": {
      "text/html": [
       "<div>\n",
       "<style scoped>\n",
       "    .dataframe tbody tr th:only-of-type {\n",
       "        vertical-align: middle;\n",
       "    }\n",
       "\n",
       "    .dataframe tbody tr th {\n",
       "        vertical-align: top;\n",
       "    }\n",
       "\n",
       "    .dataframe thead th {\n",
       "        text-align: right;\n",
       "    }\n",
       "</style>\n",
       "<table border=\"1\" class=\"dataframe\">\n",
       "  <thead>\n",
       "    <tr style=\"text-align: right;\">\n",
       "      <th></th>\n",
       "      <th>id</th>\n",
       "      <th>creationdate</th>\n",
       "      <th>score</th>\n",
       "      <th>viewcount</th>\n",
       "      <th>title</th>\n",
       "      <th>answercount</th>\n",
       "      <th>commentcount</th>\n",
       "      <th>favoritecount</th>\n",
       "      <th>quest_name</th>\n",
       "      <th>quest_rep</th>\n",
       "      <th>ans_name</th>\n",
       "      <th>ans_rep</th>\n",
       "    </tr>\n",
       "  </thead>\n",
       "  <tbody>\n",
       "    <tr>\n",
       "      <th>0</th>\n",
       "      <td>5486226</td>\n",
       "      <td>2011-03-30 12:26:50</td>\n",
       "      <td>4</td>\n",
       "      <td>2113</td>\n",
       "      <td>Rolling median in python</td>\n",
       "      <td>3</td>\n",
       "      <td>4</td>\n",
       "      <td>1.0</td>\n",
       "      <td>yueerhu</td>\n",
       "      <td>125.0</td>\n",
       "      <td>Mike Pennington</td>\n",
       "      <td>26995.0</td>\n",
       "    </tr>\n",
       "    <tr>\n",
       "      <th>1</th>\n",
       "      <td>5515021</td>\n",
       "      <td>2011-04-01 14:50:44</td>\n",
       "      <td>8</td>\n",
       "      <td>7015</td>\n",
       "      <td>Compute a compounded return series in Python</td>\n",
       "      <td>3</td>\n",
       "      <td>6</td>\n",
       "      <td>7.0</td>\n",
       "      <td>Jason Strimpel</td>\n",
       "      <td>3301.0</td>\n",
       "      <td>Mike Pennington</td>\n",
       "      <td>26995.0</td>\n",
       "    </tr>\n",
       "    <tr>\n",
       "      <th>2</th>\n",
       "      <td>5558607</td>\n",
       "      <td>2011-04-05 21:13:50</td>\n",
       "      <td>2</td>\n",
       "      <td>7392</td>\n",
       "      <td>Sort a pandas DataMatrix in ascending order</td>\n",
       "      <td>2</td>\n",
       "      <td>0</td>\n",
       "      <td>1.0</td>\n",
       "      <td>Jason Strimpel</td>\n",
       "      <td>3301.0</td>\n",
       "      <td>Wes McKinney</td>\n",
       "      <td>43310.0</td>\n",
       "    </tr>\n",
       "    <tr>\n",
       "      <th>3</th>\n",
       "      <td>6467832</td>\n",
       "      <td>2011-06-24 12:31:45</td>\n",
       "      <td>9</td>\n",
       "      <td>13056</td>\n",
       "      <td>How to get the correlation between two timeser...</td>\n",
       "      <td>1</td>\n",
       "      <td>0</td>\n",
       "      <td>7.0</td>\n",
       "      <td>user814005</td>\n",
       "      <td>117.0</td>\n",
       "      <td>Wes McKinney</td>\n",
       "      <td>43310.0</td>\n",
       "    </tr>\n",
       "    <tr>\n",
       "      <th>4</th>\n",
       "      <td>7577546</td>\n",
       "      <td>2011-09-28 01:58:38</td>\n",
       "      <td>9</td>\n",
       "      <td>2488</td>\n",
       "      <td>Using pandas, how do I subsample a large DataF...</td>\n",
       "      <td>1</td>\n",
       "      <td>0</td>\n",
       "      <td>5.0</td>\n",
       "      <td>Uri Laserson</td>\n",
       "      <td>958.0</td>\n",
       "      <td>HYRY</td>\n",
       "      <td>54137.0</td>\n",
       "    </tr>\n",
       "  </tbody>\n",
       "</table>\n",
       "</div>"
      ],
      "text/plain": [
       "        id         creationdate  score  viewcount  \\\n",
       "0  5486226  2011-03-30 12:26:50      4       2113   \n",
       "1  5515021  2011-04-01 14:50:44      8       7015   \n",
       "2  5558607  2011-04-05 21:13:50      2       7392   \n",
       "3  6467832  2011-06-24 12:31:45      9      13056   \n",
       "4  7577546  2011-09-28 01:58:38      9       2488   \n",
       "\n",
       "                                               title  answercount  \\\n",
       "0                           Rolling median in python            3   \n",
       "1       Compute a compounded return series in Python            3   \n",
       "2        Sort a pandas DataMatrix in ascending order            2   \n",
       "3  How to get the correlation between two timeser...            1   \n",
       "4  Using pandas, how do I subsample a large DataF...            1   \n",
       "\n",
       "   commentcount  favoritecount      quest_name  quest_rep         ans_name  \\\n",
       "0             4            1.0         yueerhu      125.0  Mike Pennington   \n",
       "1             6            7.0  Jason Strimpel     3301.0  Mike Pennington   \n",
       "2             0            1.0  Jason Strimpel     3301.0     Wes McKinney   \n",
       "3             0            7.0      user814005      117.0     Wes McKinney   \n",
       "4             0            5.0    Uri Laserson      958.0             HYRY   \n",
       "\n",
       "   ans_rep  \n",
       "0  26995.0  \n",
       "1  26995.0  \n",
       "2  43310.0  \n",
       "3  43310.0  \n",
       "4  54137.0  "
      ]
     },
     "execution_count": 5,
     "metadata": {},
     "output_type": "execute_result"
    }
   ],
   "source": [
    "so_head = so.head()\n",
    "so_head"
   ]
  },
  {
   "cell_type": "markdown",
   "metadata": {
    "colab_type": "text",
    "id": "QJ7nzvW6U2dp"
   },
   "source": [
    "### Manual created list\n",
    "\n",
    "For instance, let's begin by creating the following list:"
   ]
  },
  {
   "cell_type": "code",
   "execution_count": 6,
   "metadata": {
    "colab": {},
    "colab_type": "code",
    "id": "uGVf9mhcU2dp"
   },
   "outputs": [],
   "source": [
    "criteria = [True, False, True, False, False]"
   ]
  },
  {
   "cell_type": "markdown",
   "metadata": {
    "colab_type": "text",
    "id": "7lhq4pD9U2ds"
   },
   "source": [
    "We can pass this list of booleans to `[ ]` operator and complete our selection:"
   ]
  },
  {
   "cell_type": "code",
   "execution_count": 7,
   "metadata": {
    "colab": {
     "base_uri": "https://localhost:8080/",
     "height": 145
    },
    "colab_type": "code",
    "executionInfo": {
     "elapsed": 1046,
     "status": "ok",
     "timestamp": 1566296004101,
     "user": {
      "displayName": "Ai Adventures",
      "photoUrl": "https://lh3.googleusercontent.com/-OQdAjp2vMZo/AAAAAAAAAAI/AAAAAAAAAA8/8FVq41kVT5s/s64/photo.jpg",
      "userId": "14635366068755244481"
     },
     "user_tz": -330
    },
    "id": "9aiWvbRaU2dt",
    "outputId": "03d83e60-997c-448f-b919-fcc44dc322cc"
   },
   "outputs": [
    {
     "data": {
      "text/html": [
       "<div>\n",
       "<style scoped>\n",
       "    .dataframe tbody tr th:only-of-type {\n",
       "        vertical-align: middle;\n",
       "    }\n",
       "\n",
       "    .dataframe tbody tr th {\n",
       "        vertical-align: top;\n",
       "    }\n",
       "\n",
       "    .dataframe thead th {\n",
       "        text-align: right;\n",
       "    }\n",
       "</style>\n",
       "<table border=\"1\" class=\"dataframe\">\n",
       "  <thead>\n",
       "    <tr style=\"text-align: right;\">\n",
       "      <th></th>\n",
       "      <th>id</th>\n",
       "      <th>creationdate</th>\n",
       "      <th>score</th>\n",
       "      <th>viewcount</th>\n",
       "      <th>title</th>\n",
       "      <th>answercount</th>\n",
       "      <th>commentcount</th>\n",
       "      <th>favoritecount</th>\n",
       "      <th>quest_name</th>\n",
       "      <th>quest_rep</th>\n",
       "      <th>ans_name</th>\n",
       "      <th>ans_rep</th>\n",
       "    </tr>\n",
       "  </thead>\n",
       "  <tbody>\n",
       "    <tr>\n",
       "      <th>0</th>\n",
       "      <td>5486226</td>\n",
       "      <td>2011-03-30 12:26:50</td>\n",
       "      <td>4</td>\n",
       "      <td>2113</td>\n",
       "      <td>Rolling median in python</td>\n",
       "      <td>3</td>\n",
       "      <td>4</td>\n",
       "      <td>1.0</td>\n",
       "      <td>yueerhu</td>\n",
       "      <td>125.0</td>\n",
       "      <td>Mike Pennington</td>\n",
       "      <td>26995.0</td>\n",
       "    </tr>\n",
       "    <tr>\n",
       "      <th>2</th>\n",
       "      <td>5558607</td>\n",
       "      <td>2011-04-05 21:13:50</td>\n",
       "      <td>2</td>\n",
       "      <td>7392</td>\n",
       "      <td>Sort a pandas DataMatrix in ascending order</td>\n",
       "      <td>2</td>\n",
       "      <td>0</td>\n",
       "      <td>1.0</td>\n",
       "      <td>Jason Strimpel</td>\n",
       "      <td>3301.0</td>\n",
       "      <td>Wes McKinney</td>\n",
       "      <td>43310.0</td>\n",
       "    </tr>\n",
       "  </tbody>\n",
       "</table>\n",
       "</div>"
      ],
      "text/plain": [
       "        id         creationdate  score  viewcount  \\\n",
       "0  5486226  2011-03-30 12:26:50      4       2113   \n",
       "2  5558607  2011-04-05 21:13:50      2       7392   \n",
       "\n",
       "                                         title  answercount  commentcount  \\\n",
       "0                     Rolling median in python            3             4   \n",
       "2  Sort a pandas DataMatrix in ascending order            2             0   \n",
       "\n",
       "   favoritecount      quest_name  quest_rep         ans_name  ans_rep  \n",
       "0            1.0         yueerhu      125.0  Mike Pennington  26995.0  \n",
       "2            1.0  Jason Strimpel     3301.0     Wes McKinney  43310.0  "
      ]
     },
     "execution_count": 7,
     "metadata": {},
     "output_type": "execute_result"
    }
   ],
   "source": [
    "so_head.loc[criteria]"
   ]
  },
  {
   "cell_type": "markdown",
   "metadata": {
    "colab_type": "text",
    "id": "xsajrFTOU2dw"
   },
   "source": [
    "**Wait a second... Isn't `[]` just for column selection?**\n",
    "\n",
    "#### Operator Overloading\n",
    "The indexing operator changes behavior based on what type of object is passed to it. The following pseudocode outlines how DataFrame indexing operator handles the object that it is passed:\n",
    "```{code-block}python\n",
    "df[item]  # Where `df` is a DataFrame and item is some object\n",
    "\n",
    "If item is a string then    \n",
    "    Find a column name that matches the item exactly    \n",
    "    Raise KeyError if there is no match    \n",
    "    Return the column as a Series\n",
    "    \n",
    "If item is a list of strings then    \n",
    "    Raise KeyError if one or more strings in item do not match columns    \n",
    "    Return a DataFrame with just the columns in the list\n",
    "    \n",
    "If item is a slice object then   \n",
    "    Works with either integer or string slices   \n",
    "    Raise KeyError if label from label slice is not in index   \n",
    "    Return all ROWS that are selected by the slice\n",
    "\n",
    "If item is a list, Series or ndarray of booleans then   \n",
    "    Raise ValueError if length of item not equal to length of DataFrame   \n",
    "    Use the booleans to return only the rows with True in same location\n",
    "```"
   ]
  },
  {
   "cell_type": "markdown",
   "metadata": {
    "colab_type": "text",
    "id": "xsajrFTOU2dw"
   },
   "source": [
    "In summary, primarily `[ ]` selects **columns**, but if you pass it a sequence of booleans it will select all **rows** that are **True**.`[ ]` operator is overloaded. This means, that depending on the inputs, pandas will do something completely different. Here are the rules for the different objects you pass to `[ ]`.\n",
    "- *string* - return a column as a Series\n",
    "- *list of strings* - return all those columns as a DataFrame\n",
    "- *a slice* - select rows (can do both label and integer location - confusing!)\n",
    "- *a sequence of booleans* - select all rows where **`True`**"
   ]
  },
  {
   "cell_type": "markdown",
   "metadata": {
    "colab_type": "text",
    "id": "pyNXSt5vU2dx"
   },
   "source": [
    "### Use NumPy arrays\n",
    "\n",
    "You can also use NumPy arrays to do boolean selection. NumPy arrays have no index so you won't get the error above, but your array needs to be the same exact length as the object you are doing boolean selection on."
   ]
  },
  {
   "cell_type": "code",
   "execution_count": 8,
   "metadata": {
    "colab": {
     "base_uri": "https://localhost:8080/",
     "height": 80
    },
    "colab_type": "code",
    "executionInfo": {
     "elapsed": 1225,
     "status": "ok",
     "timestamp": 1566296011166,
     "user": {
      "displayName": "Ai Adventures",
      "photoUrl": "https://lh3.googleusercontent.com/-OQdAjp2vMZo/AAAAAAAAAAI/AAAAAAAAAA8/8FVq41kVT5s/s64/photo.jpg",
      "userId": "14635366068755244481"
     },
     "user_tz": -330
    },
    "id": "Q_WMYnDBU2dy",
    "outputId": "955a089b-4245-4bc0-f3a6-daba24007d60"
   },
   "outputs": [
    {
     "data": {
      "text/html": [
       "<div>\n",
       "<style scoped>\n",
       "    .dataframe tbody tr th:only-of-type {\n",
       "        vertical-align: middle;\n",
       "    }\n",
       "\n",
       "    .dataframe tbody tr th {\n",
       "        vertical-align: top;\n",
       "    }\n",
       "\n",
       "    .dataframe thead th {\n",
       "        text-align: right;\n",
       "    }\n",
       "</style>\n",
       "<table border=\"1\" class=\"dataframe\">\n",
       "  <thead>\n",
       "    <tr style=\"text-align: right;\">\n",
       "      <th></th>\n",
       "      <th>id</th>\n",
       "      <th>creationdate</th>\n",
       "      <th>score</th>\n",
       "      <th>viewcount</th>\n",
       "      <th>title</th>\n",
       "      <th>answercount</th>\n",
       "      <th>commentcount</th>\n",
       "      <th>favoritecount</th>\n",
       "      <th>quest_name</th>\n",
       "      <th>quest_rep</th>\n",
       "      <th>ans_name</th>\n",
       "      <th>ans_rep</th>\n",
       "    </tr>\n",
       "  </thead>\n",
       "  <tbody>\n",
       "    <tr>\n",
       "      <th>0</th>\n",
       "      <td>5486226</td>\n",
       "      <td>2011-03-30 12:26:50</td>\n",
       "      <td>4</td>\n",
       "      <td>2113</td>\n",
       "      <td>Rolling median in python</td>\n",
       "      <td>3</td>\n",
       "      <td>4</td>\n",
       "      <td>1.0</td>\n",
       "      <td>yueerhu</td>\n",
       "      <td>125.0</td>\n",
       "      <td>Mike Pennington</td>\n",
       "      <td>26995.0</td>\n",
       "    </tr>\n",
       "  </tbody>\n",
       "</table>\n",
       "</div>"
      ],
      "text/plain": [
       "        id         creationdate  score  viewcount                     title  \\\n",
       "0  5486226  2011-03-30 12:26:50      4       2113  Rolling median in python   \n",
       "\n",
       "   answercount  commentcount  favoritecount quest_name  quest_rep  \\\n",
       "0            3             4            1.0    yueerhu      125.0   \n",
       "\n",
       "          ans_name  ans_rep  \n",
       "0  Mike Pennington  26995.0  "
      ]
     },
     "execution_count": 8,
     "metadata": {},
     "output_type": "execute_result"
    }
   ],
   "source": [
    "a = np.array([True, False, False, False, False])\n",
    "so_head[a]"
   ]
  },
  {
   "cell_type": "code",
   "execution_count": 9,
   "metadata": {
    "colab": {},
    "colab_type": "code",
    "id": "jqzEnIjLU2d2"
   },
   "outputs": [],
   "source": [
    "c1 = [True, False, False]*4"
   ]
  },
  {
   "cell_type": "code",
   "execution_count": 10,
   "metadata": {
    "colab": {
     "base_uri": "https://localhost:8080/",
     "height": 221
    },
    "colab_type": "code",
    "executionInfo": {
     "elapsed": 733,
     "status": "ok",
     "timestamp": 1566296038860,
     "user": {
      "displayName": "Ai Adventures",
      "photoUrl": "https://lh3.googleusercontent.com/-OQdAjp2vMZo/AAAAAAAAAAI/AAAAAAAAAA8/8FVq41kVT5s/s64/photo.jpg",
      "userId": "14635366068755244481"
     },
     "user_tz": -330
    },
    "id": "kNxaBM4_U2d5",
    "outputId": "a32ba1b0-3917-4cf6-d1a5-56803162ddbe"
   },
   "outputs": [
    {
     "data": {
      "text/plain": [
       "[True,\n",
       " False,\n",
       " False,\n",
       " True,\n",
       " False,\n",
       " False,\n",
       " True,\n",
       " False,\n",
       " False,\n",
       " True,\n",
       " False,\n",
       " False]"
      ]
     },
     "execution_count": 10,
     "metadata": {},
     "output_type": "execute_result"
    }
   ],
   "source": [
    "c1"
   ]
  },
  {
   "cell_type": "code",
   "execution_count": 11,
   "metadata": {
    "colab": {
     "base_uri": "https://localhost:8080/",
     "height": 204
    },
    "colab_type": "code",
    "executionInfo": {
     "elapsed": 673,
     "status": "ok",
     "timestamp": 1566296040458,
     "user": {
      "displayName": "Ai Adventures",
      "photoUrl": "https://lh3.googleusercontent.com/-OQdAjp2vMZo/AAAAAAAAAAI/AAAAAAAAAA8/8FVq41kVT5s/s64/photo.jpg",
      "userId": "14635366068755244481"
     },
     "user_tz": -330
    },
    "id": "lC4FP3dCU2d9",
    "outputId": "bf37b6b1-83fd-4e74-9727-f45f2989cb19"
   },
   "outputs": [
    {
     "data": {
      "text/html": [
       "<div>\n",
       "<style scoped>\n",
       "    .dataframe tbody tr th:only-of-type {\n",
       "        vertical-align: middle;\n",
       "    }\n",
       "\n",
       "    .dataframe tbody tr th {\n",
       "        vertical-align: top;\n",
       "    }\n",
       "\n",
       "    .dataframe thead th {\n",
       "        text-align: right;\n",
       "    }\n",
       "</style>\n",
       "<table border=\"1\" class=\"dataframe\">\n",
       "  <thead>\n",
       "    <tr style=\"text-align: right;\">\n",
       "      <th></th>\n",
       "      <th>id</th>\n",
       "      <th>viewcount</th>\n",
       "      <th>commentcount</th>\n",
       "      <th>quest_rep</th>\n",
       "    </tr>\n",
       "  </thead>\n",
       "  <tbody>\n",
       "    <tr>\n",
       "      <th>0</th>\n",
       "      <td>5486226</td>\n",
       "      <td>2113</td>\n",
       "      <td>4</td>\n",
       "      <td>125.0</td>\n",
       "    </tr>\n",
       "    <tr>\n",
       "      <th>1</th>\n",
       "      <td>5515021</td>\n",
       "      <td>7015</td>\n",
       "      <td>6</td>\n",
       "      <td>3301.0</td>\n",
       "    </tr>\n",
       "    <tr>\n",
       "      <th>2</th>\n",
       "      <td>5558607</td>\n",
       "      <td>7392</td>\n",
       "      <td>0</td>\n",
       "      <td>3301.0</td>\n",
       "    </tr>\n",
       "    <tr>\n",
       "      <th>3</th>\n",
       "      <td>6467832</td>\n",
       "      <td>13056</td>\n",
       "      <td>0</td>\n",
       "      <td>117.0</td>\n",
       "    </tr>\n",
       "    <tr>\n",
       "      <th>4</th>\n",
       "      <td>7577546</td>\n",
       "      <td>2488</td>\n",
       "      <td>0</td>\n",
       "      <td>958.0</td>\n",
       "    </tr>\n",
       "  </tbody>\n",
       "</table>\n",
       "</div>"
      ],
      "text/plain": [
       "        id  viewcount  commentcount  quest_rep\n",
       "0  5486226       2113             4      125.0\n",
       "1  5515021       7015             6     3301.0\n",
       "2  5558607       7392             0     3301.0\n",
       "3  6467832      13056             0      117.0\n",
       "4  7577546       2488             0      958.0"
      ]
     },
     "execution_count": 11,
     "metadata": {},
     "output_type": "execute_result"
    }
   ],
   "source": [
    "so_head.loc[:, c1]"
   ]
  },
  {
   "cell_type": "markdown",
   "metadata": {
    "colab_type": "text",
    "id": "qfSIvMpqU2eA"
   },
   "source": [
    "**What do you mean by 'sequence'?**\n",
    "\n",
    "We keep using the term **sequence of booleans** to refer to the `True/False` values. Technically, the most common built-in [Python sequence](https://docs.python.org/3/library/stdtypes.html#typesseq) types are lists and tuples. In addition to a list, you will most often be using a pandas Series as your 'sequence' of booleans."
   ]
  },
  {
   "cell_type": "markdown",
   "metadata": {
    "colab_type": "text",
    "id": "oVseiki7U2eB"
   },
   "source": [
    "### Using pandas series\n",
    "\n",
    "Let's manually create a boolean Series to select the last three rows of **`so_head`**."
   ]
  },
  {
   "cell_type": "code",
   "execution_count": 12,
   "metadata": {
    "colab": {
     "base_uri": "https://localhost:8080/",
     "height": 119
    },
    "colab_type": "code",
    "executionInfo": {
     "elapsed": 956,
     "status": "ok",
     "timestamp": 1566296044146,
     "user": {
      "displayName": "Ai Adventures",
      "photoUrl": "https://lh3.googleusercontent.com/-OQdAjp2vMZo/AAAAAAAAAAI/AAAAAAAAAA8/8FVq41kVT5s/s64/photo.jpg",
      "userId": "14635366068755244481"
     },
     "user_tz": -330
    },
    "id": "Pk-0qeKRU2eC",
    "outputId": "55527316-7d44-4d5d-ed7a-54bcb296d97c"
   },
   "outputs": [
    {
     "data": {
      "text/plain": [
       "0    False\n",
       "1    False\n",
       "2     True\n",
       "3     True\n",
       "4     True\n",
       "dtype: bool"
      ]
     },
     "execution_count": 12,
     "metadata": {},
     "output_type": "execute_result"
    }
   ],
   "source": [
    "s = pd.Series([False, False, True, True, True])\n",
    "s"
   ]
  },
  {
   "cell_type": "code",
   "execution_count": 13,
   "metadata": {
    "colab": {
     "base_uri": "https://localhost:8080/",
     "height": 193
    },
    "colab_type": "code",
    "executionInfo": {
     "elapsed": 1088,
     "status": "ok",
     "timestamp": 1566296046749,
     "user": {
      "displayName": "Ai Adventures",
      "photoUrl": "https://lh3.googleusercontent.com/-OQdAjp2vMZo/AAAAAAAAAAI/AAAAAAAAAA8/8FVq41kVT5s/s64/photo.jpg",
      "userId": "14635366068755244481"
     },
     "user_tz": -330
    },
    "id": "YqrQLIwYU2eF",
    "outputId": "610bb924-4de5-4078-a64e-276126da9efb"
   },
   "outputs": [
    {
     "data": {
      "text/html": [
       "<div>\n",
       "<style scoped>\n",
       "    .dataframe tbody tr th:only-of-type {\n",
       "        vertical-align: middle;\n",
       "    }\n",
       "\n",
       "    .dataframe tbody tr th {\n",
       "        vertical-align: top;\n",
       "    }\n",
       "\n",
       "    .dataframe thead th {\n",
       "        text-align: right;\n",
       "    }\n",
       "</style>\n",
       "<table border=\"1\" class=\"dataframe\">\n",
       "  <thead>\n",
       "    <tr style=\"text-align: right;\">\n",
       "      <th></th>\n",
       "      <th>id</th>\n",
       "      <th>creationdate</th>\n",
       "      <th>score</th>\n",
       "      <th>viewcount</th>\n",
       "      <th>title</th>\n",
       "      <th>answercount</th>\n",
       "      <th>commentcount</th>\n",
       "      <th>favoritecount</th>\n",
       "      <th>quest_name</th>\n",
       "      <th>quest_rep</th>\n",
       "      <th>ans_name</th>\n",
       "      <th>ans_rep</th>\n",
       "    </tr>\n",
       "  </thead>\n",
       "  <tbody>\n",
       "    <tr>\n",
       "      <th>2</th>\n",
       "      <td>5558607</td>\n",
       "      <td>2011-04-05 21:13:50</td>\n",
       "      <td>2</td>\n",
       "      <td>7392</td>\n",
       "      <td>Sort a pandas DataMatrix in ascending order</td>\n",
       "      <td>2</td>\n",
       "      <td>0</td>\n",
       "      <td>1.0</td>\n",
       "      <td>Jason Strimpel</td>\n",
       "      <td>3301.0</td>\n",
       "      <td>Wes McKinney</td>\n",
       "      <td>43310.0</td>\n",
       "    </tr>\n",
       "    <tr>\n",
       "      <th>3</th>\n",
       "      <td>6467832</td>\n",
       "      <td>2011-06-24 12:31:45</td>\n",
       "      <td>9</td>\n",
       "      <td>13056</td>\n",
       "      <td>How to get the correlation between two timeser...</td>\n",
       "      <td>1</td>\n",
       "      <td>0</td>\n",
       "      <td>7.0</td>\n",
       "      <td>user814005</td>\n",
       "      <td>117.0</td>\n",
       "      <td>Wes McKinney</td>\n",
       "      <td>43310.0</td>\n",
       "    </tr>\n",
       "    <tr>\n",
       "      <th>4</th>\n",
       "      <td>7577546</td>\n",
       "      <td>2011-09-28 01:58:38</td>\n",
       "      <td>9</td>\n",
       "      <td>2488</td>\n",
       "      <td>Using pandas, how do I subsample a large DataF...</td>\n",
       "      <td>1</td>\n",
       "      <td>0</td>\n",
       "      <td>5.0</td>\n",
       "      <td>Uri Laserson</td>\n",
       "      <td>958.0</td>\n",
       "      <td>HYRY</td>\n",
       "      <td>54137.0</td>\n",
       "    </tr>\n",
       "  </tbody>\n",
       "</table>\n",
       "</div>"
      ],
      "text/plain": [
       "        id         creationdate  score  viewcount  \\\n",
       "2  5558607  2011-04-05 21:13:50      2       7392   \n",
       "3  6467832  2011-06-24 12:31:45      9      13056   \n",
       "4  7577546  2011-09-28 01:58:38      9       2488   \n",
       "\n",
       "                                               title  answercount  \\\n",
       "2        Sort a pandas DataMatrix in ascending order            2   \n",
       "3  How to get the correlation between two timeser...            1   \n",
       "4  Using pandas, how do I subsample a large DataF...            1   \n",
       "\n",
       "   commentcount  favoritecount      quest_name  quest_rep      ans_name  \\\n",
       "2             0            1.0  Jason Strimpel     3301.0  Wes McKinney   \n",
       "3             0            7.0      user814005      117.0  Wes McKinney   \n",
       "4             0            5.0    Uri Laserson      958.0          HYRY   \n",
       "\n",
       "   ans_rep  \n",
       "2  43310.0  \n",
       "3  43310.0  \n",
       "4  54137.0  "
      ]
     },
     "execution_count": 13,
     "metadata": {},
     "output_type": "execute_result"
    }
   ],
   "source": [
    "so_head[s]"
   ]
  },
  {
   "cell_type": "markdown",
   "metadata": {
    "colab_type": "text",
    "id": "1HJgQ6z2U2eI"
   },
   "source": [
    "## Index alignment"
   ]
  },
  {
   "cell_type": "code",
   "execution_count": 14,
   "metadata": {
    "colab": {
     "base_uri": "https://localhost:8080/",
     "height": 119
    },
    "colab_type": "code",
    "executionInfo": {
     "elapsed": 1095,
     "status": "ok",
     "timestamp": 1566296141341,
     "user": {
      "displayName": "Ai Adventures",
      "photoUrl": "https://lh3.googleusercontent.com/-OQdAjp2vMZo/AAAAAAAAAAI/AAAAAAAAAA8/8FVq41kVT5s/s64/photo.jpg",
      "userId": "14635366068755244481"
     },
     "user_tz": -330
    },
    "id": "QLgl3f4UU2eJ",
    "outputId": "c69329ec-70ef-4dc1-a235-ab44e0aaaad1"
   },
   "outputs": [
    {
     "data": {
      "text/plain": [
       "0    False\n",
       "1    False\n",
       "2     True\n",
       "3     True\n",
       "4     True\n",
       "dtype: bool"
      ]
     },
     "execution_count": 14,
     "metadata": {},
     "output_type": "execute_result"
    }
   ],
   "source": [
    "s = pd.Series([False, False, True, True, True])\n",
    "s"
   ]
  },
  {
   "cell_type": "code",
   "execution_count": 15,
   "metadata": {
    "colab": {
     "base_uri": "https://localhost:8080/",
     "height": 289
    },
    "colab_type": "code",
    "executionInfo": {
     "elapsed": 792,
     "status": "ok",
     "timestamp": 1566296142879,
     "user": {
      "displayName": "Ai Adventures",
      "photoUrl": "https://lh3.googleusercontent.com/-OQdAjp2vMZo/AAAAAAAAAAI/AAAAAAAAAA8/8FVq41kVT5s/s64/photo.jpg",
      "userId": "14635366068755244481"
     },
     "user_tz": -330
    },
    "id": "xSPWFvYFU2eQ",
    "outputId": "b3c9ec36-b95c-4b33-90d6-9261634beb0f",
    "scrolled": true
   },
   "outputs": [
    {
     "data": {
      "text/html": [
       "<div>\n",
       "<style scoped>\n",
       "    .dataframe tbody tr th:only-of-type {\n",
       "        vertical-align: middle;\n",
       "    }\n",
       "\n",
       "    .dataframe tbody tr th {\n",
       "        vertical-align: top;\n",
       "    }\n",
       "\n",
       "    .dataframe thead th {\n",
       "        text-align: right;\n",
       "    }\n",
       "</style>\n",
       "<table border=\"1\" class=\"dataframe\">\n",
       "  <thead>\n",
       "    <tr style=\"text-align: right;\">\n",
       "      <th></th>\n",
       "      <th>id</th>\n",
       "      <th>creationdate</th>\n",
       "      <th>score</th>\n",
       "      <th>viewcount</th>\n",
       "      <th>title</th>\n",
       "      <th>answercount</th>\n",
       "      <th>commentcount</th>\n",
       "      <th>favoritecount</th>\n",
       "      <th>quest_name</th>\n",
       "      <th>quest_rep</th>\n",
       "      <th>ans_name</th>\n",
       "      <th>ans_rep</th>\n",
       "    </tr>\n",
       "  </thead>\n",
       "  <tbody>\n",
       "    <tr>\n",
       "      <th>0</th>\n",
       "      <td>5486226</td>\n",
       "      <td>2011-03-30 12:26:50</td>\n",
       "      <td>4</td>\n",
       "      <td>2113</td>\n",
       "      <td>Rolling median in python</td>\n",
       "      <td>3</td>\n",
       "      <td>4</td>\n",
       "      <td>1.0</td>\n",
       "      <td>yueerhu</td>\n",
       "      <td>125.0</td>\n",
       "      <td>Mike Pennington</td>\n",
       "      <td>26995.0</td>\n",
       "    </tr>\n",
       "    <tr>\n",
       "      <th>1</th>\n",
       "      <td>5515021</td>\n",
       "      <td>2011-04-01 14:50:44</td>\n",
       "      <td>8</td>\n",
       "      <td>7015</td>\n",
       "      <td>Compute a compounded return series in Python</td>\n",
       "      <td>3</td>\n",
       "      <td>6</td>\n",
       "      <td>7.0</td>\n",
       "      <td>Jason Strimpel</td>\n",
       "      <td>3301.0</td>\n",
       "      <td>Mike Pennington</td>\n",
       "      <td>26995.0</td>\n",
       "    </tr>\n",
       "    <tr>\n",
       "      <th>2</th>\n",
       "      <td>5558607</td>\n",
       "      <td>2011-04-05 21:13:50</td>\n",
       "      <td>2</td>\n",
       "      <td>7392</td>\n",
       "      <td>Sort a pandas DataMatrix in ascending order</td>\n",
       "      <td>2</td>\n",
       "      <td>0</td>\n",
       "      <td>1.0</td>\n",
       "      <td>Jason Strimpel</td>\n",
       "      <td>3301.0</td>\n",
       "      <td>Wes McKinney</td>\n",
       "      <td>43310.0</td>\n",
       "    </tr>\n",
       "    <tr>\n",
       "      <th>3</th>\n",
       "      <td>6467832</td>\n",
       "      <td>2011-06-24 12:31:45</td>\n",
       "      <td>9</td>\n",
       "      <td>13056</td>\n",
       "      <td>How to get the correlation between two timeser...</td>\n",
       "      <td>1</td>\n",
       "      <td>0</td>\n",
       "      <td>7.0</td>\n",
       "      <td>user814005</td>\n",
       "      <td>117.0</td>\n",
       "      <td>Wes McKinney</td>\n",
       "      <td>43310.0</td>\n",
       "    </tr>\n",
       "    <tr>\n",
       "      <th>4</th>\n",
       "      <td>7577546</td>\n",
       "      <td>2011-09-28 01:58:38</td>\n",
       "      <td>9</td>\n",
       "      <td>2488</td>\n",
       "      <td>Using pandas, how do I subsample a large DataF...</td>\n",
       "      <td>1</td>\n",
       "      <td>0</td>\n",
       "      <td>5.0</td>\n",
       "      <td>Uri Laserson</td>\n",
       "      <td>958.0</td>\n",
       "      <td>HYRY</td>\n",
       "      <td>54137.0</td>\n",
       "    </tr>\n",
       "  </tbody>\n",
       "</table>\n",
       "</div>"
      ],
      "text/plain": [
       "        id         creationdate  score  viewcount  \\\n",
       "0  5486226  2011-03-30 12:26:50      4       2113   \n",
       "1  5515021  2011-04-01 14:50:44      8       7015   \n",
       "2  5558607  2011-04-05 21:13:50      2       7392   \n",
       "3  6467832  2011-06-24 12:31:45      9      13056   \n",
       "4  7577546  2011-09-28 01:58:38      9       2488   \n",
       "\n",
       "                                               title  answercount  \\\n",
       "0                           Rolling median in python            3   \n",
       "1       Compute a compounded return series in Python            3   \n",
       "2        Sort a pandas DataMatrix in ascending order            2   \n",
       "3  How to get the correlation between two timeser...            1   \n",
       "4  Using pandas, how do I subsample a large DataF...            1   \n",
       "\n",
       "   commentcount  favoritecount      quest_name  quest_rep         ans_name  \\\n",
       "0             4            1.0         yueerhu      125.0  Mike Pennington   \n",
       "1             6            7.0  Jason Strimpel     3301.0  Mike Pennington   \n",
       "2             0            1.0  Jason Strimpel     3301.0     Wes McKinney   \n",
       "3             0            7.0      user814005      117.0     Wes McKinney   \n",
       "4             0            5.0    Uri Laserson      958.0             HYRY   \n",
       "\n",
       "   ans_rep  \n",
       "0  26995.0  \n",
       "1  26995.0  \n",
       "2  43310.0  \n",
       "3  43310.0  \n",
       "4  54137.0  "
      ]
     },
     "execution_count": 15,
     "metadata": {},
     "output_type": "execute_result"
    }
   ],
   "source": [
    "so_head"
   ]
  },
  {
   "cell_type": "code",
   "execution_count": 16,
   "metadata": {
    "colab": {
     "base_uri": "https://localhost:8080/",
     "height": 193
    },
    "colab_type": "code",
    "executionInfo": {
     "elapsed": 1140,
     "status": "ok",
     "timestamp": 1566296144499,
     "user": {
      "displayName": "Ai Adventures",
      "photoUrl": "https://lh3.googleusercontent.com/-OQdAjp2vMZo/AAAAAAAAAAI/AAAAAAAAAA8/8FVq41kVT5s/s64/photo.jpg",
      "userId": "14635366068755244481"
     },
     "user_tz": -330
    },
    "id": "45rxYapCU2eV",
    "outputId": "483e3dbd-adb7-44e7-81aa-23d592254796"
   },
   "outputs": [
    {
     "data": {
      "text/html": [
       "<div>\n",
       "<style scoped>\n",
       "    .dataframe tbody tr th:only-of-type {\n",
       "        vertical-align: middle;\n",
       "    }\n",
       "\n",
       "    .dataframe tbody tr th {\n",
       "        vertical-align: top;\n",
       "    }\n",
       "\n",
       "    .dataframe thead th {\n",
       "        text-align: right;\n",
       "    }\n",
       "</style>\n",
       "<table border=\"1\" class=\"dataframe\">\n",
       "  <thead>\n",
       "    <tr style=\"text-align: right;\">\n",
       "      <th></th>\n",
       "      <th>id</th>\n",
       "      <th>creationdate</th>\n",
       "      <th>score</th>\n",
       "      <th>viewcount</th>\n",
       "      <th>title</th>\n",
       "      <th>answercount</th>\n",
       "      <th>commentcount</th>\n",
       "      <th>favoritecount</th>\n",
       "      <th>quest_name</th>\n",
       "      <th>quest_rep</th>\n",
       "      <th>ans_name</th>\n",
       "      <th>ans_rep</th>\n",
       "    </tr>\n",
       "  </thead>\n",
       "  <tbody>\n",
       "    <tr>\n",
       "      <th>2</th>\n",
       "      <td>5558607</td>\n",
       "      <td>2011-04-05 21:13:50</td>\n",
       "      <td>2</td>\n",
       "      <td>7392</td>\n",
       "      <td>Sort a pandas DataMatrix in ascending order</td>\n",
       "      <td>2</td>\n",
       "      <td>0</td>\n",
       "      <td>1.0</td>\n",
       "      <td>Jason Strimpel</td>\n",
       "      <td>3301.0</td>\n",
       "      <td>Wes McKinney</td>\n",
       "      <td>43310.0</td>\n",
       "    </tr>\n",
       "    <tr>\n",
       "      <th>3</th>\n",
       "      <td>6467832</td>\n",
       "      <td>2011-06-24 12:31:45</td>\n",
       "      <td>9</td>\n",
       "      <td>13056</td>\n",
       "      <td>How to get the correlation between two timeser...</td>\n",
       "      <td>1</td>\n",
       "      <td>0</td>\n",
       "      <td>7.0</td>\n",
       "      <td>user814005</td>\n",
       "      <td>117.0</td>\n",
       "      <td>Wes McKinney</td>\n",
       "      <td>43310.0</td>\n",
       "    </tr>\n",
       "    <tr>\n",
       "      <th>4</th>\n",
       "      <td>7577546</td>\n",
       "      <td>2011-09-28 01:58:38</td>\n",
       "      <td>9</td>\n",
       "      <td>2488</td>\n",
       "      <td>Using pandas, how do I subsample a large DataF...</td>\n",
       "      <td>1</td>\n",
       "      <td>0</td>\n",
       "      <td>5.0</td>\n",
       "      <td>Uri Laserson</td>\n",
       "      <td>958.0</td>\n",
       "      <td>HYRY</td>\n",
       "      <td>54137.0</td>\n",
       "    </tr>\n",
       "  </tbody>\n",
       "</table>\n",
       "</div>"
      ],
      "text/plain": [
       "        id         creationdate  score  viewcount  \\\n",
       "2  5558607  2011-04-05 21:13:50      2       7392   \n",
       "3  6467832  2011-06-24 12:31:45      9      13056   \n",
       "4  7577546  2011-09-28 01:58:38      9       2488   \n",
       "\n",
       "                                               title  answercount  \\\n",
       "2        Sort a pandas DataMatrix in ascending order            2   \n",
       "3  How to get the correlation between two timeser...            1   \n",
       "4  Using pandas, how do I subsample a large DataF...            1   \n",
       "\n",
       "   commentcount  favoritecount      quest_name  quest_rep      ans_name  \\\n",
       "2             0            1.0  Jason Strimpel     3301.0  Wes McKinney   \n",
       "3             0            7.0      user814005      117.0  Wes McKinney   \n",
       "4             0            5.0    Uri Laserson      958.0          HYRY   \n",
       "\n",
       "   ans_rep  \n",
       "2  43310.0  \n",
       "3  43310.0  \n",
       "4  54137.0  "
      ]
     },
     "execution_count": 16,
     "metadata": {},
     "output_type": "execute_result"
    }
   ],
   "source": [
    "so_head[s]"
   ]
  },
  {
   "cell_type": "markdown",
   "metadata": {
    "colab_type": "text",
    "id": "cxvhkTbXU2eY"
   },
   "source": [
    "### Manual created series\n",
    "\n",
    "The above example only worked because the index of both the boolean Series and **so_head** were the exact same. Let's output them so you can clearly see this."
   ]
  },
  {
   "cell_type": "code",
   "execution_count": 17,
   "metadata": {
    "colab": {
     "base_uri": "https://localhost:8080/",
     "height": 34
    },
    "colab_type": "code",
    "executionInfo": {
     "elapsed": 1025,
     "status": "ok",
     "timestamp": 1566296146386,
     "user": {
      "displayName": "Ai Adventures",
      "photoUrl": "https://lh3.googleusercontent.com/-OQdAjp2vMZo/AAAAAAAAAAI/AAAAAAAAAA8/8FVq41kVT5s/s64/photo.jpg",
      "userId": "14635366068755244481"
     },
     "user_tz": -330
    },
    "id": "cHbz9AutU2eZ",
    "outputId": "92b20863-f73b-4b6a-9a91-df9ee7d64290"
   },
   "outputs": [
    {
     "data": {
      "text/plain": [
       "RangeIndex(start=0, stop=5, step=1)"
      ]
     },
     "execution_count": 17,
     "metadata": {},
     "output_type": "execute_result"
    }
   ],
   "source": [
    "s.index"
   ]
  },
  {
   "cell_type": "code",
   "execution_count": 18,
   "metadata": {
    "colab": {
     "base_uri": "https://localhost:8080/",
     "height": 34
    },
    "colab_type": "code",
    "executionInfo": {
     "elapsed": 1030,
     "status": "ok",
     "timestamp": 1566296146840,
     "user": {
      "displayName": "Ai Adventures",
      "photoUrl": "https://lh3.googleusercontent.com/-OQdAjp2vMZo/AAAAAAAAAAI/AAAAAAAAAA8/8FVq41kVT5s/s64/photo.jpg",
      "userId": "14635366068755244481"
     },
     "user_tz": -330
    },
    "id": "g5lGmV2IU2ec",
    "outputId": "0b1bd0f9-cacb-436a-d1c6-68e6e22deca0"
   },
   "outputs": [
    {
     "data": {
      "text/plain": [
       "RangeIndex(start=0, stop=5, step=1)"
      ]
     },
     "execution_count": 18,
     "metadata": {},
     "output_type": "execute_result"
    }
   ],
   "source": [
    "so_head.index"
   ]
  },
  {
   "cell_type": "markdown",
   "metadata": {
    "colab_type": "text",
    "id": "gQXUcKmNU2eg"
   },
   "source": [
    "### Case of index alignment\n",
    "\n",
    "Boolean selection fails when the index doesn't align. When you are using a boolean Series to do boolean selection, the index of both objects must be the exact same. Let's create a slightly different Series with a different index than the DataFrame it is indexing on."
   ]
  },
  {
   "cell_type": "code",
   "execution_count": 19,
   "metadata": {
    "colab": {
     "base_uri": "https://localhost:8080/",
     "height": 34
    },
    "colab_type": "code",
    "executionInfo": {
     "elapsed": 1274,
     "status": "ok",
     "timestamp": 1566296147957,
     "user": {
      "displayName": "Ai Adventures",
      "photoUrl": "https://lh3.googleusercontent.com/-OQdAjp2vMZo/AAAAAAAAAAI/AAAAAAAAAA8/8FVq41kVT5s/s64/photo.jpg",
      "userId": "14635366068755244481"
     },
     "user_tz": -330
    },
    "id": "43TGpANWU2eh",
    "outputId": "6027e0fa-3372-43c6-a29c-250e6733cd50"
   },
   "outputs": [
    {
     "data": {
      "text/plain": [
       "RangeIndex(start=0, stop=5, step=1)"
      ]
     },
     "execution_count": 19,
     "metadata": {},
     "output_type": "execute_result"
    }
   ],
   "source": [
    "s.index"
   ]
  },
  {
   "cell_type": "code",
   "execution_count": 20,
   "metadata": {
    "colab": {},
    "colab_type": "code",
    "id": "YrqjbQT3U2ek"
   },
   "outputs": [],
   "source": [
    "so_head.set_index('id', inplace=True)"
   ]
  },
  {
   "cell_type": "code",
   "execution_count": 21,
   "metadata": {
    "colab": {
     "base_uri": "https://localhost:8080/",
     "height": 341
    },
    "colab_type": "code",
    "executionInfo": {
     "elapsed": 951,
     "status": "error",
     "timestamp": 1566296149019,
     "user": {
      "displayName": "Ai Adventures",
      "photoUrl": "https://lh3.googleusercontent.com/-OQdAjp2vMZo/AAAAAAAAAAI/AAAAAAAAAA8/8FVq41kVT5s/s64/photo.jpg",
      "userId": "14635366068755244481"
     },
     "user_tz": -330
    },
    "id": "mrQeywz_U2es",
    "outputId": "c34feb27-caa8-4856-a70f-0fdd2560e0a4"
   },
   "outputs": [
    {
     "name": "stderr",
     "output_type": "stream",
     "text": [
      "C:\\Users\\prath\\AppData\\Local\\Temp\\ipykernel_45916\\1656890968.py:1: UserWarning: Boolean Series key will be reindexed to match DataFrame index.\n",
      "  so_head[s]\n"
     ]
    },
    {
     "ename": "IndexingError",
     "evalue": "Unalignable boolean Series provided as indexer (index of the boolean Series and of the indexed object do not match).",
     "output_type": "error",
     "traceback": [
      "\u001b[1;31m---------------------------------------------------------------------------\u001b[0m",
      "\u001b[1;31mIndexingError\u001b[0m                             Traceback (most recent call last)",
      "\u001b[1;32m~\\AppData\\Local\\Temp\\ipykernel_45916\\1656890968.py\u001b[0m in \u001b[0;36m<module>\u001b[1;34m\u001b[0m\n\u001b[1;32m----> 1\u001b[1;33m \u001b[0mso_head\u001b[0m\u001b[1;33m[\u001b[0m\u001b[0ms\u001b[0m\u001b[1;33m]\u001b[0m\u001b[1;33m\u001b[0m\u001b[1;33m\u001b[0m\u001b[0m\n\u001b[0m",
      "\u001b[1;32m~\\anaconda3\\lib\\site-packages\\pandas\\core\\frame.py\u001b[0m in \u001b[0;36m__getitem__\u001b[1;34m(self, key)\u001b[0m\n\u001b[0;32m   3494\u001b[0m         \u001b[1;31m# Do we have a (boolean) 1d indexer?\u001b[0m\u001b[1;33m\u001b[0m\u001b[1;33m\u001b[0m\u001b[0m\n\u001b[0;32m   3495\u001b[0m         \u001b[1;32mif\u001b[0m \u001b[0mcom\u001b[0m\u001b[1;33m.\u001b[0m\u001b[0mis_bool_indexer\u001b[0m\u001b[1;33m(\u001b[0m\u001b[0mkey\u001b[0m\u001b[1;33m)\u001b[0m\u001b[1;33m:\u001b[0m\u001b[1;33m\u001b[0m\u001b[1;33m\u001b[0m\u001b[0m\n\u001b[1;32m-> 3496\u001b[1;33m             \u001b[1;32mreturn\u001b[0m \u001b[0mself\u001b[0m\u001b[1;33m.\u001b[0m\u001b[0m_getitem_bool_array\u001b[0m\u001b[1;33m(\u001b[0m\u001b[0mkey\u001b[0m\u001b[1;33m)\u001b[0m\u001b[1;33m\u001b[0m\u001b[1;33m\u001b[0m\u001b[0m\n\u001b[0m\u001b[0;32m   3497\u001b[0m \u001b[1;33m\u001b[0m\u001b[0m\n\u001b[0;32m   3498\u001b[0m         \u001b[1;31m# We are left with two options: a single key, and a collection of keys,\u001b[0m\u001b[1;33m\u001b[0m\u001b[1;33m\u001b[0m\u001b[0m\n",
      "\u001b[1;32m~\\anaconda3\\lib\\site-packages\\pandas\\core\\frame.py\u001b[0m in \u001b[0;36m_getitem_bool_array\u001b[1;34m(self, key)\u001b[0m\n\u001b[0;32m   3547\u001b[0m         \u001b[1;31m# check_bool_indexer will throw exception if Series key cannot\u001b[0m\u001b[1;33m\u001b[0m\u001b[1;33m\u001b[0m\u001b[0m\n\u001b[0;32m   3548\u001b[0m         \u001b[1;31m# be reindexed to match DataFrame rows\u001b[0m\u001b[1;33m\u001b[0m\u001b[1;33m\u001b[0m\u001b[0m\n\u001b[1;32m-> 3549\u001b[1;33m         \u001b[0mkey\u001b[0m \u001b[1;33m=\u001b[0m \u001b[0mcheck_bool_indexer\u001b[0m\u001b[1;33m(\u001b[0m\u001b[0mself\u001b[0m\u001b[1;33m.\u001b[0m\u001b[0mindex\u001b[0m\u001b[1;33m,\u001b[0m \u001b[0mkey\u001b[0m\u001b[1;33m)\u001b[0m\u001b[1;33m\u001b[0m\u001b[1;33m\u001b[0m\u001b[0m\n\u001b[0m\u001b[0;32m   3550\u001b[0m         \u001b[0mindexer\u001b[0m \u001b[1;33m=\u001b[0m \u001b[0mkey\u001b[0m\u001b[1;33m.\u001b[0m\u001b[0mnonzero\u001b[0m\u001b[1;33m(\u001b[0m\u001b[1;33m)\u001b[0m\u001b[1;33m[\u001b[0m\u001b[1;36m0\u001b[0m\u001b[1;33m]\u001b[0m\u001b[1;33m\u001b[0m\u001b[1;33m\u001b[0m\u001b[0m\n\u001b[0;32m   3551\u001b[0m         \u001b[1;32mreturn\u001b[0m \u001b[0mself\u001b[0m\u001b[1;33m.\u001b[0m\u001b[0m_take_with_is_copy\u001b[0m\u001b[1;33m(\u001b[0m\u001b[0mindexer\u001b[0m\u001b[1;33m,\u001b[0m \u001b[0maxis\u001b[0m\u001b[1;33m=\u001b[0m\u001b[1;36m0\u001b[0m\u001b[1;33m)\u001b[0m\u001b[1;33m\u001b[0m\u001b[1;33m\u001b[0m\u001b[0m\n",
      "\u001b[1;32m~\\anaconda3\\lib\\site-packages\\pandas\\core\\indexing.py\u001b[0m in \u001b[0;36mcheck_bool_indexer\u001b[1;34m(index, key)\u001b[0m\n\u001b[0;32m   2386\u001b[0m         \u001b[0mmask\u001b[0m \u001b[1;33m=\u001b[0m \u001b[0misna\u001b[0m\u001b[1;33m(\u001b[0m\u001b[0mresult\u001b[0m\u001b[1;33m.\u001b[0m\u001b[0m_values\u001b[0m\u001b[1;33m)\u001b[0m\u001b[1;33m\u001b[0m\u001b[1;33m\u001b[0m\u001b[0m\n\u001b[0;32m   2387\u001b[0m         \u001b[1;32mif\u001b[0m \u001b[0mmask\u001b[0m\u001b[1;33m.\u001b[0m\u001b[0many\u001b[0m\u001b[1;33m(\u001b[0m\u001b[1;33m)\u001b[0m\u001b[1;33m:\u001b[0m\u001b[1;33m\u001b[0m\u001b[1;33m\u001b[0m\u001b[0m\n\u001b[1;32m-> 2388\u001b[1;33m             raise IndexingError(\n\u001b[0m\u001b[0;32m   2389\u001b[0m                 \u001b[1;34m\"Unalignable boolean Series provided as \"\u001b[0m\u001b[1;33m\u001b[0m\u001b[1;33m\u001b[0m\u001b[0m\n\u001b[0;32m   2390\u001b[0m                 \u001b[1;34m\"indexer (index of the boolean Series and of \"\u001b[0m\u001b[1;33m\u001b[0m\u001b[1;33m\u001b[0m\u001b[0m\n",
      "\u001b[1;31mIndexingError\u001b[0m: Unalignable boolean Series provided as indexer (index of the boolean Series and of the indexed object do not match)."
     ]
    }
   ],
   "source": [
    "so_head[s]"
   ]
  },
  {
   "cell_type": "markdown",
   "metadata": {
    "colab_type": "text",
    "id": "-b0fTuLKU2ev"
   },
   "source": [
    "***IndexingError*: Unalignable boolean Series!**\n",
    "\n",
    "If the index of both the boolean Series and the object you are doing boolean selection on don't match exactly, you will get the above error. This is one reason, as you will below, why you will almost never create boolean Series by hand like this."
   ]
  },
  {
   "cell_type": "markdown",
   "metadata": {
    "colab_type": "text",
    "id": "GLmgifuYU2ew"
   },
   "source": [
    "```{note} \n",
    "\n",
    "Never creating boolean Series by hand.\n",
    "You will likely never create a boolean Series by hand as was done above. Instead, you will produce them based on the values of your data.\n",
    "```"
   ]
  },
  {
   "cell_type": "markdown",
   "metadata": {
    "colab_type": "text",
    "id": "GLmgifuYU2ew"
   },
   "source": [
    "## Using comparison operators\n",
    "\n",
    "The primary method of creating a Series of booleans is to use one of the six comparison operators: \n",
    "- **`<`**\n",
    "- **`<=`**\n",
    "- **`>`**\n",
    "- **`>=`**\n",
    "- **`==`**\n",
    "- **`!=`** \n",
    "\n",
    "### With a single column\n",
    "\n",
    "You will almost always use the comparison operators on just a single column or Series of data. For instance, let's create a boolean Series from the **score** column. Let's determine if the score is at least 10.\n",
    "\n",
    "We select the score column and then test the condition that each value is greater than or equal to 10. Notice that this operations gets applied to each value in the Series. A boolean Series is returned."
   ]
  },
  {
   "cell_type": "code",
   "execution_count": null,
   "metadata": {
    "colab": {
     "base_uri": "https://localhost:8080/",
     "height": 1000
    },
    "colab_type": "code",
    "executionInfo": {
     "elapsed": 1655,
     "status": "ok",
     "timestamp": 1566296152332,
     "user": {
      "displayName": "Ai Adventures",
      "photoUrl": "https://lh3.googleusercontent.com/-OQdAjp2vMZo/AAAAAAAAAAI/AAAAAAAAAA8/8FVq41kVT5s/s64/photo.jpg",
      "userId": "14635366068755244481"
     },
     "user_tz": -330
    },
    "id": "-_6EWEXKU2ex",
    "outputId": "b3989f9d-e1c7-4326-83b9-43c04e308d98"
   },
   "outputs": [],
   "source": [
    "so.loc[:, 'score'] > 10"
   ]
  },
  {
   "cell_type": "code",
   "execution_count": null,
   "metadata": {
    "colab": {
     "base_uri": "https://localhost:8080/",
     "height": 204
    },
    "colab_type": "code",
    "executionInfo": {
     "elapsed": 1074,
     "status": "ok",
     "timestamp": 1566296152338,
     "user": {
      "displayName": "Ai Adventures",
      "photoUrl": "https://lh3.googleusercontent.com/-OQdAjp2vMZo/AAAAAAAAAAI/AAAAAAAAAA8/8FVq41kVT5s/s64/photo.jpg",
      "userId": "14635366068755244481"
     },
     "user_tz": -330
    },
    "id": "ifVGELlaU2e1",
    "outputId": "a1601842-59c5-4ca4-de62-2b7433ebf6f5"
   },
   "outputs": [],
   "source": [
    "criteria = so['score'] >= 10\n",
    "criteria.head(10)"
   ]
  },
  {
   "cell_type": "markdown",
   "metadata": {
    "colab_type": "text",
    "id": "XIT0nryGU2e4"
   },
   "source": [
    "### Usage of boolean selection\n",
    "\n",
    "Now that we have our boolean Series stored in the variable **criteria**, we can pass this to `[ ]` to select only the rows that have a score of at least 10. \n",
    "\n",
    "We are going to use the entire **so** DataFrame for the rest of the tutorial."
   ]
  },
  {
   "cell_type": "code",
   "execution_count": null,
   "metadata": {
    "colab": {
     "base_uri": "https://localhost:8080/",
     "height": 1000
    },
    "colab_type": "code",
    "executionInfo": {
     "elapsed": 793,
     "status": "ok",
     "timestamp": 1566296153002,
     "user": {
      "displayName": "Ai Adventures",
      "photoUrl": "https://lh3.googleusercontent.com/-OQdAjp2vMZo/AAAAAAAAAAI/AAAAAAAAAA8/8FVq41kVT5s/s64/photo.jpg",
      "userId": "14635366068755244481"
     },
     "user_tz": -330
    },
    "id": "g-JtoxHGU2e5",
    "outputId": "b855f6a6-e59a-4dc0-fb9e-2741e72cad55"
   },
   "outputs": [],
   "source": [
    "so.loc[criteria].head()"
   ]
  },
  {
   "cell_type": "code",
   "execution_count": null,
   "metadata": {
    "colab": {
     "base_uri": "https://localhost:8080/",
     "height": 289
    },
    "colab_type": "code",
    "executionInfo": {
     "elapsed": 828,
     "status": "ok",
     "timestamp": 1566296153484,
     "user": {
      "displayName": "Ai Adventures",
      "photoUrl": "https://lh3.googleusercontent.com/-OQdAjp2vMZo/AAAAAAAAAAI/AAAAAAAAAA8/8FVq41kVT5s/s64/photo.jpg",
      "userId": "14635366068755244481"
     },
     "user_tz": -330
    },
    "id": "f725Iuq5U2e_",
    "outputId": "4f906c7a-2f5e-4546-869d-11c1abed2c37"
   },
   "outputs": [],
   "source": [
    "so_score_10_or_more = so.loc[criteria]\n",
    "so_score_10_or_more.head()"
   ]
  },
  {
   "cell_type": "markdown",
   "metadata": {
    "colab_type": "text",
    "id": "oGOsrtnAU2fD"
   },
   "source": [
    "### Boolean selection in one line\n",
    "\n",
    "It is possible to put the creation of the boolean Series inside of `[ ]` like this."
   ]
  },
  {
   "cell_type": "code",
   "execution_count": null,
   "metadata": {
    "colab": {
     "base_uri": "https://localhost:8080/",
     "height": 289
    },
    "colab_type": "code",
    "executionInfo": {
     "elapsed": 1752,
     "status": "ok",
     "timestamp": 1566296155749,
     "user": {
      "displayName": "Ai Adventures",
      "photoUrl": "https://lh3.googleusercontent.com/-OQdAjp2vMZo/AAAAAAAAAAI/AAAAAAAAAA8/8FVq41kVT5s/s64/photo.jpg",
      "userId": "14635366068755244481"
     },
     "user_tz": -330
    },
    "id": "h-PqKe7JU2fD",
    "outputId": "3a715e85-444f-4490-9708-532c8f520a85"
   },
   "outputs": [],
   "source": [
    "so[so['score'] >= 10].head()"
   ]
  },
  {
   "cell_type": "markdown",
   "metadata": {
    "colab_type": "text",
    "id": "sKuRIpiEU2fF"
   },
   "source": [
    "### Single condition expression"
   ]
  },
  {
   "cell_type": "code",
   "execution_count": null,
   "metadata": {
    "colab": {
     "base_uri": "https://localhost:8080/",
     "height": 289
    },
    "colab_type": "code",
    "executionInfo": {
     "elapsed": 949,
     "status": "ok",
     "timestamp": 1566296158223,
     "user": {
      "displayName": "Ai Adventures",
      "photoUrl": "https://lh3.googleusercontent.com/-OQdAjp2vMZo/AAAAAAAAAAI/AAAAAAAAAA8/8FVq41kVT5s/s64/photo.jpg",
      "userId": "14635366068755244481"
     },
     "user_tz": -330
    },
    "id": "3j4Za1-PU2fG",
    "outputId": "38967ef3-9f57-4c77-94cc-f5c92fe95abd"
   },
   "outputs": [],
   "source": [
    "# step 1 - create boolean Series\n",
    "criteria = so['ans_name'] == 'Scott Boston'\n",
    "# step 2 - do boolean selection\n",
    "so[criteria].head()"
   ]
  },
  {
   "cell_type": "markdown",
   "metadata": {
    "colab_type": "text",
    "id": "JabXLaIkU2fK"
   },
   "source": [
    "### Multiple condition expression\n",
    "\n",
    "**Use `&`, `|`, `~`**\n",
    "\n",
    "Although Python uses the syntax `and`, `or`, and `not`, these will not work when testing multiple conditions with pandas.\n",
    "\n",
    "You must use the following operators with pandas:\n",
    "- `&` for **and**\n",
    "- `|` for **or**\n",
    "- `~` for **not**"
   ]
  },
  {
   "cell_type": "code",
   "execution_count": null,
   "metadata": {
    "colab": {
     "base_uri": "https://localhost:8080/",
     "height": 119
    },
    "colab_type": "code",
    "executionInfo": {
     "elapsed": 917,
     "status": "ok",
     "timestamp": 1566296160405,
     "user": {
      "displayName": "Ai Adventures",
      "photoUrl": "https://lh3.googleusercontent.com/-OQdAjp2vMZo/AAAAAAAAAAI/AAAAAAAAAA8/8FVq41kVT5s/s64/photo.jpg",
      "userId": "14635366068755244481"
     },
     "user_tz": -330
    },
    "id": "znBoTMn8U2fO",
    "outputId": "2dc66f4a-0c35-4770-944f-c62590dc245c"
   },
   "outputs": [],
   "source": [
    "so.tail()['score'] > 5"
   ]
  },
  {
   "cell_type": "code",
   "execution_count": null,
   "metadata": {
    "colab": {
     "base_uri": "https://localhost:8080/",
     "height": 119
    },
    "colab_type": "code",
    "executionInfo": {
     "elapsed": 675,
     "status": "ok",
     "timestamp": 1566296163826,
     "user": {
      "displayName": "Ai Adventures",
      "photoUrl": "https://lh3.googleusercontent.com/-OQdAjp2vMZo/AAAAAAAAAAI/AAAAAAAAAA8/8FVq41kVT5s/s64/photo.jpg",
      "userId": "14635366068755244481"
     },
     "user_tz": -330
    },
    "id": "0DJMqO6kU2fe",
    "outputId": "91715ee3-e3bf-40da-b792-4945c12dc28c"
   },
   "outputs": [],
   "source": [
    "score_5 = so.tail()['score']>5 \n",
    "score_5"
   ]
  },
  {
   "cell_type": "code",
   "execution_count": null,
   "metadata": {
    "colab": {
     "base_uri": "https://localhost:8080/",
     "height": 119
    },
    "colab_type": "code",
    "executionInfo": {
     "elapsed": 685,
     "status": "ok",
     "timestamp": 1566296165321,
     "user": {
      "displayName": "Ai Adventures",
      "photoUrl": "https://lh3.googleusercontent.com/-OQdAjp2vMZo/AAAAAAAAAAI/AAAAAAAAAA8/8FVq41kVT5s/s64/photo.jpg",
      "userId": "14635366068755244481"
     },
     "user_tz": -330
    },
    "id": "PQdw3DYRU2fi",
    "outputId": "72f60dde-7007-4f04-fb0f-52925bea6f9f"
   },
   "outputs": [],
   "source": [
    "(so.tail()['score']>5)  & (so.tail()['score']<8)"
   ]
  },
  {
   "cell_type": "code",
   "execution_count": null,
   "metadata": {
    "colab": {},
    "colab_type": "code",
    "id": "_eoKZnCRU2fl"
   },
   "outputs": [],
   "source": [
    "criteria_1 = so['score'] >= 5\n",
    "criteria_2 = so['ans_name'] == 'Scott Boston'"
   ]
  },
  {
   "cell_type": "markdown",
   "metadata": {
    "colab_type": "text",
    "id": "tSRoIJ8bU2fo"
   },
   "source": [
    "We will then use the **`and`** operator, the ampersand **`&`**, to combine them"
   ]
  },
  {
   "cell_type": "code",
   "execution_count": null,
   "metadata": {
    "colab": {},
    "colab_type": "code",
    "id": "n3av7ybiU2fp"
   },
   "outputs": [],
   "source": [
    "criteria_all = criteria_1 & criteria_2"
   ]
  },
  {
   "cell_type": "markdown",
   "metadata": {
    "colab_type": "text",
    "id": "OoREEYfQU2fw"
   },
   "source": [
    "We can now pass this final criteria to [ ]"
   ]
  },
  {
   "cell_type": "code",
   "execution_count": null,
   "metadata": {
    "colab": {
     "base_uri": "https://localhost:8080/",
     "height": 289
    },
    "colab_type": "code",
    "executionInfo": {
     "elapsed": 1002,
     "status": "ok",
     "timestamp": 1566296170493,
     "user": {
      "displayName": "Ai Adventures",
      "photoUrl": "https://lh3.googleusercontent.com/-OQdAjp2vMZo/AAAAAAAAAAI/AAAAAAAAAA8/8FVq41kVT5s/s64/photo.jpg",
      "userId": "14635366068755244481"
     },
     "user_tz": -330
    },
    "id": "ZimFQG9QU2fx",
    "outputId": "51cc9964-7207-43db-c592-74f58d4e829f"
   },
   "outputs": [],
   "source": [
    "so[criteria_all].head()"
   ]
  },
  {
   "cell_type": "markdown",
   "metadata": {
    "colab_type": "text",
    "id": "DOpy4ZGvU2f5"
   },
   "source": [
    "### Multiple conditions in one line\n",
    "\n",
    "**Use parentheses to separate conditions**\n",
    "\n",
    "Each condition will be separated like this:\n",
    "```{code-block}Python\n",
    "(so['score'] >= 5) & (so['ans_name'] == 'Scott Boston')\n",
    "```\n",
    "\n",
    "We can then drop this expression inside of `[ ]`"
   ]
  },
  {
   "cell_type": "code",
   "execution_count": null,
   "metadata": {
    "colab": {
     "base_uri": "https://localhost:8080/",
     "height": 289
    },
    "colab_type": "code",
    "executionInfo": {
     "elapsed": 1014,
     "status": "ok",
     "timestamp": 1566296176606,
     "user": {
      "displayName": "Ai Adventures",
      "photoUrl": "https://lh3.googleusercontent.com/-OQdAjp2vMZo/AAAAAAAAAAI/AAAAAAAAAA8/8FVq41kVT5s/s64/photo.jpg",
      "userId": "14635366068755244481"
     },
     "user_tz": -330
    },
    "id": "Ze5Cwr_lU2f6",
    "outputId": "a299e577-1dbd-451f-c026-79d3b89bf9d8"
   },
   "outputs": [],
   "source": [
    "so[(so['score'] >= 5) & (so['ans_name'] == 'Scott Boston')].head()"
   ]
  },
  {
   "cell_type": "markdown",
   "metadata": {
    "colab_type": "text",
    "id": "elNj2nGLU2gA"
   },
   "source": [
    "For the `or` condition, we use the pipe `|`"
   ]
  },
  {
   "cell_type": "code",
   "execution_count": null,
   "metadata": {
    "colab": {
     "base_uri": "https://localhost:8080/",
     "height": 289
    },
    "colab_type": "code",
    "executionInfo": {
     "elapsed": 658,
     "status": "ok",
     "timestamp": 1566296178633,
     "user": {
      "displayName": "Ai Adventures",
      "photoUrl": "https://lh3.googleusercontent.com/-OQdAjp2vMZo/AAAAAAAAAAI/AAAAAAAAAA8/8FVq41kVT5s/s64/photo.jpg",
      "userId": "14635366068755244481"
     },
     "user_tz": -330
    },
    "id": "_zLmV6SaU2gD",
    "outputId": "10cb392e-d371-4b65-8602-68c6ea77f94d"
   },
   "outputs": [],
   "source": [
    "so[(so['score'] >= 100) | (so['answercount'] >= 10)].head()"
   ]
  },
  {
   "cell_type": "markdown",
   "metadata": {
    "colab_type": "text",
    "id": "cIj4EMSWU2gJ"
   },
   "source": [
    "### Reversing a condition\n",
    "\n",
    "The tilde character `~` represents the `not` operator and reverses a condition. For instance, if we wanted all the questions with score greater than 100, we could do it like this:"
   ]
  },
  {
   "cell_type": "code",
   "execution_count": null,
   "metadata": {
    "colab": {
     "base_uri": "https://localhost:8080/",
     "height": 289
    },
    "colab_type": "code",
    "executionInfo": {
     "elapsed": 1114,
     "status": "ok",
     "timestamp": 1566296181409,
     "user": {
      "displayName": "Ai Adventures",
      "photoUrl": "https://lh3.googleusercontent.com/-OQdAjp2vMZo/AAAAAAAAAAI/AAAAAAAAAA8/8FVq41kVT5s/s64/photo.jpg",
      "userId": "14635366068755244481"
     },
     "user_tz": -330
    },
    "id": "l-zwBz8IU2gK",
    "outputId": "21288278-ed6b-4bad-dcdc-3ed7be601d39"
   },
   "outputs": [],
   "source": [
    "so[~(so['score'] <= 100)].head()"
   ]
  },
  {
   "cell_type": "markdown",
   "metadata": {
    "colab_type": "text",
    "id": "-_e3QnJmU2gR"
   },
   "source": [
    "### Complex conditions\n",
    "It is possible to build extremely complex conditions to select rows of your DataFrame that meet a very specific criteria. For instance, we can select all questions answered by Scott Boston with **`score`** 5 or more OR questions answered by Ted Petrou with answer count 5 or more.\n",
    "\n",
    "With multiple conditions, its probably best to break out the logic into multiple steps:"
   ]
  },
  {
   "cell_type": "code",
   "execution_count": null,
   "metadata": {
    "colab": {
     "base_uri": "https://localhost:8080/",
     "height": 337
    },
    "colab_type": "code",
    "executionInfo": {
     "elapsed": 1140,
     "status": "ok",
     "timestamp": 1566296183655,
     "user": {
      "displayName": "Ai Adventures",
      "photoUrl": "https://lh3.googleusercontent.com/-OQdAjp2vMZo/AAAAAAAAAAI/AAAAAAAAAA8/8FVq41kVT5s/s64/photo.jpg",
      "userId": "14635366068755244481"
     },
     "user_tz": -330
    },
    "id": "pPT7P9AeU2gR",
    "outputId": "eb284044-7040-4bbc-85c1-7b6aa325c408"
   },
   "outputs": [],
   "source": [
    "criteria_1 = (so['score'] >= 5) & (so['ans_name'] == 'Scott Boston')\n",
    "criteria_2 = (so['answercount'] >= 5) & (so['ans_name'] == 'Ted Petrou')\n",
    "criteria_all = criteria_1 | criteria_2\n",
    "so[criteria_all].head()"
   ]
  },
  {
   "cell_type": "markdown",
   "metadata": {
    "colab_type": "text",
    "id": "xBduJH7vU2gZ"
   },
   "source": [
    "#### Usage of `isin()`method \n",
    "For instance, let's say we wanted to find all the questions answered by Scott Boston, Ted Petrou, MaxU, and unutbu.\n",
    "\n",
    "One way to do this would be with four `or` conditions.\n",
    "\n",
    "```Python\n",
    "criteria = ((so['ans_name'] == 'Scott Boston') | (so['ans_name'] == 'Ted Petrou') | \n",
    "            (so['ans_name'] == 'MaxU') | (so['ans_name'] == 'unutbu'))\n",
    "```\n",
    "\n",
    "An easier way is to use the Series method `isin`. Pass it a list of all the items you want to check for equality."
   ]
  },
  {
   "cell_type": "code",
   "execution_count": null,
   "metadata": {
    "colab": {
     "base_uri": "https://localhost:8080/",
     "height": 119
    },
    "colab_type": "code",
    "executionInfo": {
     "elapsed": 1140,
     "status": "ok",
     "timestamp": 1566296184960,
     "user": {
      "displayName": "Ai Adventures",
      "photoUrl": "https://lh3.googleusercontent.com/-OQdAjp2vMZo/AAAAAAAAAAI/AAAAAAAAAA8/8FVq41kVT5s/s64/photo.jpg",
      "userId": "14635366068755244481"
     },
     "user_tz": -330
    },
    "id": "K8LrLszoU2ga",
    "outputId": "0d8d2d8b-db11-40f6-a352-45f97755bea2"
   },
   "outputs": [],
   "source": [
    "criteria = so['ans_name'].isin(['Scott Boston', 'Ted Petrou', 'MaxU', 'unutbu'])\n",
    "criteria.head()"
   ]
  },
  {
   "cell_type": "code",
   "execution_count": null,
   "metadata": {
    "colab": {
     "base_uri": "https://localhost:8080/",
     "height": 289
    },
    "colab_type": "code",
    "executionInfo": {
     "elapsed": 1014,
     "status": "ok",
     "timestamp": 1566296185895,
     "user": {
      "displayName": "Ai Adventures",
      "photoUrl": "https://lh3.googleusercontent.com/-OQdAjp2vMZo/AAAAAAAAAAI/AAAAAAAAAA8/8FVq41kVT5s/s64/photo.jpg",
      "userId": "14635366068755244481"
     },
     "user_tz": -330
    },
    "id": "3OIzu3H6U2gc",
    "outputId": "2e952d75-4d1e-4879-f313-8010f6e4cf24"
   },
   "outputs": [],
   "source": [
    "so[criteria].head()"
   ]
  },
  {
   "cell_type": "markdown",
   "metadata": {
    "colab_type": "text",
    "id": "eVRq_gOuU2gh"
   },
   "source": [
    "#### Combining `isin()` methods \n",
    "\n",
    "You can use the resulting boolean Series from the `isin` method in the same way you would from the logical operators. For instance, If we wanted to find all the questions answered by the people above and had score greater than 30 we would do the following:"
   ]
  },
  {
   "cell_type": "code",
   "execution_count": null,
   "metadata": {
    "colab": {
     "base_uri": "https://localhost:8080/",
     "height": 289
    },
    "colab_type": "code",
    "executionInfo": {
     "elapsed": 1499,
     "status": "ok",
     "timestamp": 1566296188806,
     "user": {
      "displayName": "Ai Adventures",
      "photoUrl": "https://lh3.googleusercontent.com/-OQdAjp2vMZo/AAAAAAAAAAI/AAAAAAAAAA8/8FVq41kVT5s/s64/photo.jpg",
      "userId": "14635366068755244481"
     },
     "user_tz": -330
    },
    "id": "vYdi52NjU2gi",
    "outputId": "4ff03c13-d763-4e59-fb67-4eeadd5c9a5b"
   },
   "outputs": [],
   "source": [
    "criteria_1 = so['ans_name'].isin(['Scott Boston', 'Ted Petrou', 'MaxU', 'unutbu'])\n",
    "criteria_2 = so['score'] > 30\n",
    "criteria_all = criteria_1 & criteria_2\n",
    "so[criteria_all].tail()"
   ]
  },
  {
   "cell_type": "markdown",
   "metadata": {
    "colab_type": "text",
    "id": "OzL1SkzhU2gm"
   },
   "source": [
    "#### Usage of `isnull()` method\n",
    "\n",
    "The **`isnull`** method returns a boolean Series where True indicates where a missing value is. For instance, questions that do not have an **accepted answer** have missing values for **ans_name**. Let's call `isnull()` on this column."
   ]
  },
  {
   "cell_type": "code",
   "execution_count": null,
   "metadata": {
    "colab": {
     "base_uri": "https://localhost:8080/",
     "height": 136
    },
    "colab_type": "code",
    "executionInfo": {
     "elapsed": 757,
     "status": "ok",
     "timestamp": 1566296190232,
     "user": {
      "displayName": "Ai Adventures",
      "photoUrl": "https://lh3.googleusercontent.com/-OQdAjp2vMZo/AAAAAAAAAAI/AAAAAAAAAA8/8FVq41kVT5s/s64/photo.jpg",
      "userId": "14635366068755244481"
     },
     "user_tz": -330
    },
    "id": "7ZparbPuU2go",
    "outputId": "559304f7-f6ea-44f6-e9aa-3259a69c0d46"
   },
   "outputs": [],
   "source": [
    "no_answer = so['ans_name'].isnull()\n",
    "no_answer.head(6)"
   ]
  },
  {
   "cell_type": "markdown",
   "metadata": {
    "colab_type": "text",
    "id": "HXpZr4pQU2gr"
   },
   "source": [
    "This is just another boolean Series which we can pass to `[ ]`"
   ]
  },
  {
   "cell_type": "code",
   "execution_count": null,
   "metadata": {
    "colab": {
     "base_uri": "https://localhost:8080/",
     "height": 289
    },
    "colab_type": "code",
    "executionInfo": {
     "elapsed": 982,
     "status": "ok",
     "timestamp": 1566296191990,
     "user": {
      "displayName": "Ai Adventures",
      "photoUrl": "https://lh3.googleusercontent.com/-OQdAjp2vMZo/AAAAAAAAAAI/AAAAAAAAAA8/8FVq41kVT5s/s64/photo.jpg",
      "userId": "14635366068755244481"
     },
     "user_tz": -330
    },
    "id": "7Hi5QJOlU2gr",
    "outputId": "cd8cda5d-4fef-4387-8589-f6ae61026cd0"
   },
   "outputs": [],
   "source": [
    "so[no_answer].head()"
   ]
  },
  {
   "cell_type": "markdown",
   "metadata": {
    "colab_type": "text",
    "id": "wwoHsR9tU2gu"
   },
   "source": [
    "An alias of **`isnull()`** is the **`isna()`** method. **Alias** means it is the same exact method with a different name."
   ]
  },
  {
   "cell_type": "markdown",
   "metadata": {
    "colab_type": "text",
    "id": "FUx7luSHU2gv"
   },
   "source": [
    "### Boolean Selection on a Series\n",
    "All the examples thus far have taken place on the **so** DataFrame. Boolean selection on a Series happens almost identically. Since there is only one dimension of data, the queries you ask are usually going to be simpler.\n",
    "\n",
    "First, let's select a single column of data as a Series such as the **commentcount** column."
   ]
  },
  {
   "cell_type": "code",
   "execution_count": null,
   "metadata": {
    "colab": {
     "base_uri": "https://localhost:8080/",
     "height": 119
    },
    "colab_type": "code",
    "executionInfo": {
     "elapsed": 1073,
     "status": "ok",
     "timestamp": 1566296196347,
     "user": {
      "displayName": "Ai Adventures",
      "photoUrl": "https://lh3.googleusercontent.com/-OQdAjp2vMZo/AAAAAAAAAAI/AAAAAAAAAA8/8FVq41kVT5s/s64/photo.jpg",
      "userId": "14635366068755244481"
     },
     "user_tz": -330
    },
    "id": "8keovTNxU2gv",
    "outputId": "d088df2e-2b12-4724-a6fc-264ea3ec1b5e"
   },
   "outputs": [],
   "source": [
    "s = so['commentcount']\n",
    "s.head()"
   ]
  },
  {
   "cell_type": "markdown",
   "metadata": {
    "colab_type": "text",
    "id": "OsWFJuveU2gy"
   },
   "source": [
    "Let's test for number of comments greater than 10"
   ]
  },
  {
   "cell_type": "code",
   "execution_count": null,
   "metadata": {
    "colab": {
     "base_uri": "https://localhost:8080/",
     "height": 119
    },
    "colab_type": "code",
    "executionInfo": {
     "elapsed": 679,
     "status": "ok",
     "timestamp": 1566296197976,
     "user": {
      "displayName": "Ai Adventures",
      "photoUrl": "https://lh3.googleusercontent.com/-OQdAjp2vMZo/AAAAAAAAAAI/AAAAAAAAAA8/8FVq41kVT5s/s64/photo.jpg",
      "userId": "14635366068755244481"
     },
     "user_tz": -330
    },
    "id": "P-lN0IOYU2gz",
    "outputId": "934a8677-63cd-45d0-ef12-b06b52cd13c7"
   },
   "outputs": [],
   "source": [
    "criteria = s > 10\n",
    "criteria.head()"
   ]
  },
  {
   "cell_type": "markdown",
   "metadata": {
    "colab_type": "text",
    "id": "__cCWbJFU2g0"
   },
   "source": [
    "Notice that there is no column selection here as we are already down to a single column. Let's pass this criteria to *[ ]* to select just the values greater than 10."
   ]
  },
  {
   "cell_type": "code",
   "execution_count": null,
   "metadata": {
    "colab": {
     "base_uri": "https://localhost:8080/",
     "height": 119
    },
    "colab_type": "code",
    "executionInfo": {
     "elapsed": 667,
     "status": "ok",
     "timestamp": 1566296199544,
     "user": {
      "displayName": "Ai Adventures",
      "photoUrl": "https://lh3.googleusercontent.com/-OQdAjp2vMZo/AAAAAAAAAAI/AAAAAAAAAA8/8FVq41kVT5s/s64/photo.jpg",
      "userId": "14635366068755244481"
     },
     "user_tz": -330
    },
    "id": "sKi3hQxKU2g1",
    "outputId": "51247769-d241-49a3-9111-6f3417d88d50"
   },
   "outputs": [],
   "source": [
    "s[criteria].head()"
   ]
  },
  {
   "cell_type": "markdown",
   "metadata": {
    "colab_type": "text",
    "id": "tEkav8HRU2g2"
   },
   "source": [
    "We could have done this in one step like this"
   ]
  },
  {
   "cell_type": "code",
   "execution_count": null,
   "metadata": {
    "colab": {
     "base_uri": "https://localhost:8080/",
     "height": 119
    },
    "colab_type": "code",
    "executionInfo": {
     "elapsed": 1162,
     "status": "ok",
     "timestamp": 1566296202293,
     "user": {
      "displayName": "Ai Adventures",
      "photoUrl": "https://lh3.googleusercontent.com/-OQdAjp2vMZo/AAAAAAAAAAI/AAAAAAAAAA8/8FVq41kVT5s/s64/photo.jpg",
      "userId": "14635366068755244481"
     },
     "user_tz": -330
    },
    "id": "7ZMGgfnhU2g3",
    "outputId": "121e9e33-200e-4a62-aeaf-fe8b484fe0e5"
   },
   "outputs": [],
   "source": [
    "s[s > 10].head()"
   ]
  },
  {
   "cell_type": "markdown",
   "metadata": {
    "colab_type": "text",
    "id": "zKKVvEGPU2g5"
   },
   "source": [
    "If we wanted to find those comments greater than 10 but less than 15 we could have used an **and** condition like this:"
   ]
  },
  {
   "cell_type": "code",
   "execution_count": null,
   "metadata": {
    "colab": {
     "base_uri": "https://localhost:8080/",
     "height": 119
    },
    "colab_type": "code",
    "executionInfo": {
     "elapsed": 649,
     "status": "ok",
     "timestamp": 1566296203960,
     "user": {
      "displayName": "Ai Adventures",
      "photoUrl": "https://lh3.googleusercontent.com/-OQdAjp2vMZo/AAAAAAAAAAI/AAAAAAAAAA8/8FVq41kVT5s/s64/photo.jpg",
      "userId": "14635366068755244481"
     },
     "user_tz": -330
    },
    "id": "9ua6GKLiU2g5",
    "outputId": "20ad008b-e007-41c1-d73a-0f68d4c32329"
   },
   "outputs": [],
   "source": [
    "s[(s > 10) & (s < 15)].head()"
   ]
  },
  {
   "cell_type": "markdown",
   "metadata": {
    "colab_type": "text",
    "id": "_Pa8Y5FaU2g8"
   },
   "source": [
    "#### Usage of `between()` method\n",
    "\n",
    "Pandas has lots of duplicate functionality built in to it. Instead of writing two boolean conditions to select all values inside of a range as was done above, you can use the `between()` method to create a boolean Series. To use, pass it the left and right end points of the range. These endpoints are inclusive.\n",
    "\n",
    "So, to replicate the previous example, you could have done this:"
   ]
  },
  {
   "cell_type": "code",
   "execution_count": null,
   "metadata": {
    "colab": {
     "base_uri": "https://localhost:8080/",
     "height": 119
    },
    "colab_type": "code",
    "executionInfo": {
     "elapsed": 710,
     "status": "ok",
     "timestamp": 1566296205904,
     "user": {
      "displayName": "Ai Adventures",
      "photoUrl": "https://lh3.googleusercontent.com/-OQdAjp2vMZo/AAAAAAAAAAI/AAAAAAAAAA8/8FVq41kVT5s/s64/photo.jpg",
      "userId": "14635366068755244481"
     },
     "user_tz": -330
    },
    "id": "mQuTZLl3U2g9",
    "outputId": "ef0a3d26-619d-4a10-91c4-7ef52f08e832"
   },
   "outputs": [],
   "source": [
    "# instead of 's[(s>= 11) & (s<=14)]' you can use 'between()'\n",
    "s[s.between(11, 14)].head()"
   ]
  },
  {
   "cell_type": "markdown",
   "metadata": {
    "colab_type": "text",
    "id": "th8vX-qOU2hB"
   },
   "source": [
    "## Boolean selection with `.loc`\n",
    "\n",
    "Remember that `.loc` takes both a row selection and a column selection separated by a comma. Since the row selection comes first, you can pass it the same exact inputs that you do for `[ ]` and get the same results.\n",
    "\n",
    "Let's take a look at a couple examples from above:"
   ]
  },
  {
   "cell_type": "code",
   "execution_count": null,
   "metadata": {
    "colab": {
     "base_uri": "https://localhost:8080/",
     "height": 289
    },
    "colab_type": "code",
    "executionInfo": {
     "elapsed": 1457,
     "status": "ok",
     "timestamp": 1566296208633,
     "user": {
      "displayName": "Ai Adventures",
      "photoUrl": "https://lh3.googleusercontent.com/-OQdAjp2vMZo/AAAAAAAAAAI/AAAAAAAAAA8/8FVq41kVT5s/s64/photo.jpg",
      "userId": "14635366068755244481"
     },
     "user_tz": -330
    },
    "id": "1t_5WDCCU2hC",
    "outputId": "ffc9f30c-afd3-4619-c1b2-a39c924c0c35"
   },
   "outputs": [],
   "source": [
    "# same as above\n",
    "so.loc[(so['score'] >= 5) & (so['ans_name'] == 'Scott Boston')].head()"
   ]
  },
  {
   "cell_type": "code",
   "execution_count": null,
   "metadata": {
    "colab": {
     "base_uri": "https://localhost:8080/",
     "height": 289
    },
    "colab_type": "code",
    "executionInfo": {
     "elapsed": 913,
     "status": "ok",
     "timestamp": 1566296210161,
     "user": {
      "displayName": "Ai Adventures",
      "photoUrl": "https://lh3.googleusercontent.com/-OQdAjp2vMZo/AAAAAAAAAAI/AAAAAAAAAA8/8FVq41kVT5s/s64/photo.jpg",
      "userId": "14635366068755244481"
     },
     "user_tz": -330
    },
    "id": "nac-5DweU2hG",
    "outputId": "51736cf9-a56e-411c-c717-c6b768b9113a"
   },
   "outputs": [],
   "source": [
    "# same as above\n",
    "criteria = so['ans_name'].isin(['Scott Boston', 'Ted Petrou', 'MaxU', 'unutbu'])\n",
    "so.loc[criteria].head()"
   ]
  },
  {
   "cell_type": "markdown",
   "metadata": {
    "colab_type": "text",
    "id": "9Eh8I04ZU2hM"
   },
   "source": [
    "#### Separate row & column selection \n",
    "\n",
    "The great benefit of `.loc` is that it allows you to simultaneously do boolean selection along the rows and make column selections by label.\n",
    "\n",
    "For instance, let's say we wanted to find all the questions with more than 20k views but only return the **creationdate**, **viewcount**, and **ans_name** columns. You would do the following."
   ]
  },
  {
   "cell_type": "code",
   "execution_count": null,
   "metadata": {
    "colab": {
     "base_uri": "https://localhost:8080/",
     "height": 359
    },
    "colab_type": "code",
    "executionInfo": {
     "elapsed": 951,
     "status": "ok",
     "timestamp": 1566296211501,
     "user": {
      "displayName": "Ai Adventures",
      "photoUrl": "https://lh3.googleusercontent.com/-OQdAjp2vMZo/AAAAAAAAAAI/AAAAAAAAAA8/8FVq41kVT5s/s64/photo.jpg",
      "userId": "14635366068755244481"
     },
     "user_tz": -330
    },
    "id": "3-5n-QzBU2hN",
    "outputId": "34b4ef2d-9732-4ce9-b776-19089f806afa"
   },
   "outputs": [],
   "source": [
    "so.loc[so['viewcount'] > 20000, ['creationdate', 'viewcount','ans_name']].head(10)"
   ]
  },
  {
   "cell_type": "markdown",
   "metadata": {
    "colab_type": "text",
    "id": "DZaBKSZ3U2hP"
   },
   "source": [
    "You could have broken each selection into pieces like this:\n",
    "\n",
    "```{code-block}python\n",
    "\n",
    "row_selection = so['viewcount'] > 20000\n",
    "col_selection = ['creationdate', 'viewcount', 'ans_name']\n",
    "so.loc[row_selection, col_selection]\n",
    "```"
   ]
  },
  {
   "cell_type": "markdown",
   "metadata": {
    "colab_type": "text",
    "id": "Cfw1mukgU2hP"
   },
   "source": [
    "#### Combinations with `.loc`\n",
    "\n",
    "Remember that **`.loc`** can take a string, a list of strings or a slice. You can use all three possible ways to select your data. You can also make very complex boolean selections for your rows.\n",
    "\n",
    "Let's select rows with **favoritecount** between 30 and 40 and every third column beginning from **title** to the end."
   ]
  },
  {
   "cell_type": "code",
   "execution_count": null,
   "metadata": {
    "colab": {
     "base_uri": "https://localhost:8080/",
     "height": 204
    },
    "colab_type": "code",
    "executionInfo": {
     "elapsed": 1035,
     "status": "ok",
     "timestamp": 1566296215528,
     "user": {
      "displayName": "Ai Adventures",
      "photoUrl": "https://lh3.googleusercontent.com/-OQdAjp2vMZo/AAAAAAAAAAI/AAAAAAAAAA8/8FVq41kVT5s/s64/photo.jpg",
      "userId": "14635366068755244481"
     },
     "user_tz": -330
    },
    "id": "cLPLvgvBU2hQ",
    "outputId": "f7b280a7-1196-4b71-bd5f-0443ce068e55"
   },
   "outputs": [],
   "source": [
    "# weird but possible\n",
    "so.loc[so.loc[:, 'favoritecount'].between(30, 40),'title'::3].head()"
   ]
  },
  {
   "cell_type": "markdown",
   "metadata": {
    "colab_type": "text",
    "id": "Rt__mcsdU2hR"
   },
   "source": [
    "#### Boolean selection on columns?\n",
    "\n",
    "It is actually possible to use a sequence of booleans to select columns. You pass a list, Series, or array of booleans the same length as the number of columns to `.loc`.\n",
    "\n",
    "Let's do a simple manual example where we create a list of booleans by hand. First, let's find out how many columns are in our dataset"
   ]
  },
  {
   "cell_type": "code",
   "execution_count": null,
   "metadata": {
    "colab": {
     "base_uri": "https://localhost:8080/",
     "height": 34
    },
    "colab_type": "code",
    "executionInfo": {
     "elapsed": 1277,
     "status": "ok",
     "timestamp": 1566296218439,
     "user": {
      "displayName": "Ai Adventures",
      "photoUrl": "https://lh3.googleusercontent.com/-OQdAjp2vMZo/AAAAAAAAAAI/AAAAAAAAAA8/8FVq41kVT5s/s64/photo.jpg",
      "userId": "14635366068755244481"
     },
     "user_tz": -330
    },
    "id": "_cu-L4JPU2hT",
    "outputId": "af7549b1-e34a-41eb-9605-99bd85e37c6f"
   },
   "outputs": [],
   "source": [
    "so.shape"
   ]
  },
  {
   "cell_type": "markdown",
   "metadata": {
    "colab_type": "text",
    "id": "i1xUbYYPU2hV"
   },
   "source": [
    "Let's create a list of 12 booleans"
   ]
  },
  {
   "cell_type": "code",
   "execution_count": null,
   "metadata": {
    "colab": {
     "base_uri": "https://localhost:8080/",
     "height": 221
    },
    "colab_type": "code",
    "executionInfo": {
     "elapsed": 1309,
     "status": "ok",
     "timestamp": 1566296221948,
     "user": {
      "displayName": "Ai Adventures",
      "photoUrl": "https://lh3.googleusercontent.com/-OQdAjp2vMZo/AAAAAAAAAAI/AAAAAAAAAA8/8FVq41kVT5s/s64/photo.jpg",
      "userId": "14635366068755244481"
     },
     "user_tz": -330
    },
    "id": "CiJWE1edU2hV",
    "outputId": "d010727c-d798-40df-9e73-64fe097a0874"
   },
   "outputs": [],
   "source": [
    "col_bools = [True, False, False] * 4\n",
    "col_bools"
   ]
  },
  {
   "cell_type": "markdown",
   "metadata": {
    "colab_type": "text",
    "id": "AS4P8stiU2hX"
   },
   "source": [
    "Use **`.loc`** to select all rows with just the *True* columns from **col_bools**."
   ]
  },
  {
   "cell_type": "code",
   "execution_count": null,
   "metadata": {
    "colab": {
     "base_uri": "https://localhost:8080/",
     "height": 204
    },
    "colab_type": "code",
    "executionInfo": {
     "elapsed": 1124,
     "status": "ok",
     "timestamp": 1566296279187,
     "user": {
      "displayName": "Ai Adventures",
      "photoUrl": "https://lh3.googleusercontent.com/-OQdAjp2vMZo/AAAAAAAAAAI/AAAAAAAAAA8/8FVq41kVT5s/s64/photo.jpg",
      "userId": "14635366068755244481"
     },
     "user_tz": -330
    },
    "id": "r8k-SUJtU2hY",
    "outputId": "51a8b08f-528e-4164-f6b1-2fe29e854668"
   },
   "outputs": [],
   "source": [
    "so.loc[:, col_bools].head()"
   ]
  },
  {
   "cell_type": "markdown",
   "metadata": {
    "colab_type": "text",
    "id": "QSrALVWCU2hZ"
   },
   "source": [
    "You can simultaneously select rows and columns too. Let's select the same columns but for rows that have over *500,000* views."
   ]
  },
  {
   "cell_type": "code",
   "execution_count": null,
   "metadata": {
    "colab": {
     "base_uri": "https://localhost:8080/",
     "height": 235
    },
    "colab_type": "code",
    "executionInfo": {
     "elapsed": 1310,
     "status": "ok",
     "timestamp": 1566296288568,
     "user": {
      "displayName": "Ai Adventures",
      "photoUrl": "https://lh3.googleusercontent.com/-OQdAjp2vMZo/AAAAAAAAAAI/AAAAAAAAAA8/8FVq41kVT5s/s64/photo.jpg",
      "userId": "14635366068755244481"
     },
     "user_tz": -330
    },
    "id": "Ij6Cz_I9U2ha",
    "outputId": "1089a3ad-1404-42e9-d08e-f7659e4ec5ff"
   },
   "outputs": [],
   "source": [
    "so.loc[so['viewcount'] > 500000, col_bools]"
   ]
  },
  {
   "cell_type": "markdown",
   "metadata": {
    "colab_type": "text",
    "id": "QGthIJsDU2he"
   },
   "source": [
    "#### Column to column comparisons\n",
    "All of the previous chapter comparisons happened against a single scalar value. It is possible to create a boolean Series by comparing one column to another. For instance, we can find all the questions where there are more answers than **score**."
   ]
  },
  {
   "cell_type": "code",
   "execution_count": null,
   "metadata": {
    "colab": {
     "base_uri": "https://localhost:8080/",
     "height": 306
    },
    "colab_type": "code",
    "executionInfo": {
     "elapsed": 1209,
     "status": "ok",
     "timestamp": 1566296296051,
     "user": {
      "displayName": "Ai Adventures",
      "photoUrl": "https://lh3.googleusercontent.com/-OQdAjp2vMZo/AAAAAAAAAAI/AAAAAAAAAA8/8FVq41kVT5s/s64/photo.jpg",
      "userId": "14635366068755244481"
     },
     "user_tz": -330
    },
    "id": "wiKO9HjzU2he",
    "outputId": "dc3f77c4-0cc4-4fe1-a844-17d1987fb29a"
   },
   "outputs": [],
   "source": [
    "criteria = so['answercount'] > so['score']\n",
    "so[criteria].head()"
   ]
  },
  {
   "cell_type": "markdown",
   "metadata": {
    "colab_type": "text",
    "id": "udk8fpe8U2hg"
   },
   "source": [
    "In one line, the above would have looked like this:\n",
    "\n",
    "```{code-block}python\n",
    "so[so['answercount'] > so['score']]\n",
    "```"
   ]
  },
  {
   "cell_type": "markdown",
   "metadata": {
    "colab_type": "text",
    "id": "d1u0eHoiU2hh"
   },
   "source": [
    "### Boolean selection with `.iloc`\n",
    "\n",
    "First, remember that `.iloc` uses INTEGER location to make its selections. \n",
    "\n",
    "You will rarely use `.iloc` to do boolean selection and almost always use `[ ]` or `.loc` To see why, let's try and run a simple boolean selection to find all the rows that have more than *100,000* views."
   ]
  },
  {
   "cell_type": "code",
   "execution_count": null,
   "metadata": {
    "colab": {
     "base_uri": "https://localhost:8080/",
     "height": 307
    },
    "colab_type": "code",
    "executionInfo": {
     "elapsed": 1269,
     "status": "error",
     "timestamp": 1566296304141,
     "user": {
      "displayName": "Ai Adventures",
      "photoUrl": "https://lh3.googleusercontent.com/-OQdAjp2vMZo/AAAAAAAAAAI/AAAAAAAAAA8/8FVq41kVT5s/s64/photo.jpg",
      "userId": "14635366068755244481"
     },
     "user_tz": -330
    },
    "id": "DpXiPOBUU2hh",
    "outputId": "7138ee63-417c-41b1-eaf6-8232d91e30c5"
   },
   "outputs": [],
   "source": [
    "so.iloc[so['viewcount'] > 100000]"
   ]
  },
  {
   "cell_type": "markdown",
   "metadata": {
    "colab_type": "text",
    "id": "6Mzugpa_U2ho"
   },
   "source": [
    "***NotImplementedError***\n",
    "\n",
    "The pandas developers have not decided to boolean selection (with a Series) for `.iloc` so it does not work. You can however convert the Series to a list or a NumPy array as a workaround. We don't think we ever have to used `.iloc` for boolean selection as its not implemented for Series."
   ]
  },
  {
   "cell_type": "markdown",
   "metadata": {
    "colab_type": "text",
    "id": "iga8KRdDU2iF"
   },
   "source": [
    "### Similarity in `[]` & `.loc`\n",
    "\n",
    "Boolean selection will work identically for `.loc` as it does with `[ ]` on a Series. Both the indexers do row selection when passed a boolean Series. Since Series don't have columns, the two indexers are identical in this situation."
   ]
  },
  {
   "cell_type": "code",
   "execution_count": null,
   "metadata": {
    "colab": {},
    "colab_type": "code",
    "id": "oGM9NDWaU2iG"
   },
   "outputs": [],
   "source": [
    "s = so['score']"
   ]
  },
  {
   "cell_type": "code",
   "execution_count": null,
   "metadata": {
    "colab": {
     "base_uri": "https://localhost:8080/",
     "height": 119
    },
    "colab_type": "code",
    "executionInfo": {
     "elapsed": 1317,
     "status": "ok",
     "timestamp": 1566296453064,
     "user": {
      "displayName": "Ai Adventures",
      "photoUrl": "https://lh3.googleusercontent.com/-OQdAjp2vMZo/AAAAAAAAAAI/AAAAAAAAAA8/8FVq41kVT5s/s64/photo.jpg",
      "userId": "14635366068755244481"
     },
     "user_tz": -330
    },
    "id": "koHfZuifU2iJ",
    "outputId": "05c3d704-ff4c-4d30-805d-0e0b432f4bbe"
   },
   "outputs": [],
   "source": [
    "s[s > 100].head()"
   ]
  },
  {
   "cell_type": "code",
   "execution_count": null,
   "metadata": {
    "colab": {
     "base_uri": "https://localhost:8080/",
     "height": 119
    },
    "colab_type": "code",
    "executionInfo": {
     "elapsed": 789,
     "status": "ok",
     "timestamp": 1566296453482,
     "user": {
      "displayName": "Ai Adventures",
      "photoUrl": "https://lh3.googleusercontent.com/-OQdAjp2vMZo/AAAAAAAAAAI/AAAAAAAAAA8/8FVq41kVT5s/s64/photo.jpg",
      "userId": "14635366068755244481"
     },
     "user_tz": -330
    },
    "id": "wfc3t1HFU2iL",
    "outputId": "e2aa9414-3a12-42ed-9b4d-adb327fefd2e"
   },
   "outputs": [],
   "source": [
    "s.loc[s > 100].head()"
   ]
  },
  {
   "cell_type": "markdown",
   "metadata": {
    "colab_type": "text",
    "id": "S_UCmOG5U2iM"
   },
   "source": [
    "## Conclusion\n",
    "### Exercise\n",
    "Boolean selection is difficult at first and the syntax is somewhat clunky. It will take some time to master. [This exercise](../nbs/Pandas_Exercise.html#boolean-indexing-exercise) will start easy and progressively become more difficult.\n",
    "\n",
    "### Further Reading\n",
    "\n",
    "We will always recommend reading the official documentation in addition to this.\n",
    "\n",
    "The documentation use the term **boolean indexing** but you will also see **boolean selection**.\n",
    "\n",
    "[Boolean Indexing from pandas documentation](http://pandas.pydata.org/pandas-docs/stable/indexing.html#boolean-indexing)"
   ]
  }
 ],
 "metadata": {
  "colab": {
   "collapsed_sections": [
    "qfSIvMpqU2eA",
    "oVseiki7U2eB",
    "1HJgQ6z2U2eI",
    "cxvhkTbXU2eY",
    "gQXUcKmNU2eg",
    "-b0fTuLKU2ev",
    "GLmgifuYU2ew",
    "XIT0nryGU2e4",
    "oGOsrtnAU2fD",
    "sKuRIpiEU2fF",
    "JabXLaIkU2fK",
    "tsTaUmDYU2fN",
    "DOpy4ZGvU2f5",
    "elNj2nGLU2gA",
    "cIj4EMSWU2gJ",
    "-_e3QnJmU2gR",
    "xBduJH7vU2gZ",
    "eVRq_gOuU2gh",
    "OzL1SkzhU2gm",
    "FUx7luSHU2gv",
    "_Pa8Y5FaU2g8",
    "th8vX-qOU2hB",
    "9Eh8I04ZU2hM",
    "Cfw1mukgU2hP",
    "Rt__mcsdU2hR",
    "QGthIJsDU2he",
    "d1u0eHoiU2hh",
    "6Mzugpa_U2ho",
    "iga8KRdDU2iF",
    "lYfPpZJrU2iM",
    "S_UCmOG5U2iM",
    "egcMZtGzU2iN",
    "sCFUJ7DCU2iS",
    "_m-5d0UFU2iT",
    "AbBUOAuTU2iU",
    "5X5MNOzrU2iW",
    "kO3Pr6bUU2iY",
    "ky3Ivz9LU2ia",
    "HM8KRUNCU2ic",
    "cyj1n41dU2ie",
    "ammLA5GlU2ih",
    "gGZqgTkxU2ih",
    "P0iVULJfU2ik",
    "aRBWWclpU2in",
    "KMOu2EVlU2iq",
    "PdKnVWoAU2is",
    "9ir7IYGFU2iv"
   ],
   "name": "5. Boolean Indexing.ipynb",
   "provenance": []
  },
  "kernelspec": {
   "display_name": "Python 3 (ipykernel)",
   "language": "python",
   "name": "python3"
  },
  "language_info": {
   "codemirror_mode": {
    "name": "ipython",
    "version": 3
   },
   "file_extension": ".py",
   "mimetype": "text/x-python",
   "name": "python",
   "nbconvert_exporter": "python",
   "pygments_lexer": "ipython3",
   "version": "3.9.13"
  }
 },
 "nbformat": 4,
 "nbformat_minor": 4
}
